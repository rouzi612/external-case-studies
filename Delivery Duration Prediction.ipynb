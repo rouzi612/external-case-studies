{
 "cells": [
  {
   "cell_type": "markdown",
   "metadata": {},
   "source": [
    "# Delivery Duration Prediction"
   ]
  },
  {
   "cell_type": "markdown",
   "metadata": {},
   "source": [
    "## Assignment\n",
    "When a consumer places an order on DoorDash, we show the expected time of delivery. It is very important for DoorDash to get this right, as it has a big impact on consumer experience. In this exercise, you will build a model to predict the estimated time taken for a delivery.\n",
    "\n",
    "Concretely, for a given delivery you must predict the total delivery duration seconds , i.e., the time taken from\n",
    "\n",
    "- Start: the time consumer submits the order (created_at) to\n",
    "- End: when the order will be delivered to the consumer (actual_delivery_time)"
   ]
  },
  {
   "cell_type": "code",
   "execution_count": 83,
   "metadata": {},
   "outputs": [],
   "source": [
    "import pandas as pd\n",
    "import numpy as np\n",
    "import matplotlib.pyplot as plt\n",
    "import seaborn as sns\n",
    "from datetime  import datetime"
   ]
  },
  {
   "cell_type": "markdown",
   "metadata": {},
   "source": [
    "## 1. Load and Explore the Data"
   ]
  },
  {
   "cell_type": "code",
   "execution_count": 84,
   "metadata": {},
   "outputs": [],
   "source": [
    "data = pd.read_csv('/Users/rosiebai/Downloads/datasets 4/historical_data.csv')"
   ]
  },
  {
   "cell_type": "code",
   "execution_count": 85,
   "metadata": {},
   "outputs": [
    {
     "data": {
      "text/html": [
       "<div>\n",
       "<style scoped>\n",
       "    .dataframe tbody tr th:only-of-type {\n",
       "        vertical-align: middle;\n",
       "    }\n",
       "\n",
       "    .dataframe tbody tr th {\n",
       "        vertical-align: top;\n",
       "    }\n",
       "\n",
       "    .dataframe thead th {\n",
       "        text-align: right;\n",
       "    }\n",
       "</style>\n",
       "<table border=\"1\" class=\"dataframe\">\n",
       "  <thead>\n",
       "    <tr style=\"text-align: right;\">\n",
       "      <th></th>\n",
       "      <th>market_id</th>\n",
       "      <th>created_at</th>\n",
       "      <th>actual_delivery_time</th>\n",
       "      <th>store_id</th>\n",
       "      <th>store_primary_category</th>\n",
       "      <th>order_protocol</th>\n",
       "      <th>total_items</th>\n",
       "      <th>subtotal</th>\n",
       "      <th>num_distinct_items</th>\n",
       "      <th>min_item_price</th>\n",
       "      <th>max_item_price</th>\n",
       "      <th>total_onshift_dashers</th>\n",
       "      <th>total_busy_dashers</th>\n",
       "      <th>total_outstanding_orders</th>\n",
       "      <th>estimated_order_place_duration</th>\n",
       "      <th>estimated_store_to_consumer_driving_duration</th>\n",
       "    </tr>\n",
       "  </thead>\n",
       "  <tbody>\n",
       "    <tr>\n",
       "      <th>0</th>\n",
       "      <td>1.0</td>\n",
       "      <td>2015-02-06 22:24:17</td>\n",
       "      <td>2015-02-06 23:27:16</td>\n",
       "      <td>1845</td>\n",
       "      <td>american</td>\n",
       "      <td>1.0</td>\n",
       "      <td>4</td>\n",
       "      <td>3441</td>\n",
       "      <td>4</td>\n",
       "      <td>557</td>\n",
       "      <td>1239</td>\n",
       "      <td>33.0</td>\n",
       "      <td>14.0</td>\n",
       "      <td>21.0</td>\n",
       "      <td>446</td>\n",
       "      <td>861.0</td>\n",
       "    </tr>\n",
       "    <tr>\n",
       "      <th>1</th>\n",
       "      <td>2.0</td>\n",
       "      <td>2015-02-10 21:49:25</td>\n",
       "      <td>2015-02-10 22:56:29</td>\n",
       "      <td>5477</td>\n",
       "      <td>mexican</td>\n",
       "      <td>2.0</td>\n",
       "      <td>1</td>\n",
       "      <td>1900</td>\n",
       "      <td>1</td>\n",
       "      <td>1400</td>\n",
       "      <td>1400</td>\n",
       "      <td>1.0</td>\n",
       "      <td>2.0</td>\n",
       "      <td>2.0</td>\n",
       "      <td>446</td>\n",
       "      <td>690.0</td>\n",
       "    </tr>\n",
       "    <tr>\n",
       "      <th>2</th>\n",
       "      <td>3.0</td>\n",
       "      <td>2015-01-22 20:39:28</td>\n",
       "      <td>2015-01-22 21:09:09</td>\n",
       "      <td>5477</td>\n",
       "      <td>NaN</td>\n",
       "      <td>1.0</td>\n",
       "      <td>1</td>\n",
       "      <td>1900</td>\n",
       "      <td>1</td>\n",
       "      <td>1900</td>\n",
       "      <td>1900</td>\n",
       "      <td>1.0</td>\n",
       "      <td>0.0</td>\n",
       "      <td>0.0</td>\n",
       "      <td>446</td>\n",
       "      <td>690.0</td>\n",
       "    </tr>\n",
       "    <tr>\n",
       "      <th>3</th>\n",
       "      <td>3.0</td>\n",
       "      <td>2015-02-03 21:21:45</td>\n",
       "      <td>2015-02-03 22:13:00</td>\n",
       "      <td>5477</td>\n",
       "      <td>NaN</td>\n",
       "      <td>1.0</td>\n",
       "      <td>6</td>\n",
       "      <td>6900</td>\n",
       "      <td>5</td>\n",
       "      <td>600</td>\n",
       "      <td>1800</td>\n",
       "      <td>1.0</td>\n",
       "      <td>1.0</td>\n",
       "      <td>2.0</td>\n",
       "      <td>446</td>\n",
       "      <td>289.0</td>\n",
       "    </tr>\n",
       "    <tr>\n",
       "      <th>4</th>\n",
       "      <td>3.0</td>\n",
       "      <td>2015-02-15 02:40:36</td>\n",
       "      <td>2015-02-15 03:20:26</td>\n",
       "      <td>5477</td>\n",
       "      <td>NaN</td>\n",
       "      <td>1.0</td>\n",
       "      <td>3</td>\n",
       "      <td>3900</td>\n",
       "      <td>3</td>\n",
       "      <td>1100</td>\n",
       "      <td>1600</td>\n",
       "      <td>6.0</td>\n",
       "      <td>6.0</td>\n",
       "      <td>9.0</td>\n",
       "      <td>446</td>\n",
       "      <td>650.0</td>\n",
       "    </tr>\n",
       "  </tbody>\n",
       "</table>\n",
       "</div>"
      ],
      "text/plain": [
       "   market_id           created_at actual_delivery_time  store_id  \\\n",
       "0        1.0  2015-02-06 22:24:17  2015-02-06 23:27:16      1845   \n",
       "1        2.0  2015-02-10 21:49:25  2015-02-10 22:56:29      5477   \n",
       "2        3.0  2015-01-22 20:39:28  2015-01-22 21:09:09      5477   \n",
       "3        3.0  2015-02-03 21:21:45  2015-02-03 22:13:00      5477   \n",
       "4        3.0  2015-02-15 02:40:36  2015-02-15 03:20:26      5477   \n",
       "\n",
       "  store_primary_category  order_protocol  total_items  subtotal  \\\n",
       "0               american             1.0            4      3441   \n",
       "1                mexican             2.0            1      1900   \n",
       "2                    NaN             1.0            1      1900   \n",
       "3                    NaN             1.0            6      6900   \n",
       "4                    NaN             1.0            3      3900   \n",
       "\n",
       "   num_distinct_items  min_item_price  max_item_price  total_onshift_dashers  \\\n",
       "0                   4             557            1239                   33.0   \n",
       "1                   1            1400            1400                    1.0   \n",
       "2                   1            1900            1900                    1.0   \n",
       "3                   5             600            1800                    1.0   \n",
       "4                   3            1100            1600                    6.0   \n",
       "\n",
       "   total_busy_dashers  total_outstanding_orders  \\\n",
       "0                14.0                      21.0   \n",
       "1                 2.0                       2.0   \n",
       "2                 0.0                       0.0   \n",
       "3                 1.0                       2.0   \n",
       "4                 6.0                       9.0   \n",
       "\n",
       "   estimated_order_place_duration  \\\n",
       "0                             446   \n",
       "1                             446   \n",
       "2                             446   \n",
       "3                             446   \n",
       "4                             446   \n",
       "\n",
       "   estimated_store_to_consumer_driving_duration  \n",
       "0                                         861.0  \n",
       "1                                         690.0  \n",
       "2                                         690.0  \n",
       "3                                         289.0  \n",
       "4                                         650.0  "
      ]
     },
     "execution_count": 85,
     "metadata": {},
     "output_type": "execute_result"
    }
   ],
   "source": [
    "data.head()"
   ]
  },
  {
   "cell_type": "code",
   "execution_count": 86,
   "metadata": {},
   "outputs": [
    {
     "data": {
      "text/plain": [
       "(197428, 16)"
      ]
     },
     "execution_count": 86,
     "metadata": {},
     "output_type": "execute_result"
    }
   ],
   "source": [
    "data.shape"
   ]
  },
  {
   "cell_type": "code",
   "execution_count": 87,
   "metadata": {},
   "outputs": [
    {
     "data": {
      "text/plain": [
       "market_id                                         987\n",
       "created_at                                          0\n",
       "actual_delivery_time                                7\n",
       "store_id                                            0\n",
       "store_primary_category                           4760\n",
       "order_protocol                                    995\n",
       "total_items                                         0\n",
       "subtotal                                            0\n",
       "num_distinct_items                                  0\n",
       "min_item_price                                      0\n",
       "max_item_price                                      0\n",
       "total_onshift_dashers                           16262\n",
       "total_busy_dashers                              16262\n",
       "total_outstanding_orders                        16262\n",
       "estimated_order_place_duration                      0\n",
       "estimated_store_to_consumer_driving_duration      526\n",
       "dtype: int64"
      ]
     },
     "execution_count": 87,
     "metadata": {},
     "output_type": "execute_result"
    }
   ],
   "source": [
    "# check missing values \n",
    "data.isna().sum()"
   ]
  },
  {
   "cell_type": "code",
   "execution_count": 88,
   "metadata": {},
   "outputs": [
    {
     "data": {
      "text/plain": [
       "market_id                                       float64\n",
       "created_at                                       object\n",
       "actual_delivery_time                             object\n",
       "store_id                                          int64\n",
       "store_primary_category                           object\n",
       "order_protocol                                  float64\n",
       "total_items                                       int64\n",
       "subtotal                                          int64\n",
       "num_distinct_items                                int64\n",
       "min_item_price                                    int64\n",
       "max_item_price                                    int64\n",
       "total_onshift_dashers                           float64\n",
       "total_busy_dashers                              float64\n",
       "total_outstanding_orders                        float64\n",
       "estimated_order_place_duration                    int64\n",
       "estimated_store_to_consumer_driving_duration    float64\n",
       "dtype: object"
      ]
     },
     "execution_count": 88,
     "metadata": {},
     "output_type": "execute_result"
    }
   ],
   "source": [
    "data.dtypes"
   ]
  },
  {
   "cell_type": "code",
   "execution_count": 89,
   "metadata": {},
   "outputs": [],
   "source": [
    "data['created_at'] = pd.to_datetime(data['created_at'])\n",
    "data['actual_delivery_time'] = pd.to_datetime(data['actual_delivery_time'])"
   ]
  },
  {
   "cell_type": "markdown",
   "metadata": {},
   "source": [
    "## 2. Feature Engineering"
   ]
  },
  {
   "cell_type": "markdown",
   "metadata": {},
   "source": [
    "Create new features that might help your model:\n",
    "- delivery_duration (target)\n",
    "- Time of day / day of week / hour from created_at\n",
    "- Estimate preparation time, delivery distance, or order size if possible\n",
    "- Categorical encoding: store_id, market_id, order_protocol"
   ]
  },
  {
   "cell_type": "code",
   "execution_count": 90,
   "metadata": {},
   "outputs": [],
   "source": [
    "# Target Variable \n",
    "data['delivery_duration'] = (data.actual_delivery_time - data.created_at).dt.total_seconds()"
   ]
  },
  {
   "cell_type": "code",
   "execution_count": 91,
   "metadata": {},
   "outputs": [],
   "source": [
    "# timestamp features: created_at, actual_delivery_time\n",
    "# id features: market_id, store_id\n",
    "# numeric features: \n",
    "#   - order features: total_items, subtotal, min_item_price, max_item_price \n",
    "#   - dasher features: total_onshift_dashers, total_busy_dashers, total_outstanding_orders\n",
    "# delivery features: estimated_order_place_duration, estimated_store_to_consumer_driving_duration\n",
    "# categorical features: store_primary_category, order_protocol \n"
   ]
  },
  {
   "cell_type": "code",
   "execution_count": 92,
   "metadata": {},
   "outputs": [],
   "source": [
    "data['order_dow'] = data['created_at'].dt.day_of_week\n",
    "data['order_hour'] = data['created_at'].dt.hour\n",
    "data['is_weekend'] = np.where(data['order_dow'] >= 5,1,0)"
   ]
  },
  {
   "cell_type": "code",
   "execution_count": 93,
   "metadata": {},
   "outputs": [
    {
     "data": {
      "text/plain": [
       "count    196902.000000\n",
       "mean        545.358935\n",
       "std         219.352902\n",
       "min           0.000000\n",
       "25%         382.000000\n",
       "50%         544.000000\n",
       "75%         702.000000\n",
       "max        2088.000000\n",
       "Name: estimated_store_to_consumer_driving_duration, dtype: float64"
      ]
     },
     "execution_count": 93,
     "metadata": {},
     "output_type": "execute_result"
    }
   ],
   "source": [
    "data['estimated_store_to_consumer_driving_duration'].describe()"
   ]
  },
  {
   "cell_type": "code",
   "execution_count": 94,
   "metadata": {},
   "outputs": [
    {
     "data": {
      "text/plain": [
       "array([22, 21, 20,  2,  3,  0,  1, 19,  4, 23,  5, 18,  6, 17, 16, 15, 14,\n",
       "        7,  8], dtype=int32)"
      ]
     },
     "execution_count": 94,
     "metadata": {},
     "output_type": "execute_result"
    }
   ],
   "source": [
    "data['order_hour'].unique()"
   ]
  },
  {
   "cell_type": "code",
   "execution_count": 95,
   "metadata": {},
   "outputs": [
    {
     "data": {
      "text/plain": [
       "6743"
      ]
     },
     "execution_count": 95,
     "metadata": {},
     "output_type": "execute_result"
    }
   ],
   "source": [
    "data['store_id'].nunique()"
   ]
  },
  {
   "cell_type": "code",
   "execution_count": 96,
   "metadata": {},
   "outputs": [
    {
     "data": {
      "text/plain": [
       "6"
      ]
     },
     "execution_count": 96,
     "metadata": {},
     "output_type": "execute_result"
    }
   ],
   "source": [
    "data['market_id'].nunique()"
   ]
  },
  {
   "cell_type": "code",
   "execution_count": 113,
   "metadata": {},
   "outputs": [
    {
     "data": {
      "text/plain": [
       "<AxesSubplot:>"
      ]
     },
     "execution_count": 113,
     "metadata": {},
     "output_type": "execute_result"
    },
    {
     "data": {
      "image/png": "[encoded data removed]",
      "text/plain": [
       "<Figure size 432x288 with 1 Axes>"
      ]
     },
     "metadata": {
      "needs_background": "light"
     },
     "output_type": "display_data"
    }
   ],
   "source": [
    "data['market_id'].hist()"
   ]
  },
  {
   "cell_type": "code",
   "execution_count": 97,
   "metadata": {},
   "outputs": [
    {
     "data": {
      "text/plain": [
       "7"
      ]
     },
     "execution_count": 97,
     "metadata": {},
     "output_type": "execute_result"
    }
   ],
   "source": [
    "data['order_protocol'].nunique()"
   ]
  },
  {
   "cell_type": "markdown",
   "metadata": {},
   "source": [
    "## 3. Data Cleaning"
   ]
  },
  {
   "cell_type": "markdown",
   "metadata": {},
   "source": [
    "- Handle missing values\n",
    "- Convert timestamps to datetime\n",
    "- Drop rows with missing targets"
   ]
  },
  {
   "cell_type": "code",
   "execution_count": 98,
   "metadata": {},
   "outputs": [],
   "source": [
    "# store_id: an id representing the restaurant the order was submitted for\n",
    "# store_primary_category: cuisine category of the restaurant, e.g., italian, asian\n",
    "# store_id is not unique, we can impute cusine category according to the store_ids. \n",
    "# I want to:\n",
    "# 1. Build a mapping dictionary from store_id → store_primary_category using rows that already have a category.\n",
    "# 2. Use that dictionary to fill in missing store_primary_category values.\n",
    "# Drop rows where category is missing\n",
    "\n",
    "mapping_dict = (\n",
    "    data.dropna(subset = ['store_primary_category'])\n",
    "        .drop_duplicates(subset = ['store_id'])\n",
    "        .set_index('store_id')['store_primary_category']\n",
    "        .to_dict()\n",
    ")\n",
    "#mapping_dict"
   ]
  },
  {
   "cell_type": "code",
   "execution_count": 99,
   "metadata": {},
   "outputs": [
    {
     "data": {
      "text/plain": [
       "867"
      ]
     },
     "execution_count": 99,
     "metadata": {},
     "output_type": "execute_result"
    }
   ],
   "source": [
    "data['store_primary_category'] = data.apply(\n",
    "    lambda row: mapping_dict.get(row['store_id'], row['store_primary_category']),\n",
    "    axis = 1\n",
    ")\n",
    "data['store_primary_category'].isna().sum()"
   ]
  },
  {
   "cell_type": "code",
   "execution_count": 100,
   "metadata": {},
   "outputs": [
    {
     "data": {
      "text/plain": [
       "197421"
      ]
     },
     "execution_count": 100,
     "metadata": {},
     "output_type": "execute_result"
    }
   ],
   "source": [
    "data = data.dropna(subset = ['actual_delivery_time'])\n",
    "len(data)"
   ]
  },
  {
   "cell_type": "code",
   "execution_count": 101,
   "metadata": {},
   "outputs": [
    {
     "data": {
      "text/plain": [
       "0"
      ]
     },
     "execution_count": 101,
     "metadata": {},
     "output_type": "execute_result"
    }
   ],
   "source": [
    "data['actual_delivery_time'].isna().sum()"
   ]
  },
  {
   "cell_type": "markdown",
   "metadata": {},
   "source": [
    "## 4. Model Training\n",
    "- Linear Regression (baseline)\n"
   ]
  },
  {
   "cell_type": "code",
   "execution_count": 102,
   "metadata": {},
   "outputs": [],
   "source": [
    "# since there are too many variations in store_id, i wouldn't want to include it into the model.\n",
    "encoded = pd.get_dummies(data[['market_id','order_protocol']],\n",
    "                         columns = ['market_id','order_protocol'],\n",
    "                         prefix = ['market', 'protocol']\n",
    "                         )\n",
    "# merge with original dataset\n",
    "data_encoded = pd.concat([data, encoded], axis = 1)\n",
    "# drop original columns\n",
    "data_encoded.drop(['market_id', 'order_protocol'], axis = 1, inplace = True)"
   ]
  },
  {
   "cell_type": "code",
   "execution_count": 103,
   "metadata": {},
   "outputs": [
    {
     "data": {
      "text/plain": [
       "Index(['created_at', 'actual_delivery_time', 'store_id',\n",
       "       'store_primary_category', 'total_items', 'subtotal',\n",
       "       'num_distinct_items', 'min_item_price', 'max_item_price',\n",
       "       'total_onshift_dashers', 'total_busy_dashers',\n",
       "       'total_outstanding_orders', 'estimated_order_place_duration',\n",
       "       'estimated_store_to_consumer_driving_duration', 'delivery_duration',\n",
       "       'order_dow', 'order_hour', 'is_weekend', 'market_1.0', 'market_2.0',\n",
       "       'market_3.0', 'market_4.0', 'market_5.0', 'market_6.0', 'protocol_1.0',\n",
       "       'protocol_2.0', 'protocol_3.0', 'protocol_4.0', 'protocol_5.0',\n",
       "       'protocol_6.0', 'protocol_7.0'],\n",
       "      dtype='object')"
      ]
     },
     "execution_count": 103,
     "metadata": {},
     "output_type": "execute_result"
    }
   ],
   "source": [
    "data_encoded.columns"
   ]
  },
  {
   "cell_type": "code",
   "execution_count": 104,
   "metadata": {},
   "outputs": [
    {
     "name": "stdout",
     "output_type": "stream",
     "text": [
      "[sklearn] MAE:  970.80 seconds\n",
      "[sklearn] RMSE: 42917.50 seconds\n",
      "                                        Feature  Coef (std-scaled X)\n",
      "5  estimated_store_to_consumer_driving_duration           253.720203\n",
      "8                                    is_weekend           182.032644\n",
      "1                                      subtotal           177.377477\n",
      "7                                     order_dow          -159.695663\n",
      "6                                    order_hour          -137.262361\n",
      "4                estimated_order_place_duration           104.709289\n",
      "0                                   total_items            21.313981\n",
      "3                                max_item_price            16.808111\n",
      "2                                min_item_price            -3.477111\n",
      "                            OLS Regression Results                            \n",
      "==============================================================================\n",
      "Dep. Variable:      delivery_duration   R-squared:                       0.056\n",
      "Model:                            OLS   Adj. R-squared:                  0.056\n",
      "Method:                 Least Squares   F-statistic:                     1034.\n",
      "Date:                Fri, 22 Aug 2025   Prob (F-statistic):               0.00\n",
      "Time:                        11:08:52   Log-Likelihood:            -1.3919e+06\n",
      "No. Observations:              157516   AIC:                         2.784e+06\n",
      "Df Residuals:                  157506   BIC:                         2.784e+06\n",
      "Df Model:                           9                                         \n",
      "Covariance Type:            nonrobust                                         \n",
      "==============================================================================\n",
      "                 coef    std err          t      P>|t|      [0.025      0.975]\n",
      "------------------------------------------------------------------------------\n",
      "const       2866.8428      4.196    683.239      0.000    2858.619    2875.067\n",
      "x1            21.3140      5.946      3.585      0.000       9.660      32.968\n",
      "x2           177.3775      6.611     26.830      0.000     164.420     190.335\n",
      "x3            -3.4771      5.557     -0.626      0.531     -14.368       7.414\n",
      "x4            16.8081      6.382      2.634      0.008       4.300      29.316\n",
      "x5           104.7093      4.215     24.841      0.000      96.448     112.971\n",
      "x6           253.7202      4.201     60.390      0.000     245.486     261.955\n",
      "x7          -137.2624      4.299    -31.932      0.000    -145.687    -128.837\n",
      "x8          -159.6957      7.122    -22.423      0.000    -173.655    -145.737\n",
      "x9           182.0326      7.127     25.540      0.000     168.063     196.002\n",
      "==============================================================================\n",
      "Omnibus:                   664270.018   Durbin-Watson:                   2.002\n",
      "Prob(Omnibus):                  0.000   Jarque-Bera (JB):    4230309786003.662\n",
      "Skew:                         120.899   Prob(JB):                         0.00\n",
      "Kurtosis:                   25389.900   Cond. No.                         3.16\n",
      "==============================================================================\n",
      "\n",
      "Notes:\n",
      "[1] Standard Errors assume that the covariance matrix of the errors is correctly specified.\n",
      "                            OLS Regression Results                            \n",
      "==============================================================================\n",
      "Dep. Variable:      delivery_duration   R-squared:                       0.056\n",
      "Model:                            OLS   Adj. R-squared:                  0.056\n",
      "Method:                 Least Squares   F-statistic:                     1386.\n",
      "Date:                Fri, 22 Aug 2025   Prob (F-statistic):               0.00\n",
      "Time:                        11:08:52   Log-Likelihood:            -1.3919e+06\n",
      "No. Observations:              157516   AIC:                         2.784e+06\n",
      "Df Residuals:                  157506   BIC:                         2.784e+06\n",
      "Df Model:                           9                                         \n",
      "Covariance Type:                  HC1                                         \n",
      "==============================================================================\n",
      "                 coef    std err          t      P>|t|      [0.025      0.975]\n",
      "------------------------------------------------------------------------------\n",
      "const       2866.8428      4.196    683.239      0.000    2858.619    2875.067\n",
      "x1            21.3140      6.627      3.216      0.001       8.326      34.302\n",
      "x2           177.3775      6.251     28.375      0.000     165.125     189.630\n",
      "x3            -3.4771      4.621     -0.752      0.452     -12.535       5.581\n",
      "x4            16.8081      4.523      3.716      0.000       7.944      25.672\n",
      "x5           104.7093      3.510     29.833      0.000      97.830     111.588\n",
      "x6           253.7202      3.484     72.818      0.000     246.891     260.549\n",
      "x7          -137.2624      2.973    -46.170      0.000    -143.089    -131.435\n",
      "x8          -159.6957      7.596    -21.024      0.000    -174.583    -144.808\n",
      "x9           182.0326      5.691     31.986      0.000     170.878     193.187\n",
      "==============================================================================\n",
      "Omnibus:                   664270.018   Durbin-Watson:                   2.002\n",
      "Prob(Omnibus):                  0.000   Jarque-Bera (JB):    4230309786003.662\n",
      "Skew:                         120.899   Prob(JB):                         0.00\n",
      "Kurtosis:                   25389.900   Cond. No.                         3.16\n",
      "==============================================================================\n",
      "\n",
      "Notes:\n",
      "[1] Standard Errors are heteroscedasticity robust (HC1)\n",
      "                                           term         coef   std_err  \\\n",
      "0                                         const  2866.842822  4.195962   \n",
      "6  estimated_store_to_consumer_driving_duration   253.720203  3.484330   \n",
      "7                                    order_hour  -137.262361  2.972996   \n",
      "9                                    is_weekend   182.032644  5.691095   \n",
      "5                estimated_order_place_duration   104.709289  3.509835   \n",
      "2                                      subtotal   177.377477  6.251144   \n",
      "8                                     order_dow  -159.695663  7.595810   \n",
      "4                                max_item_price    16.808111  4.522586   \n",
      "1                                   total_items    21.313981  6.626673   \n",
      "3                                min_item_price    -3.477111  4.621459   \n",
      "\n",
      "            t        p_value       ci_low      ci_high  \n",
      "0  683.238568   0.000000e+00  2858.618825  2875.066819  \n",
      "6   72.817510   0.000000e+00   246.890990   260.549416  \n",
      "7  -46.169707   0.000000e+00  -143.089371  -131.435351  \n",
      "9   31.985524  9.093266e-224   170.878218   193.187070  \n",
      "5   29.833108  5.102818e-195    97.830086   111.588492  \n",
      "2   28.375202  1.143866e-176   165.125365   189.629588  \n",
      "8  -21.024177   5.379258e-98  -174.583293  -144.808034  \n",
      "4    3.716483   2.020855e-04     7.943937    25.672284  \n",
      "1    3.216393   1.298393e-03     8.325841    34.302121  \n",
      "3   -0.752384   4.518213e-01   -12.535073     5.580851  \n"
     ]
    }
   ],
   "source": [
    "import numpy as np\n",
    "import pandas as pd\n",
    "\n",
    "from sklearn.model_selection import train_test_split\n",
    "from sklearn.preprocessing import StandardScaler\n",
    "from sklearn.linear_model import LinearRegression\n",
    "from sklearn.metrics import mean_absolute_error, mean_squared_error\n",
    "\n",
    "import statsmodels.api as sm\n",
    "\n",
    "# -----------------------------\n",
    "# 1) Features / Target\n",
    "# -----------------------------\n",
    "features = [\n",
    "    'total_items',\n",
    "    'subtotal',\n",
    "    'min_item_price', 'max_item_price',\n",
    "    'estimated_order_place_duration',\n",
    "    'estimated_store_to_consumer_driving_duration',\n",
    "    'order_hour', 'order_dow', 'is_weekend'\n",
    "]\n",
    "target = 'delivery_duration'  # or 'delivery_duration_seconds'\n",
    "\n",
    "\n",
    "# Drop missing\n",
    "df_model = data.dropna(subset=features + [target]).copy()\n",
    "X = df_model[features]\n",
    "y = df_model[target]\n",
    "\n",
    "# -----------------------------\n",
    "# 2) Train/Test Split\n",
    "# -----------------------------\n",
    "X_train, X_test, y_train, y_test = train_test_split(\n",
    "    X, y, test_size=0.20, random_state=42\n",
    ")\n",
    "\n",
    "# -----------------------------\n",
    "# 3) Standardize Features\n",
    "# -----------------------------\n",
    "scaler = StandardScaler()\n",
    "X_train_scaled = scaler.fit_transform(X_train)\n",
    "X_test_scaled  = scaler.transform(X_test)\n",
    "\n",
    "# -----------------------------\n",
    "# 4) scikit-learn: Fit & Evaluate\n",
    "# -----------------------------\n",
    "lr = LinearRegression()\n",
    "lr.fit(X_train_scaled, y_train)\n",
    "\n",
    "y_pred = lr.predict(X_test_scaled)\n",
    "mae  = mean_absolute_error(y_test, y_pred)\n",
    "rmse = mean_squared_error(y_test, y_pred, squared=False)\n",
    "\n",
    "print(f\"[sklearn] MAE:  {mae:.2f} seconds\")\n",
    "print(f\"[sklearn] RMSE: {rmse:.2f} seconds\")\n",
    "\n",
    "# Coefficients (standardized features)\n",
    "coef_df = pd.DataFrame({\n",
    "    'Feature': features,\n",
    "    'Coef (std-scaled X)': lr.coef_\n",
    "}).sort_values('Coef (std-scaled X)', key=lambda s: s.abs(), ascending=False)\n",
    "print(coef_df)\n",
    "\n",
    "# -----------------------------\n",
    "# 5) statsmodels: p-values on same (scaled) design\n",
    "# -----------------------------\n",
    "# Add constant (intercept)\n",
    "X_train_sm = sm.add_constant(X_train_scaled, has_constant='add')\n",
    "\n",
    "# OLS with conventional SE\n",
    "ols = sm.OLS(y_train, X_train_sm).fit()\n",
    "print(ols.summary())\n",
    "\n",
    "# OPTIONAL: Heteroskedasticity-robust standard errors (recommended for durations)\n",
    "ols_robust = ols.get_robustcov_results(cov_type='HC1')\n",
    "print(ols_robust.summary())\n",
    "\n",
    "# Tidy table with p-values and CIs (robust)\n",
    "results_tbl = pd.DataFrame({\n",
    "    'term': ['const'] + features,\n",
    "    'coef': ols_robust.params,\n",
    "    'std_err': ols_robust.bse,\n",
    "    't': ols_robust.tvalues,\n",
    "    'p_value': ols_robust.pvalues,\n",
    "    'ci_low': ols_robust.conf_int()[:, 0],\n",
    "    'ci_high': ols_robust.conf_int()[:, 1]\n",
    "})\n",
    "print(results_tbl.sort_values('p_value'))\n"
   ]
  },
  {
   "cell_type": "markdown",
   "metadata": {},
   "source": [
    "\n",
    "\n",
    "## 5. Refinement\n",
    "- Hyperparameter tuning\n",
    "- Feature selection\n",
    "- Error analysis (which deliveries are hardest to predict?)\n"
   ]
  },
  {
   "cell_type": "markdown",
   "metadata": {},
   "source": [
    "### Feature selection (adding categorical features)"
   ]
  },
  {
   "cell_type": "code",
   "execution_count": 105,
   "metadata": {},
   "outputs": [
    {
     "name": "stdout",
     "output_type": "stream",
     "text": [
      "MAE:  770.98 seconds\n",
      "RMSE: 1063.07 seconds\n",
      "R²:   0.1085\n"
     ]
    }
   ],
   "source": [
    "\n",
    "\n",
    "import numpy as np\n",
    "import pandas as pd\n",
    "\n",
    "from sklearn.model_selection import train_test_split\n",
    "from sklearn.preprocessing import StandardScaler, OneHotEncoder\n",
    "from sklearn.compose import ColumnTransformer\n",
    "from sklearn.linear_model import LinearRegression\n",
    "from sklearn.pipeline import Pipeline\n",
    "from sklearn.metrics import mean_absolute_error, mean_squared_error\n",
    "\n",
    "# -----------------------------\n",
    "# 1) Features / Target\n",
    "# -----------------------------\n",
    "numeric_features = [\n",
    "    'total_items',\n",
    "    'subtotal',\n",
    "    'min_item_price', 'max_item_price',\n",
    "    'estimated_order_place_duration',\n",
    "    'estimated_store_to_consumer_driving_duration',\n",
    "    'order_hour', 'order_dow', 'is_weekend'\n",
    "]\n",
    "\n",
    "categorical_features = ['market_id', 'order_protocol']\n",
    "\n",
    "target = 'delivery_duration'  # or 'delivery_duration_seconds'\n",
    "\n",
    "\n",
    "# Drop rows with missing values in features or target\n",
    "df_model = data.dropna(subset=numeric_features + categorical_features + [target]).copy()\n",
    "\n",
    "X = df_model[numeric_features + categorical_features]\n",
    "y = df_model[target]\n",
    "\n",
    "# -----------------------------\n",
    "# 2) Preprocessing pipeline\n",
    "# -----------------------------\n",
    "numeric_transformer = StandardScaler()\n",
    "categorical_transformer = OneHotEncoder(handle_unknown='ignore')\n",
    "\n",
    "preprocessor = ColumnTransformer(\n",
    "    transformers=[\n",
    "        ('num', numeric_transformer, numeric_features),\n",
    "        ('cat', categorical_transformer, categorical_features)\n",
    "    ]\n",
    ")\n",
    "\n",
    "# -----------------------------\n",
    "# 3) Full pipeline: preprocess + model\n",
    "# -----------------------------\n",
    "model = Pipeline(steps=[\n",
    "    ('preprocessor', preprocessor),\n",
    "    ('regressor', LinearRegression())\n",
    "])\n",
    "\n",
    "# -----------------------------\n",
    "# 4) Train/Test split\n",
    "# -----------------------------\n",
    "X_train, X_test, y_train, y_test = train_test_split(\n",
    "    X, y, test_size=0.20, random_state=42\n",
    ")\n",
    "\n",
    "# -----------------------------\n",
    "# 5) Fit & Evaluate\n",
    "# -----------------------------\n",
    "model.fit(X_train, y_train)\n",
    "y_pred = model.predict(X_test)\n",
    "\n",
    "mae  = mean_absolute_error(y_test, y_pred)\n",
    "rmse = mean_squared_error(y_test, y_pred, squared=False)\n",
    "r2   = model.score(X_test, y_test)\n",
    "\n",
    "print(f\"MAE:  {mae:.2f} seconds\")\n",
    "print(f\"RMSE: {rmse:.2f} seconds\")\n",
    "print(f\"R²:   {r2:.4f}\")\n"
   ]
  },
  {
   "cell_type": "markdown",
   "metadata": {},
   "source": [
    "After adding the categorical features, the MAE and RMSE both decreased dramtically, so the second model with categorical features is better. However, the R^2 is still very low, I suspect that the relationship between X's and Y here might not be linear, or some X's have a more skewed distribution, in that case, we might need to group rare categories before encoding. Next, I would want to try a non-linear model, like random forest or XGBoost."
   ]
  },
  {
   "cell_type": "markdown",
   "metadata": {},
   "source": [
    "### Error Analysis"
   ]
  },
  {
   "cell_type": "code",
   "execution_count": 106,
   "metadata": {},
   "outputs": [],
   "source": [
    "# Predictions\n",
    "y_pred = model.predict(X_test)\n",
    "\n",
    "# Residuals (errors)\n",
    "errors = y_test - y_pred\n",
    "\n",
    "# Store in DataFrame for analysis\n",
    "error_df = X_test.copy()\n",
    "error_df[target] = y_test\n",
    "error_df['predicted'] = y_pred\n",
    "error_df['error'] = errors\n",
    "error_df['abs_error'] = errors.abs()\n"
   ]
  },
  {
   "cell_type": "code",
   "execution_count": 107,
   "metadata": {},
   "outputs": [
    {
     "name": "stdout",
     "output_type": "stream",
     "text": [
      "MAE : 770.98 sec\n",
      "RMSE: 1063.07 sec\n",
      "MAPE: 30.16%\n"
     ]
    }
   ],
   "source": [
    "import numpy as np\n",
    "from sklearn.metrics import mean_absolute_error, mean_squared_error\n",
    "\n",
    "mae  = mean_absolute_error(y_test, y_pred)\n",
    "rmse = mean_squared_error(y_test, y_pred, squared=False)\n",
    "mape = np.mean(np.abs(errors / y_test)) * 100\n",
    "\n",
    "print(f\"MAE : {mae:.2f} sec\")\n",
    "print(f\"RMSE: {rmse:.2f} sec\")\n",
    "print(f\"MAPE: {mape:.2f}%\")\n"
   ]
  },
  {
   "cell_type": "code",
   "execution_count": 108,
   "metadata": {},
   "outputs": [
    {
     "data": {
      "image/png": "[encoded data removed]",
      "text/plain": [
       "<Figure size 432x288 with 1 Axes>"
      ]
     },
     "metadata": {
      "needs_background": "light"
     },
     "output_type": "display_data"
    }
   ],
   "source": [
    "import matplotlib.pyplot as plt\n",
    "\n",
    "plt.hist(errors, bins=50, color='orange', edgecolor='black')\n",
    "plt.axvline(0, color='red', linestyle='--')\n",
    "plt.title(\"Error Distribution\")\n",
    "plt.xlabel(\"Error (Actual - Predicted)\")\n",
    "plt.ylabel(\"Count\")\n",
    "plt.show()\n"
   ]
  },
  {
   "cell_type": "code",
   "execution_count": 109,
   "metadata": {},
   "outputs": [
    {
     "data": {
      "image/png": "[encoded data removed]",
      "text/plain": [
       "<Figure size 432x288 with 1 Axes>"
      ]
     },
     "metadata": {
      "needs_background": "light"
     },
     "output_type": "display_data"
    }
   ],
   "source": [
    "plt.scatter(y_pred, errors, alpha=0.3)\n",
    "plt.axhline(0, color='red', linestyle='--')\n",
    "plt.title(\"Errors vs Predicted Values\")\n",
    "plt.xlabel(\"Predicted Delivery Duration (sec)\")\n",
    "plt.ylabel(\"Error\")\n",
    "plt.show()\n"
   ]
  },
  {
   "cell_type": "code",
   "execution_count": 110,
   "metadata": {},
   "outputs": [
    {
     "name": "stdout",
     "output_type": "stream",
     "text": [
      "order_dow\n",
      "0    893.725297\n",
      "5    806.796305\n",
      "6    776.234491\n",
      "3    765.530948\n",
      "1    741.375267\n",
      "2    711.899833\n",
      "4    681.355803\n",
      "Name: abs_error, dtype: float64\n",
      "order_hour\n",
      "14    1410.630405\n",
      "15    1092.850205\n",
      "7     1030.240126\n",
      "5      901.722866\n",
      "6      857.693103\n",
      "0      851.092382\n",
      "16     848.650575\n",
      "4      833.644222\n",
      "17     799.336090\n",
      "3      784.216218\n",
      "2      769.893467\n",
      "1      769.859995\n",
      "18     759.044037\n",
      "19     743.975085\n",
      "23     718.651990\n",
      "20     698.706494\n",
      "22     691.886994\n",
      "21     671.092478\n",
      "Name: abs_error, dtype: float64\n",
      "market_id\n",
      "1.0    997.233266\n",
      "3.0    793.228713\n",
      "6.0    756.608123\n",
      "4.0    724.369929\n",
      "5.0    713.927378\n",
      "2.0    671.504215\n",
      "Name: abs_error, dtype: float64\n",
      "order_protocol\n",
      "6.0    941.468863\n",
      "1.0    848.520876\n",
      "4.0    845.393300\n",
      "2.0    762.603101\n",
      "5.0    726.712434\n",
      "3.0    705.294485\n",
      "7.0    529.454282\n",
      "Name: abs_error, dtype: float64\n"
     ]
    }
   ],
   "source": [
    "# By day of week\n",
    "print(error_df.groupby('order_dow')['abs_error'].mean().sort_values(ascending=False))\n",
    "# We can see that Monday's delivery duration is hard to predict. \n",
    "# By hour of day\n",
    "print(error_df.groupby('order_hour')['abs_error'].mean().sort_values(ascending=False))\n",
    "# We can see that 2pm, 3pm and 7am are hard to predict.\n",
    "# By market\n",
    "print(error_df.groupby('market_id')['abs_error'].mean().sort_values(ascending=False))\n",
    "# We can see that market_id  = 1 is hard to predict. \n",
    "# By order protocol\n",
    "print(error_df.groupby('order_protocol')['abs_error'].mean().sort_values(ascending=False))\n",
    "# Order protocol being 6 is hard to predict. \n"
   ]
  },
  {
   "cell_type": "code",
   "execution_count": 111,
   "metadata": {},
   "outputs": [
    {
     "data": {
      "text/html": [
       "<div>\n",
       "<style scoped>\n",
       "    .dataframe tbody tr th:only-of-type {\n",
       "        vertical-align: middle;\n",
       "    }\n",
       "\n",
       "    .dataframe tbody tr th {\n",
       "        vertical-align: top;\n",
       "    }\n",
       "\n",
       "    .dataframe thead th {\n",
       "        text-align: right;\n",
       "    }\n",
       "</style>\n",
       "<table border=\"1\" class=\"dataframe\">\n",
       "  <thead>\n",
       "    <tr style=\"text-align: right;\">\n",
       "      <th></th>\n",
       "      <th>total_items</th>\n",
       "      <th>subtotal</th>\n",
       "      <th>min_item_price</th>\n",
       "      <th>max_item_price</th>\n",
       "      <th>estimated_order_place_duration</th>\n",
       "      <th>estimated_store_to_consumer_driving_duration</th>\n",
       "      <th>order_hour</th>\n",
       "      <th>order_dow</th>\n",
       "      <th>is_weekend</th>\n",
       "      <th>market_id</th>\n",
       "      <th>order_protocol</th>\n",
       "      <th>actual_delivery_duration</th>\n",
       "      <th>predicted_delivery_duration</th>\n",
       "      <th>error</th>\n",
       "      <th>abs_error</th>\n",
       "    </tr>\n",
       "  </thead>\n",
       "  <tbody>\n",
       "    <tr>\n",
       "      <th>81629</th>\n",
       "      <td>2</td>\n",
       "      <td>1268</td>\n",
       "      <td>539</td>\n",
       "      <td>729</td>\n",
       "      <td>251</td>\n",
       "      <td>579.0</td>\n",
       "      <td>1</td>\n",
       "      <td>0</td>\n",
       "      <td>0</td>\n",
       "      <td>2.0</td>\n",
       "      <td>4.0</td>\n",
       "      <td>22727.0</td>\n",
       "      <td>2928.803599</td>\n",
       "      <td>19798.196401</td>\n",
       "      <td>19798.196401</td>\n",
       "    </tr>\n",
       "    <tr>\n",
       "      <th>44254</th>\n",
       "      <td>3</td>\n",
       "      <td>4300</td>\n",
       "      <td>1300</td>\n",
       "      <td>1700</td>\n",
       "      <td>251</td>\n",
       "      <td>194.0</td>\n",
       "      <td>20</td>\n",
       "      <td>4</td>\n",
       "      <td>0</td>\n",
       "      <td>6.0</td>\n",
       "      <td>2.0</td>\n",
       "      <td>21536.0</td>\n",
       "      <td>2242.151385</td>\n",
       "      <td>19293.848615</td>\n",
       "      <td>19293.848615</td>\n",
       "    </tr>\n",
       "    <tr>\n",
       "      <th>13460</th>\n",
       "      <td>3</td>\n",
       "      <td>1593</td>\n",
       "      <td>339</td>\n",
       "      <td>549</td>\n",
       "      <td>251</td>\n",
       "      <td>591.0</td>\n",
       "      <td>1</td>\n",
       "      <td>3</td>\n",
       "      <td>0</td>\n",
       "      <td>1.0</td>\n",
       "      <td>5.0</td>\n",
       "      <td>20322.0</td>\n",
       "      <td>3035.828303</td>\n",
       "      <td>17286.171697</td>\n",
       "      <td>17286.171697</td>\n",
       "    </tr>\n",
       "    <tr>\n",
       "      <th>137650</th>\n",
       "      <td>2</td>\n",
       "      <td>2490</td>\n",
       "      <td>695</td>\n",
       "      <td>1695</td>\n",
       "      <td>251</td>\n",
       "      <td>154.0</td>\n",
       "      <td>1</td>\n",
       "      <td>5</td>\n",
       "      <td>1</td>\n",
       "      <td>2.0</td>\n",
       "      <td>2.0</td>\n",
       "      <td>19398.0</td>\n",
       "      <td>2678.735656</td>\n",
       "      <td>16719.264344</td>\n",
       "      <td>16719.264344</td>\n",
       "    </tr>\n",
       "    <tr>\n",
       "      <th>131426</th>\n",
       "      <td>4</td>\n",
       "      <td>2248</td>\n",
       "      <td>125</td>\n",
       "      <td>999</td>\n",
       "      <td>251</td>\n",
       "      <td>959.0</td>\n",
       "      <td>0</td>\n",
       "      <td>5</td>\n",
       "      <td>1</td>\n",
       "      <td>6.0</td>\n",
       "      <td>5.0</td>\n",
       "      <td>18551.0</td>\n",
       "      <td>3365.999042</td>\n",
       "      <td>15185.000958</td>\n",
       "      <td>15185.000958</td>\n",
       "    </tr>\n",
       "    <tr>\n",
       "      <th>193893</th>\n",
       "      <td>3</td>\n",
       "      <td>1100</td>\n",
       "      <td>350</td>\n",
       "      <td>400</td>\n",
       "      <td>251</td>\n",
       "      <td>384.0</td>\n",
       "      <td>17</td>\n",
       "      <td>4</td>\n",
       "      <td>0</td>\n",
       "      <td>1.0</td>\n",
       "      <td>2.0</td>\n",
       "      <td>16943.0</td>\n",
       "      <td>2545.282926</td>\n",
       "      <td>14397.717074</td>\n",
       "      <td>14397.717074</td>\n",
       "    </tr>\n",
       "    <tr>\n",
       "      <th>147178</th>\n",
       "      <td>1</td>\n",
       "      <td>400</td>\n",
       "      <td>400</td>\n",
       "      <td>400</td>\n",
       "      <td>251</td>\n",
       "      <td>655.0</td>\n",
       "      <td>0</td>\n",
       "      <td>0</td>\n",
       "      <td>0</td>\n",
       "      <td>6.0</td>\n",
       "      <td>2.0</td>\n",
       "      <td>17034.0</td>\n",
       "      <td>2839.707822</td>\n",
       "      <td>14194.292178</td>\n",
       "      <td>14194.292178</td>\n",
       "    </tr>\n",
       "    <tr>\n",
       "      <th>80009</th>\n",
       "      <td>3</td>\n",
       "      <td>4197</td>\n",
       "      <td>799</td>\n",
       "      <td>1599</td>\n",
       "      <td>251</td>\n",
       "      <td>829.0</td>\n",
       "      <td>2</td>\n",
       "      <td>3</td>\n",
       "      <td>0</td>\n",
       "      <td>5.0</td>\n",
       "      <td>3.0</td>\n",
       "      <td>17146.0</td>\n",
       "      <td>3044.033694</td>\n",
       "      <td>14101.966306</td>\n",
       "      <td>14101.966306</td>\n",
       "    </tr>\n",
       "    <tr>\n",
       "      <th>34724</th>\n",
       "      <td>2</td>\n",
       "      <td>1628</td>\n",
       "      <td>499</td>\n",
       "      <td>1129</td>\n",
       "      <td>251</td>\n",
       "      <td>636.0</td>\n",
       "      <td>20</td>\n",
       "      <td>2</td>\n",
       "      <td>0</td>\n",
       "      <td>4.0</td>\n",
       "      <td>3.0</td>\n",
       "      <td>15448.0</td>\n",
       "      <td>2412.639961</td>\n",
       "      <td>13035.360039</td>\n",
       "      <td>13035.360039</td>\n",
       "    </tr>\n",
       "    <tr>\n",
       "      <th>73757</th>\n",
       "      <td>3</td>\n",
       "      <td>1060</td>\n",
       "      <td>50</td>\n",
       "      <td>741</td>\n",
       "      <td>251</td>\n",
       "      <td>694.0</td>\n",
       "      <td>3</td>\n",
       "      <td>5</td>\n",
       "      <td>1</td>\n",
       "      <td>5.0</td>\n",
       "      <td>4.0</td>\n",
       "      <td>15244.0</td>\n",
       "      <td>3076.912023</td>\n",
       "      <td>12167.087977</td>\n",
       "      <td>12167.087977</td>\n",
       "    </tr>\n",
       "    <tr>\n",
       "      <th>11693</th>\n",
       "      <td>1</td>\n",
       "      <td>1350</td>\n",
       "      <td>1350</td>\n",
       "      <td>1350</td>\n",
       "      <td>251</td>\n",
       "      <td>506.0</td>\n",
       "      <td>22</td>\n",
       "      <td>6</td>\n",
       "      <td>1</td>\n",
       "      <td>1.0</td>\n",
       "      <td>5.0</td>\n",
       "      <td>14996.0</td>\n",
       "      <td>3025.994126</td>\n",
       "      <td>11970.005874</td>\n",
       "      <td>11970.005874</td>\n",
       "    </tr>\n",
       "    <tr>\n",
       "      <th>92479</th>\n",
       "      <td>3</td>\n",
       "      <td>2677</td>\n",
       "      <td>149</td>\n",
       "      <td>899</td>\n",
       "      <td>251</td>\n",
       "      <td>509.0</td>\n",
       "      <td>15</td>\n",
       "      <td>1</td>\n",
       "      <td>0</td>\n",
       "      <td>2.0</td>\n",
       "      <td>2.0</td>\n",
       "      <td>13490.0</td>\n",
       "      <td>2433.783312</td>\n",
       "      <td>11056.216688</td>\n",
       "      <td>11056.216688</td>\n",
       "    </tr>\n",
       "    <tr>\n",
       "      <th>15563</th>\n",
       "      <td>2</td>\n",
       "      <td>1190</td>\n",
       "      <td>495</td>\n",
       "      <td>695</td>\n",
       "      <td>446</td>\n",
       "      <td>878.0</td>\n",
       "      <td>2</td>\n",
       "      <td>4</td>\n",
       "      <td>0</td>\n",
       "      <td>1.0</td>\n",
       "      <td>1.0</td>\n",
       "      <td>14680.0</td>\n",
       "      <td>3680.094409</td>\n",
       "      <td>10999.905591</td>\n",
       "      <td>10999.905591</td>\n",
       "    </tr>\n",
       "    <tr>\n",
       "      <th>68180</th>\n",
       "      <td>4</td>\n",
       "      <td>3550</td>\n",
       "      <td>800</td>\n",
       "      <td>1000</td>\n",
       "      <td>251</td>\n",
       "      <td>335.0</td>\n",
       "      <td>3</td>\n",
       "      <td>3</td>\n",
       "      <td>0</td>\n",
       "      <td>1.0</td>\n",
       "      <td>5.0</td>\n",
       "      <td>13815.0</td>\n",
       "      <td>2971.378138</td>\n",
       "      <td>10843.621862</td>\n",
       "      <td>10843.621862</td>\n",
       "    </tr>\n",
       "    <tr>\n",
       "      <th>109374</th>\n",
       "      <td>4</td>\n",
       "      <td>4690</td>\n",
       "      <td>995</td>\n",
       "      <td>1350</td>\n",
       "      <td>446</td>\n",
       "      <td>941.0</td>\n",
       "      <td>2</td>\n",
       "      <td>2</td>\n",
       "      <td>0</td>\n",
       "      <td>1.0</td>\n",
       "      <td>1.0</td>\n",
       "      <td>14556.0</td>\n",
       "      <td>4255.891504</td>\n",
       "      <td>10300.108496</td>\n",
       "      <td>10300.108496</td>\n",
       "    </tr>\n",
       "    <tr>\n",
       "      <th>79560</th>\n",
       "      <td>4</td>\n",
       "      <td>2796</td>\n",
       "      <td>299</td>\n",
       "      <td>999</td>\n",
       "      <td>251</td>\n",
       "      <td>951.0</td>\n",
       "      <td>1</td>\n",
       "      <td>5</td>\n",
       "      <td>1</td>\n",
       "      <td>4.0</td>\n",
       "      <td>3.0</td>\n",
       "      <td>13625.0</td>\n",
       "      <td>3484.336490</td>\n",
       "      <td>10140.663510</td>\n",
       "      <td>10140.663510</td>\n",
       "    </tr>\n",
       "    <tr>\n",
       "      <th>38552</th>\n",
       "      <td>2</td>\n",
       "      <td>2190</td>\n",
       "      <td>1095</td>\n",
       "      <td>1095</td>\n",
       "      <td>251</td>\n",
       "      <td>630.0</td>\n",
       "      <td>3</td>\n",
       "      <td>3</td>\n",
       "      <td>0</td>\n",
       "      <td>2.0</td>\n",
       "      <td>2.0</td>\n",
       "      <td>12907.0</td>\n",
       "      <td>2799.399037</td>\n",
       "      <td>10107.600963</td>\n",
       "      <td>10107.600963</td>\n",
       "    </tr>\n",
       "    <tr>\n",
       "      <th>55987</th>\n",
       "      <td>3</td>\n",
       "      <td>2785</td>\n",
       "      <td>895</td>\n",
       "      <td>995</td>\n",
       "      <td>446</td>\n",
       "      <td>650.0</td>\n",
       "      <td>3</td>\n",
       "      <td>0</td>\n",
       "      <td>0</td>\n",
       "      <td>1.0</td>\n",
       "      <td>1.0</td>\n",
       "      <td>13781.0</td>\n",
       "      <td>3857.945964</td>\n",
       "      <td>9923.054036</td>\n",
       "      <td>9923.054036</td>\n",
       "    </tr>\n",
       "    <tr>\n",
       "      <th>182665</th>\n",
       "      <td>1</td>\n",
       "      <td>695</td>\n",
       "      <td>695</td>\n",
       "      <td>695</td>\n",
       "      <td>251</td>\n",
       "      <td>820.0</td>\n",
       "      <td>16</td>\n",
       "      <td>3</td>\n",
       "      <td>0</td>\n",
       "      <td>1.0</td>\n",
       "      <td>3.0</td>\n",
       "      <td>12949.0</td>\n",
       "      <td>3039.825232</td>\n",
       "      <td>9909.174768</td>\n",
       "      <td>9909.174768</td>\n",
       "    </tr>\n",
       "    <tr>\n",
       "      <th>127760</th>\n",
       "      <td>1</td>\n",
       "      <td>5499</td>\n",
       "      <td>5499</td>\n",
       "      <td>5499</td>\n",
       "      <td>446</td>\n",
       "      <td>477.0</td>\n",
       "      <td>21</td>\n",
       "      <td>6</td>\n",
       "      <td>1</td>\n",
       "      <td>4.0</td>\n",
       "      <td>4.0</td>\n",
       "      <td>14207.0</td>\n",
       "      <td>4369.212763</td>\n",
       "      <td>9837.787237</td>\n",
       "      <td>9837.787237</td>\n",
       "    </tr>\n",
       "  </tbody>\n",
       "</table>\n",
       "</div>"
      ],
      "text/plain": [
       "        total_items  subtotal  min_item_price  max_item_price  \\\n",
       "81629             2      1268             539             729   \n",
       "44254             3      4300            1300            1700   \n",
       "13460             3      1593             339             549   \n",
       "137650            2      2490             695            1695   \n",
       "131426            4      2248             125             999   \n",
       "193893            3      1100             350             400   \n",
       "147178            1       400             400             400   \n",
       "80009             3      4197             799            1599   \n",
       "34724             2      1628             499            1129   \n",
       "73757             3      1060              50             741   \n",
       "11693             1      1350            1350            1350   \n",
       "92479             3      2677             149             899   \n",
       "15563             2      1190             495             695   \n",
       "68180             4      3550             800            1000   \n",
       "109374            4      4690             995            1350   \n",
       "79560             4      2796             299             999   \n",
       "38552             2      2190            1095            1095   \n",
       "55987             3      2785             895             995   \n",
       "182665            1       695             695             695   \n",
       "127760            1      5499            5499            5499   \n",
       "\n",
       "        estimated_order_place_duration  \\\n",
       "81629                              251   \n",
       "44254                              251   \n",
       "13460                              251   \n",
       "137650                             251   \n",
       "131426                             251   \n",
       "193893                             251   \n",
       "147178                             251   \n",
       "80009                              251   \n",
       "34724                              251   \n",
       "73757                              251   \n",
       "11693                              251   \n",
       "92479                              251   \n",
       "15563                              446   \n",
       "68180                              251   \n",
       "109374                             446   \n",
       "79560                              251   \n",
       "38552                              251   \n",
       "55987                              446   \n",
       "182665                             251   \n",
       "127760                             446   \n",
       "\n",
       "        estimated_store_to_consumer_driving_duration  order_hour  order_dow  \\\n",
       "81629                                          579.0           1          0   \n",
       "44254                                          194.0          20          4   \n",
       "13460                                          591.0           1          3   \n",
       "137650                                         154.0           1          5   \n",
       "131426                                         959.0           0          5   \n",
       "193893                                         384.0          17          4   \n",
       "147178                                         655.0           0          0   \n",
       "80009                                          829.0           2          3   \n",
       "34724                                          636.0          20          2   \n",
       "73757                                          694.0           3          5   \n",
       "11693                                          506.0          22          6   \n",
       "92479                                          509.0          15          1   \n",
       "15563                                          878.0           2          4   \n",
       "68180                                          335.0           3          3   \n",
       "109374                                         941.0           2          2   \n",
       "79560                                          951.0           1          5   \n",
       "38552                                          630.0           3          3   \n",
       "55987                                          650.0           3          0   \n",
       "182665                                         820.0          16          3   \n",
       "127760                                         477.0          21          6   \n",
       "\n",
       "        is_weekend  market_id  order_protocol  actual_delivery_duration  \\\n",
       "81629            0        2.0             4.0                   22727.0   \n",
       "44254            0        6.0             2.0                   21536.0   \n",
       "13460            0        1.0             5.0                   20322.0   \n",
       "137650           1        2.0             2.0                   19398.0   \n",
       "131426           1        6.0             5.0                   18551.0   \n",
       "193893           0        1.0             2.0                   16943.0   \n",
       "147178           0        6.0             2.0                   17034.0   \n",
       "80009            0        5.0             3.0                   17146.0   \n",
       "34724            0        4.0             3.0                   15448.0   \n",
       "73757            1        5.0             4.0                   15244.0   \n",
       "11693            1        1.0             5.0                   14996.0   \n",
       "92479            0        2.0             2.0                   13490.0   \n",
       "15563            0        1.0             1.0                   14680.0   \n",
       "68180            0        1.0             5.0                   13815.0   \n",
       "109374           0        1.0             1.0                   14556.0   \n",
       "79560            1        4.0             3.0                   13625.0   \n",
       "38552            0        2.0             2.0                   12907.0   \n",
       "55987            0        1.0             1.0                   13781.0   \n",
       "182665           0        1.0             3.0                   12949.0   \n",
       "127760           1        4.0             4.0                   14207.0   \n",
       "\n",
       "        predicted_delivery_duration         error     abs_error  \n",
       "81629                   2928.803599  19798.196401  19798.196401  \n",
       "44254                   2242.151385  19293.848615  19293.848615  \n",
       "13460                   3035.828303  17286.171697  17286.171697  \n",
       "137650                  2678.735656  16719.264344  16719.264344  \n",
       "131426                  3365.999042  15185.000958  15185.000958  \n",
       "193893                  2545.282926  14397.717074  14397.717074  \n",
       "147178                  2839.707822  14194.292178  14194.292178  \n",
       "80009                   3044.033694  14101.966306  14101.966306  \n",
       "34724                   2412.639961  13035.360039  13035.360039  \n",
       "73757                   3076.912023  12167.087977  12167.087977  \n",
       "11693                   3025.994126  11970.005874  11970.005874  \n",
       "92479                   2433.783312  11056.216688  11056.216688  \n",
       "15563                   3680.094409  10999.905591  10999.905591  \n",
       "68180                   2971.378138  10843.621862  10843.621862  \n",
       "109374                  4255.891504  10300.108496  10300.108496  \n",
       "79560                   3484.336490  10140.663510  10140.663510  \n",
       "38552                   2799.399037  10107.600963  10107.600963  \n",
       "55987                   3857.945964   9923.054036   9923.054036  \n",
       "182665                  3039.825232   9909.174768   9909.174768  \n",
       "127760                  4369.212763   9837.787237   9837.787237  "
      ]
     },
     "execution_count": 111,
     "metadata": {},
     "output_type": "execute_result"
    }
   ],
   "source": [
    "\n",
    "# Get predictions from your final linear regression model\n",
    "y_pred = model.predict(X_test)\n",
    "\n",
    "# Create a DataFrame with actual, predicted, and errors\n",
    "row_errors = X_test.copy()\n",
    "row_errors['actual_delivery_duration'] = y_test\n",
    "row_errors['predicted_delivery_duration'] = y_pred\n",
    "row_errors['error'] = row_errors['actual_delivery_duration'] - row_errors['predicted_delivery_duration']\n",
    "row_errors['abs_error'] = row_errors['error'].abs()\n",
    "\n",
    "# Sort by absolute error (largest mistakes first)\n",
    "row_errors_sorted = row_errors.sort_values(by='abs_error', ascending=False)\n",
    "\n",
    "# Show top 20 worst predictions\n",
    "row_errors_sorted.head(20)\n"
   ]
  },
  {
   "cell_type": "code",
   "execution_count": null,
   "metadata": {},
   "outputs": [],
   "source": []
  }
 ],
 "metadata": {
  "kernelspec": {
   "display_name": "base",
   "language": "python",
   "name": "python3"
  },
  "language_info": {
   "codemirror_mode": {
    "name": "ipython",
    "version": 3
   },
   "file_extension": ".py",
   "mimetype": "text/x-python",
   "name": "python",
   "nbconvert_exporter": "python",
   "pygments_lexer": "ipython3",
   "version": "3.9.12"
  }
 },
 "nbformat": 4,
 "nbformat_minor": 2
}
