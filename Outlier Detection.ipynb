{
 "cells": [
  {
   "cell_type": "markdown",
   "metadata": {},
   "source": [
    "# Outlier Detection "
   ]
  },
  {
   "cell_type": "markdown",
   "metadata": {},
   "source": [
    "In this exercise, we are providing you with an example of financial data (all numbers are fictional).\n",
    "\n",
    "You need to create an algorithm that can find outliers in this data by one column / several columns. E.g. some members have extremely high costs in the current month and your solution should be able to detect such records. Think about features and how you would explain them to business people."
   ]
  },
  {
   "cell_type": "code",
   "execution_count": 16,
   "metadata": {},
   "outputs": [],
   "source": [
    "import pandas as pd\n"
   ]
  },
  {
   "cell_type": "code",
   "execution_count": 17,
   "metadata": {},
   "outputs": [],
   "source": [
    "data = pd.read_csv(\"/Users/rosiebai/Downloads/datasets-8/sfr_test.csv\")"
   ]
  },
  {
   "cell_type": "code",
   "execution_count": 18,
   "metadata": {},
   "outputs": [
    {
     "data": {
      "text/html": [
       "<div>\n",
       "<style scoped>\n",
       "    .dataframe tbody tr th:only-of-type {\n",
       "        vertical-align: middle;\n",
       "    }\n",
       "\n",
       "    .dataframe tbody tr th {\n",
       "        vertical-align: top;\n",
       "    }\n",
       "\n",
       "    .dataframe thead th {\n",
       "        text-align: right;\n",
       "    }\n",
       "</style>\n",
       "<table border=\"1\" class=\"dataframe\">\n",
       "  <thead>\n",
       "    <tr style=\"text-align: right;\">\n",
       "      <th></th>\n",
       "      <th>member_unique_id</th>\n",
       "      <th>gender</th>\n",
       "      <th>dob</th>\n",
       "      <th>eligible_year</th>\n",
       "      <th>eligible_month</th>\n",
       "      <th>affiliation_type</th>\n",
       "      <th>pbp_group</th>\n",
       "      <th>plan_name</th>\n",
       "      <th>npi</th>\n",
       "      <th>line_of_business</th>\n",
       "      <th>...</th>\n",
       "      <th>pcp_ffs</th>\n",
       "      <th>plan_premium</th>\n",
       "      <th>prof</th>\n",
       "      <th>reinsurance</th>\n",
       "      <th>risk_score_partd</th>\n",
       "      <th>rx</th>\n",
       "      <th>rx_rebates</th>\n",
       "      <th>rx_with_rebates</th>\n",
       "      <th>rx_without_rebates</th>\n",
       "      <th>spec_cap</th>\n",
       "    </tr>\n",
       "  </thead>\n",
       "  <tbody>\n",
       "    <tr>\n",
       "      <th>0</th>\n",
       "      <td>1</td>\n",
       "      <td>F</td>\n",
       "      <td>21/06/1990</td>\n",
       "      <td>2020</td>\n",
       "      <td>202006</td>\n",
       "      <td>Affiliate</td>\n",
       "      <td>NON-SNP</td>\n",
       "      <td>MEDICARE - CAREFREE</td>\n",
       "      <td>1</td>\n",
       "      <td>HMO</td>\n",
       "      <td>...</td>\n",
       "      <td>$0.00</td>\n",
       "      <td>$3,507.00</td>\n",
       "      <td>$0.00</td>\n",
       "      <td>$7.92</td>\n",
       "      <td>$0.00</td>\n",
       "      <td>$0.00</td>\n",
       "      <td>$0.00</td>\n",
       "      <td>$0.00</td>\n",
       "      <td>$0.00</td>\n",
       "      <td>$843.78</td>\n",
       "    </tr>\n",
       "    <tr>\n",
       "      <th>1</th>\n",
       "      <td>2</td>\n",
       "      <td>M</td>\n",
       "      <td>02/01/1948</td>\n",
       "      <td>2020</td>\n",
       "      <td>202006</td>\n",
       "      <td>Affiliate</td>\n",
       "      <td>NON-SNP</td>\n",
       "      <td>NaN</td>\n",
       "      <td>1</td>\n",
       "      <td>HMO</td>\n",
       "      <td>...</td>\n",
       "      <td>$0.00</td>\n",
       "      <td>$6,204.84</td>\n",
       "      <td>$0.00</td>\n",
       "      <td>$8.13</td>\n",
       "      <td>$0.00</td>\n",
       "      <td>$11,289.69</td>\n",
       "      <td>$0.00</td>\n",
       "      <td>$10,688.46</td>\n",
       "      <td>$10,859.82</td>\n",
       "      <td>$906.77</td>\n",
       "    </tr>\n",
       "    <tr>\n",
       "      <th>2</th>\n",
       "      <td>3</td>\n",
       "      <td>M</td>\n",
       "      <td>14/06/1948</td>\n",
       "      <td>2020</td>\n",
       "      <td>202006</td>\n",
       "      <td>Affiliate</td>\n",
       "      <td>NON-SNP</td>\n",
       "      <td>MEDICARE - CAREFREE</td>\n",
       "      <td>1</td>\n",
       "      <td>HMO</td>\n",
       "      <td>...</td>\n",
       "      <td>$0.00</td>\n",
       "      <td>$4,012.46</td>\n",
       "      <td>$0.00</td>\n",
       "      <td>$7.92</td>\n",
       "      <td>$0.00</td>\n",
       "      <td>$0.00</td>\n",
       "      <td>$0.00</td>\n",
       "      <td>$0.00</td>\n",
       "      <td>$0.00</td>\n",
       "      <td>$815.84</td>\n",
       "    </tr>\n",
       "    <tr>\n",
       "      <th>3</th>\n",
       "      <td>4</td>\n",
       "      <td>M</td>\n",
       "      <td>10/02/1954</td>\n",
       "      <td>2020</td>\n",
       "      <td>202006</td>\n",
       "      <td>Affiliate</td>\n",
       "      <td>D-SNP</td>\n",
       "      <td>MEDICARE - CARENEEDS</td>\n",
       "      <td>1</td>\n",
       "      <td>HMO</td>\n",
       "      <td>...</td>\n",
       "      <td>$0.00</td>\n",
       "      <td>$9,770.61</td>\n",
       "      <td>$0.00</td>\n",
       "      <td>$8.30</td>\n",
       "      <td>$0.00</td>\n",
       "      <td>$73.88</td>\n",
       "      <td>$0.00</td>\n",
       "      <td>$62.87</td>\n",
       "      <td>$64.91</td>\n",
       "      <td>$846.26</td>\n",
       "    </tr>\n",
       "    <tr>\n",
       "      <th>4</th>\n",
       "      <td>5</td>\n",
       "      <td>M</td>\n",
       "      <td>31/12/1953</td>\n",
       "      <td>2020</td>\n",
       "      <td>202006</td>\n",
       "      <td>Affiliate</td>\n",
       "      <td>NON-SNP</td>\n",
       "      <td>NaN</td>\n",
       "      <td>1</td>\n",
       "      <td>HMO</td>\n",
       "      <td>...</td>\n",
       "      <td>$0.00</td>\n",
       "      <td>$19,976.13</td>\n",
       "      <td>$8,875.80</td>\n",
       "      <td>$8.90</td>\n",
       "      <td>$0.00</td>\n",
       "      <td>$522.48</td>\n",
       "      <td>$0.00</td>\n",
       "      <td>$517.56</td>\n",
       "      <td>$606.01</td>\n",
       "      <td>$867.55</td>\n",
       "    </tr>\n",
       "  </tbody>\n",
       "</table>\n",
       "<p>5 rows × 28 columns</p>\n",
       "</div>"
      ],
      "text/plain": [
       "   member_unique_id gender         dob  eligible_year  eligible_month  \\\n",
       "0                 1      F  21/06/1990           2020          202006   \n",
       "1                 2      M  02/01/1948           2020          202006   \n",
       "2                 3      M  14/06/1948           2020          202006   \n",
       "3                 4      M  10/02/1954           2020          202006   \n",
       "4                 5      M  31/12/1953           2020          202006   \n",
       "\n",
       "  affiliation_type pbp_group             plan_name  npi line_of_business  ...  \\\n",
       "0        Affiliate   NON-SNP   MEDICARE - CAREFREE    1              HMO  ...   \n",
       "1        Affiliate   NON-SNP                   NaN    1              HMO  ...   \n",
       "2        Affiliate   NON-SNP   MEDICARE - CAREFREE    1              HMO  ...   \n",
       "3        Affiliate     D-SNP  MEDICARE - CARENEEDS    1              HMO  ...   \n",
       "4        Affiliate   NON-SNP                   NaN    1              HMO  ...   \n",
       "\n",
       "   pcp_ffs  plan_premium       prof reinsurance risk_score_partd          rx  \\\n",
       "0    $0.00     $3,507.00      $0.00       $7.92            $0.00       $0.00   \n",
       "1    $0.00     $6,204.84      $0.00       $8.13            $0.00  $11,289.69   \n",
       "2    $0.00     $4,012.46      $0.00       $7.92            $0.00       $0.00   \n",
       "3    $0.00     $9,770.61      $0.00       $8.30            $0.00      $73.88   \n",
       "4    $0.00    $19,976.13  $8,875.80       $8.90            $0.00     $522.48   \n",
       "\n",
       "  rx_rebates rx_with_rebates rx_without_rebates spec_cap  \n",
       "0      $0.00           $0.00              $0.00  $843.78  \n",
       "1      $0.00      $10,688.46         $10,859.82  $906.77  \n",
       "2      $0.00           $0.00              $0.00  $815.84  \n",
       "3      $0.00          $62.87             $64.91  $846.26  \n",
       "4      $0.00         $517.56            $606.01  $867.55  \n",
       "\n",
       "[5 rows x 28 columns]"
      ]
     },
     "execution_count": 18,
     "metadata": {},
     "output_type": "execute_result"
    }
   ],
   "source": [
    "data.head()"
   ]
  },
  {
   "cell_type": "code",
   "execution_count": 19,
   "metadata": {},
   "outputs": [
    {
     "data": {
      "text/plain": [
       "Index(['member_unique_id', 'gender', 'dob', 'eligible_year', 'eligible_month',\n",
       "       'affiliation_type', 'pbp_group', 'plan_name', 'npi', 'line_of_business',\n",
       "       'esrd', 'hospice', 'ipa_funding', 'ma_premium', 'ma_risk_score',\n",
       "       'mbr_with_rx_rebates', 'partd_premium', 'pcp_cap', 'pcp_ffs',\n",
       "       'plan_premium', 'prof', 'reinsurance', 'risk_score_partd', 'rx',\n",
       "       'rx_rebates', 'rx_with_rebates', 'rx_without_rebates', 'spec_cap'],\n",
       "      dtype='object')"
      ]
     },
     "execution_count": 19,
     "metadata": {},
     "output_type": "execute_result"
    }
   ],
   "source": [
    "data.columns"
   ]
  },
  {
   "cell_type": "code",
   "execution_count": 20,
   "metadata": {},
   "outputs": [
    {
     "data": {
      "text/plain": [
       "(10530, 28)"
      ]
     },
     "execution_count": 20,
     "metadata": {},
     "output_type": "execute_result"
    }
   ],
   "source": [
    "data.shape"
   ]
  },
  {
   "cell_type": "markdown",
   "metadata": {},
   "source": [
    "## 1. Select key cost features"
   ]
  },
  {
   "cell_type": "code",
   "execution_count": 21,
   "metadata": {},
   "outputs": [],
   "source": [
    "# Choose cost_related columns that directly refelct member-level financial utilization: \n",
    "cost_columns = [\n",
    "    'plan_premium',\n",
    "    'pcp_cap',\n",
    "    'prof',\n",
    "    'reinsurance',\n",
    "    'rx_with_rebates',\n",
    "    'spec_cap'\n",
    "]"
   ]
  },
  {
   "cell_type": "markdown",
   "metadata": {},
   "source": [
    "## 2. Convert financial columns to numeric "
   ]
  },
  {
   "cell_type": "code",
   "execution_count": 22,
   "metadata": {},
   "outputs": [],
   "source": [
    "for col in cost_columns:\n",
    "    data[col] = data[col].replace('[\\$,]', '', regex = True).astype(float)"
   ]
  },
  {
   "cell_type": "markdown",
   "metadata": {},
   "source": [
    "## 3. Feature engineering"
   ]
  },
  {
   "cell_type": "markdown",
   "metadata": {},
   "source": [
    "- total_cost = sum of all cost components\n",
    "- rx_ratio = rx_with_rebates / total_cost --> is drug spending driving cost?\n",
    "- prof_ratio = prof / total_cost  --> is specialist cost high?"
   ]
  },
  {
   "cell_type": "code",
   "execution_count": 23,
   "metadata": {},
   "outputs": [],
   "source": [
    "data['total_cost'] = data[cost_columns].sum(axis = 1)\n",
    "data['rx_ratio'] = data['rx_with_rebates']/data['total_cost']\n",
    "data['prof_ratio'] = data['prof']/data['total_cost']"
   ]
  },
  {
   "cell_type": "markdown",
   "metadata": {},
   "source": [
    "## 4. Detecting Outliers"
   ]
  },
  {
   "cell_type": "code",
   "execution_count": 24,
   "metadata": {},
   "outputs": [],
   "source": [
    "# 1. simple statistical rule \n",
    "mean_cost = data['total_cost'].mean()\n",
    "std_cost = data['total_cost'].std()\n",
    "data['is_outlier_z'] = data['total_cost'] > (mean_cost + 3 * std_cost) "
   ]
  },
  {
   "cell_type": "code",
   "execution_count": 25,
   "metadata": {},
   "outputs": [],
   "source": [
    "# 2. IQR method \n",
    "q1 = data['total_cost'].quantile(0.25)\n",
    "q3 = data['total_cost'].quantile(0.75)\n",
    "IQR = q3 - q1\n",
    "data['is_outlier_iqr'] = data['total_cost'] > (q3 + 1.5 * IQR)"
   ]
  },
  {
   "cell_type": "code",
   "execution_count": 26,
   "metadata": {},
   "outputs": [
    {
     "name": "stderr",
     "output_type": "stream",
     "text": [
      "/Users/rosiebai/opt/anaconda3/lib/python3.9/site-packages/sklearn/base.py:450: UserWarning: X does not have valid feature names, but IsolationForest was fitted with feature names\n",
      "  warnings.warn(\n"
     ]
    }
   ],
   "source": [
    "# 3. Multivariate Outlier Dectection (for multiple features)\n",
    "from sklearn.ensemble import IsolationForest\n",
    "\n",
    "features = data[['plan_premium', 'prof','rx_with_rebates','spec_cap','total_cost']]\n",
    "model = IsolationForest(contamination = 0.01, random_state = 42)\n",
    "data['is_outlier_iso'] = model.fit_predict(features) == -1\n"
   ]
  },
  {
   "cell_type": "markdown",
   "metadata": {},
   "source": [
    "### why these features?\n",
    "1. plan _premium: represents what the member is expected to pay monthly (fixed cost).\n",
    "2. prof (professional service cost): represents specialist/physician fee-for-service. Often a large driver of varaible cost.\n",
    "3. rx_with_rebates: represents net prescription drug cost (after manuafcturer rebates). Drug costs can be a huge source of outliers. Using the net cost avoids overstimating due to rebates. \n",
    "4. spec_cap (specialist capitation): represents a fixed per-member payment to specialists regardless of utilization. Captures cost exposure for patients in capitated plans. Can help distinguish outliers driven by risk-based contracts versus FFS.\n",
    "5. total_cost: represents the sum of all relevant cost columns."
   ]
  },
  {
   "cell_type": "markdown",
   "metadata": {},
   "source": [
    "## 5. Correlation analysis"
   ]
  },
  {
   "cell_type": "markdown",
   "metadata": {},
   "source": [
    "### Step 1: Compare outliers vs non-outliers"
   ]
  },
  {
   "cell_type": "markdown",
   "metadata": {},
   "source": [
    "After we detected the outliers, we still need to find out what features are correlated to the outliers. If we chose the isolation forest method, let's compare the outliers vs non-outliers."
   ]
  },
  {
   "cell_type": "code",
   "execution_count": 27,
   "metadata": {},
   "outputs": [
    {
     "data": {
      "text/html": [
       "<div>\n",
       "<style scoped>\n",
       "    .dataframe tbody tr th:only-of-type {\n",
       "        vertical-align: middle;\n",
       "    }\n",
       "\n",
       "    .dataframe tbody tr th {\n",
       "        vertical-align: top;\n",
       "    }\n",
       "\n",
       "    .dataframe thead th {\n",
       "        text-align: right;\n",
       "    }\n",
       "</style>\n",
       "<table border=\"1\" class=\"dataframe\">\n",
       "  <thead>\n",
       "    <tr style=\"text-align: right;\">\n",
       "      <th></th>\n",
       "      <th>member_unique_id</th>\n",
       "      <th>gender</th>\n",
       "      <th>dob</th>\n",
       "      <th>eligible_year</th>\n",
       "      <th>eligible_month</th>\n",
       "      <th>affiliation_type</th>\n",
       "      <th>pbp_group</th>\n",
       "      <th>plan_name</th>\n",
       "      <th>npi</th>\n",
       "      <th>line_of_business</th>\n",
       "      <th>...</th>\n",
       "      <th>rx_rebates</th>\n",
       "      <th>rx_with_rebates</th>\n",
       "      <th>rx_without_rebates</th>\n",
       "      <th>spec_cap</th>\n",
       "      <th>total_cost</th>\n",
       "      <th>rx_ratio</th>\n",
       "      <th>prof_ratio</th>\n",
       "      <th>is_outlier_z</th>\n",
       "      <th>is_outlier_iqr</th>\n",
       "      <th>is_outlier_iso</th>\n",
       "    </tr>\n",
       "  </thead>\n",
       "  <tbody>\n",
       "    <tr>\n",
       "      <th>0</th>\n",
       "      <td>1</td>\n",
       "      <td>F</td>\n",
       "      <td>21/06/1990</td>\n",
       "      <td>2020</td>\n",
       "      <td>202006</td>\n",
       "      <td>Affiliate</td>\n",
       "      <td>NON-SNP</td>\n",
       "      <td>MEDICARE - CAREFREE</td>\n",
       "      <td>1</td>\n",
       "      <td>HMO</td>\n",
       "      <td>...</td>\n",
       "      <td>$0.00</td>\n",
       "      <td>0.00</td>\n",
       "      <td>$0.00</td>\n",
       "      <td>843.78</td>\n",
       "      <td>4833.53</td>\n",
       "      <td>0.000000</td>\n",
       "      <td>0.00000</td>\n",
       "      <td>False</td>\n",
       "      <td>False</td>\n",
       "      <td>False</td>\n",
       "    </tr>\n",
       "    <tr>\n",
       "      <th>1</th>\n",
       "      <td>2</td>\n",
       "      <td>M</td>\n",
       "      <td>02/01/1948</td>\n",
       "      <td>2020</td>\n",
       "      <td>202006</td>\n",
       "      <td>Affiliate</td>\n",
       "      <td>NON-SNP</td>\n",
       "      <td>NaN</td>\n",
       "      <td>1</td>\n",
       "      <td>HMO</td>\n",
       "      <td>...</td>\n",
       "      <td>$0.00</td>\n",
       "      <td>10688.46</td>\n",
       "      <td>$10,859.82</td>\n",
       "      <td>906.77</td>\n",
       "      <td>18265.24</td>\n",
       "      <td>0.585180</td>\n",
       "      <td>0.00000</td>\n",
       "      <td>False</td>\n",
       "      <td>False</td>\n",
       "      <td>False</td>\n",
       "    </tr>\n",
       "    <tr>\n",
       "      <th>2</th>\n",
       "      <td>3</td>\n",
       "      <td>M</td>\n",
       "      <td>14/06/1948</td>\n",
       "      <td>2020</td>\n",
       "      <td>202006</td>\n",
       "      <td>Affiliate</td>\n",
       "      <td>NON-SNP</td>\n",
       "      <td>MEDICARE - CAREFREE</td>\n",
       "      <td>1</td>\n",
       "      <td>HMO</td>\n",
       "      <td>...</td>\n",
       "      <td>$0.00</td>\n",
       "      <td>0.00</td>\n",
       "      <td>$0.00</td>\n",
       "      <td>815.84</td>\n",
       "      <td>5318.85</td>\n",
       "      <td>0.000000</td>\n",
       "      <td>0.00000</td>\n",
       "      <td>False</td>\n",
       "      <td>False</td>\n",
       "      <td>False</td>\n",
       "    </tr>\n",
       "    <tr>\n",
       "      <th>3</th>\n",
       "      <td>4</td>\n",
       "      <td>M</td>\n",
       "      <td>10/02/1954</td>\n",
       "      <td>2020</td>\n",
       "      <td>202006</td>\n",
       "      <td>Affiliate</td>\n",
       "      <td>D-SNP</td>\n",
       "      <td>MEDICARE - CARENEEDS</td>\n",
       "      <td>1</td>\n",
       "      <td>HMO</td>\n",
       "      <td>...</td>\n",
       "      <td>$0.00</td>\n",
       "      <td>62.87</td>\n",
       "      <td>$64.91</td>\n",
       "      <td>846.26</td>\n",
       "      <td>11157.08</td>\n",
       "      <td>0.005635</td>\n",
       "      <td>0.00000</td>\n",
       "      <td>False</td>\n",
       "      <td>False</td>\n",
       "      <td>False</td>\n",
       "    </tr>\n",
       "    <tr>\n",
       "      <th>4</th>\n",
       "      <td>5</td>\n",
       "      <td>M</td>\n",
       "      <td>31/12/1953</td>\n",
       "      <td>2020</td>\n",
       "      <td>202006</td>\n",
       "      <td>Affiliate</td>\n",
       "      <td>NON-SNP</td>\n",
       "      <td>NaN</td>\n",
       "      <td>1</td>\n",
       "      <td>HMO</td>\n",
       "      <td>...</td>\n",
       "      <td>$0.00</td>\n",
       "      <td>517.56</td>\n",
       "      <td>$606.01</td>\n",
       "      <td>867.55</td>\n",
       "      <td>30773.92</td>\n",
       "      <td>0.016818</td>\n",
       "      <td>0.28842</td>\n",
       "      <td>False</td>\n",
       "      <td>False</td>\n",
       "      <td>False</td>\n",
       "    </tr>\n",
       "  </tbody>\n",
       "</table>\n",
       "<p>5 rows × 34 columns</p>\n",
       "</div>"
      ],
      "text/plain": [
       "   member_unique_id gender         dob  eligible_year  eligible_month  \\\n",
       "0                 1      F  21/06/1990           2020          202006   \n",
       "1                 2      M  02/01/1948           2020          202006   \n",
       "2                 3      M  14/06/1948           2020          202006   \n",
       "3                 4      M  10/02/1954           2020          202006   \n",
       "4                 5      M  31/12/1953           2020          202006   \n",
       "\n",
       "  affiliation_type pbp_group             plan_name  npi line_of_business  ...  \\\n",
       "0        Affiliate   NON-SNP   MEDICARE - CAREFREE    1              HMO  ...   \n",
       "1        Affiliate   NON-SNP                   NaN    1              HMO  ...   \n",
       "2        Affiliate   NON-SNP   MEDICARE - CAREFREE    1              HMO  ...   \n",
       "3        Affiliate     D-SNP  MEDICARE - CARENEEDS    1              HMO  ...   \n",
       "4        Affiliate   NON-SNP                   NaN    1              HMO  ...   \n",
       "\n",
       "   rx_rebates  rx_with_rebates rx_without_rebates spec_cap total_cost  \\\n",
       "0       $0.00             0.00              $0.00   843.78    4833.53   \n",
       "1       $0.00         10688.46         $10,859.82   906.77   18265.24   \n",
       "2       $0.00             0.00              $0.00   815.84    5318.85   \n",
       "3       $0.00            62.87             $64.91   846.26   11157.08   \n",
       "4       $0.00           517.56            $606.01   867.55   30773.92   \n",
       "\n",
       "   rx_ratio prof_ratio  is_outlier_z is_outlier_iqr  is_outlier_iso  \n",
       "0  0.000000    0.00000         False          False           False  \n",
       "1  0.585180    0.00000         False          False           False  \n",
       "2  0.000000    0.00000         False          False           False  \n",
       "3  0.005635    0.00000         False          False           False  \n",
       "4  0.016818    0.28842         False          False           False  \n",
       "\n",
       "[5 rows x 34 columns]"
      ]
     },
     "execution_count": 27,
     "metadata": {},
     "output_type": "execute_result"
    }
   ],
   "source": [
    "data.head()"
   ]
  },
  {
   "cell_type": "code",
   "execution_count": 30,
   "metadata": {},
   "outputs": [],
   "source": [
    "outliers = data[data['is_outlier_iso'] == True]\n",
    "non_outliers = data[data['is_outlier_iso']!= True]"
   ]
  },
  {
   "cell_type": "code",
   "execution_count": 36,
   "metadata": {},
   "outputs": [
    {
     "data": {
      "text/html": [
       "<div>\n",
       "<style scoped>\n",
       "    .dataframe tbody tr th:only-of-type {\n",
       "        vertical-align: middle;\n",
       "    }\n",
       "\n",
       "    .dataframe tbody tr th {\n",
       "        vertical-align: top;\n",
       "    }\n",
       "\n",
       "    .dataframe thead th {\n",
       "        text-align: right;\n",
       "    }\n",
       "</style>\n",
       "<table border=\"1\" class=\"dataframe\">\n",
       "  <thead>\n",
       "    <tr style=\"text-align: right;\">\n",
       "      <th>is_outlier_iso</th>\n",
       "      <th>False</th>\n",
       "      <th>True</th>\n",
       "      <th>pct_diff</th>\n",
       "    </tr>\n",
       "  </thead>\n",
       "  <tbody>\n",
       "    <tr>\n",
       "      <th>plan_premium</th>\n",
       "      <td>12376.795096</td>\n",
       "      <td>36822.369623</td>\n",
       "      <td>197.51</td>\n",
       "    </tr>\n",
       "    <tr>\n",
       "      <th>prof</th>\n",
       "      <td>351.772107</td>\n",
       "      <td>5864.146604</td>\n",
       "      <td>1567.03</td>\n",
       "    </tr>\n",
       "    <tr>\n",
       "      <th>rx_with_rebates</th>\n",
       "      <td>1362.266444</td>\n",
       "      <td>82313.893208</td>\n",
       "      <td>5942.42</td>\n",
       "    </tr>\n",
       "    <tr>\n",
       "      <th>spec_cap</th>\n",
       "      <td>811.613717</td>\n",
       "      <td>844.051604</td>\n",
       "      <td>4.00</td>\n",
       "    </tr>\n",
       "    <tr>\n",
       "      <th>total_cost</th>\n",
       "      <td>15418.942091</td>\n",
       "      <td>126371.835189</td>\n",
       "      <td>719.59</td>\n",
       "    </tr>\n",
       "  </tbody>\n",
       "</table>\n",
       "</div>"
      ],
      "text/plain": [
       "is_outlier_iso          False           True  pct_diff\n",
       "plan_premium     12376.795096   36822.369623    197.51\n",
       "prof               351.772107    5864.146604   1567.03\n",
       "rx_with_rebates   1362.266444   82313.893208   5942.42\n",
       "spec_cap           811.613717     844.051604      4.00\n",
       "total_cost       15418.942091  126371.835189    719.59"
      ]
     },
     "execution_count": 36,
     "metadata": {},
     "output_type": "execute_result"
    }
   ],
   "source": [
    "summary = data.groupby('is_outlier_iso')[features.columns].mean().T\n",
    "summary['pct_diff'] = round(100 * (summary[True] - summary[False])/ summary[False],2)\n",
    "summary"
   ]
  },
  {
   "cell_type": "code",
   "execution_count": 37,
   "metadata": {},
   "outputs": [
    {
     "data": {
      "image/png": "[encoded data removed]",
      "text/plain": [
       "<Figure size 432x288 with 1 Axes>"
      ]
     },
     "metadata": {
      "needs_background": "light"
     },
     "output_type": "display_data"
    },
    {
     "data": {
      "image/png": "[encoded data removed]",
      "text/plain": [
       "<Figure size 432x288 with 1 Axes>"
      ]
     },
     "metadata": {
      "needs_background": "light"
     },
     "output_type": "display_data"
    },
    {
     "data": {
      "image/png": "[encoded data removed]",
      "text/plain": [
       "<Figure size 432x288 with 1 Axes>"
      ]
     },
     "metadata": {
      "needs_background": "light"
     },
     "output_type": "display_data"
    },
    {
     "data": {
      "image/png": "[encoded data removed]",
      "text/plain": [
       "<Figure size 432x288 with 1 Axes>"
      ]
     },
     "metadata": {
      "needs_background": "light"
     },
     "output_type": "display_data"
    },
    {
     "data": {
      "image/png": "[encoded data removed]",
      "text/plain": [
       "<Figure size 432x288 with 1 Axes>"
      ]
     },
     "metadata": {
      "needs_background": "light"
     },
     "output_type": "display_data"
    }
   ],
   "source": [
    "import seaborn as sns\n",
    "import matplotlib.pyplot as plt \n",
    "for col in features.columns:\n",
    "    plt.figure(figsize = (6,4))\n",
    "    sns.boxplot(data = data, x = 'is_outlier_iso', y = col)\n",
    "    plt.title(f'Distribution of {col} by Outlier Flag')\n",
    "    plt.show()"
   ]
  },
  {
   "cell_type": "markdown",
   "metadata": {},
   "source": [
    "### Step 2: We can also compute the point-biserial correlation, since is_outlier_iso is binary:"
   ]
  },
  {
   "cell_type": "code",
   "execution_count": 38,
   "metadata": {},
   "outputs": [
    {
     "name": "stdout",
     "output_type": "stream",
     "text": [
      "plan_premium: correlation = 0.266, p-value = 0.0000\n",
      "prof: correlation = 0.308, p-value = 0.0000\n",
      "rx_with_rebates: correlation = 0.583, p-value = 0.0000\n",
      "spec_cap: correlation = 0.024, p-value = 0.0138\n",
      "total_cost: correlation = 0.618, p-value = 0.0000\n"
     ]
    }
   ],
   "source": [
    "from scipy.stats import pointbiserialr\n",
    "for col in features.columns:\n",
    "    r, p = pointbiserialr(data['is_outlier_iso'], data[col])\n",
    "    print(f\"{col}: correlation = {r:.3f}, p-value = {p:.4f}\")"
   ]
  },
  {
   "cell_type": "markdown",
   "metadata": {},
   "source": [
    "### Step 3: Use a model to identify feature importance"
   ]
  },
  {
   "cell_type": "code",
   "execution_count": 39,
   "metadata": {},
   "outputs": [
    {
     "data": {
      "text/plain": [
       "total_cost         0.477342\n",
       "rx_with_rebates    0.265777\n",
       "prof               0.119169\n",
       "plan_premium       0.081156\n",
       "spec_cap           0.056557\n",
       "dtype: float64"
      ]
     },
     "execution_count": 39,
     "metadata": {},
     "output_type": "execute_result"
    }
   ],
   "source": [
    "from sklearn.ensemble import RandomForestClassifier\n",
    "clf = RandomForestClassifier(random_state=42)\n",
    "clf.fit(features, data['is_outlier_iso'])\n",
    "importances = pd.Series(clf.feature_importances_, index = features.columns)\n",
    "importances.sort_values(ascending = False)"
   ]
  },
  {
   "cell_type": "markdown",
   "metadata": {},
   "source": [
    "This tells us total_cost and rx_with_rebates are best at distinguishing outliers. "
   ]
  },
  {
   "cell_type": "markdown",
   "metadata": {},
   "source": []
  }
 ],
 "metadata": {
  "kernelspec": {
   "display_name": "base",
   "language": "python",
   "name": "python3"
  },
  "language_info": {
   "codemirror_mode": {
    "name": "ipython",
    "version": 3
   },
   "file_extension": ".py",
   "mimetype": "text/x-python",
   "name": "python",
   "nbconvert_exporter": "python",
   "pygments_lexer": "ipython3",
   "version": "3.9.12"
  }
 },
 "nbformat": 4,
 "nbformat_minor": 2
}
