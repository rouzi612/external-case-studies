{
 "cells": [
  {
   "cell_type": "markdown",
   "metadata": {},
   "source": [
    "# Treadmill Buyer Profile Analysis"
   ]
  },
  {
   "cell_type": "markdown",
   "metadata": {},
   "source": [
    "## Assignment\n",
    "\n",
    "The market research team at AeroFit wants to identify the characteristics of the target audience for each type of treadmill offered by the company, to provide a better recommendation of the treadmills to new customers. The team decides to investigate whether there are differences across the product with respect to customer characteristics.\n",
    "\n",
    "Perform descriptive analytics to create a customer profile for each AeroFit treadmill product by developing appropriate tables and charts. For each AeroFit treadmill product, construct two-way contingency tables and compute all conditional and marginal probabilities along with their insights/impact on the business.\n",
    "\n",
    "Product Portfolio:\n",
    "\n",
    "- The KP281 is an entry-level treadmill that sells for $1,500;\n",
    "- The KP481 is for mid-level runners and sells for $1,750;\n",
    "- The KP781 treadmill is having advanced features and it sells for $2,500."
   ]
  },
  {
   "cell_type": "markdown",
   "metadata": {},
   "source": [
    "## Data Description\n",
    "\n",
    "The company collected data on individuals who purchased a treadmill from the AeroFit stores during the prior three months. The dataset in aerofit_treadmill_data.csv has the following features:\n",
    "\n",
    "- Product - product purchased: KP281, KP481, or KP781\n",
    "- Age - in years\n",
    "- Gender - male/female\n",
    "- Education - in years\n",
    "- MaritalStatus - single or partnered\n",
    "- Usage - the average number of times the customer plans to use the treadmill each week\n",
    "- Fitness - self-rated fitness on a 1-5 scale, where 1 is the poor shape and 5 is the excellent shape\n",
    "- Income - annual income in US dollars\n",
    "- Miles - the average number of miles the customer expects to walk/run each week"
   ]
  },
  {
   "cell_type": "markdown",
   "metadata": {},
   "source": [
    "## Practicalities\n",
    "\n",
    "Analyze the provided data and provide insights to the best of your abilities. Include the relevant tables/graphs/visualization to explain what you have learned about the market."
   ]
  },
  {
   "cell_type": "code",
   "execution_count": 71,
   "metadata": {},
   "outputs": [],
   "source": [
    "import pandas as pd\n",
    "import numpy as np"
   ]
  },
  {
   "cell_type": "code",
   "execution_count": 72,
   "metadata": {},
   "outputs": [],
   "source": [
    "data = pd.read_csv('/Users/rosiebai/Downloads/datasets-12/aerofit_treadmill_data.csv')"
   ]
  },
  {
   "cell_type": "code",
   "execution_count": 73,
   "metadata": {},
   "outputs": [
    {
     "data": {
      "text/html": [
       "<div>\n",
       "<style scoped>\n",
       "    .dataframe tbody tr th:only-of-type {\n",
       "        vertical-align: middle;\n",
       "    }\n",
       "\n",
       "    .dataframe tbody tr th {\n",
       "        vertical-align: top;\n",
       "    }\n",
       "\n",
       "    .dataframe thead th {\n",
       "        text-align: right;\n",
       "    }\n",
       "</style>\n",
       "<table border=\"1\" class=\"dataframe\">\n",
       "  <thead>\n",
       "    <tr style=\"text-align: right;\">\n",
       "      <th></th>\n",
       "      <th>Product</th>\n",
       "      <th>Age</th>\n",
       "      <th>Gender</th>\n",
       "      <th>Education</th>\n",
       "      <th>MaritalStatus</th>\n",
       "      <th>Usage</th>\n",
       "      <th>Fitness</th>\n",
       "      <th>Income</th>\n",
       "      <th>Miles</th>\n",
       "    </tr>\n",
       "  </thead>\n",
       "  <tbody>\n",
       "    <tr>\n",
       "      <th>0</th>\n",
       "      <td>KP281</td>\n",
       "      <td>18</td>\n",
       "      <td>Male</td>\n",
       "      <td>14</td>\n",
       "      <td>Single</td>\n",
       "      <td>3</td>\n",
       "      <td>4</td>\n",
       "      <td>29562</td>\n",
       "      <td>112</td>\n",
       "    </tr>\n",
       "    <tr>\n",
       "      <th>1</th>\n",
       "      <td>KP281</td>\n",
       "      <td>19</td>\n",
       "      <td>Male</td>\n",
       "      <td>15</td>\n",
       "      <td>Single</td>\n",
       "      <td>2</td>\n",
       "      <td>3</td>\n",
       "      <td>31836</td>\n",
       "      <td>75</td>\n",
       "    </tr>\n",
       "    <tr>\n",
       "      <th>2</th>\n",
       "      <td>KP281</td>\n",
       "      <td>19</td>\n",
       "      <td>Female</td>\n",
       "      <td>14</td>\n",
       "      <td>Partnered</td>\n",
       "      <td>4</td>\n",
       "      <td>3</td>\n",
       "      <td>30699</td>\n",
       "      <td>66</td>\n",
       "    </tr>\n",
       "    <tr>\n",
       "      <th>3</th>\n",
       "      <td>KP281</td>\n",
       "      <td>19</td>\n",
       "      <td>Male</td>\n",
       "      <td>12</td>\n",
       "      <td>Single</td>\n",
       "      <td>3</td>\n",
       "      <td>3</td>\n",
       "      <td>32973</td>\n",
       "      <td>85</td>\n",
       "    </tr>\n",
       "    <tr>\n",
       "      <th>4</th>\n",
       "      <td>KP281</td>\n",
       "      <td>20</td>\n",
       "      <td>Male</td>\n",
       "      <td>13</td>\n",
       "      <td>Partnered</td>\n",
       "      <td>4</td>\n",
       "      <td>2</td>\n",
       "      <td>35247</td>\n",
       "      <td>47</td>\n",
       "    </tr>\n",
       "  </tbody>\n",
       "</table>\n",
       "</div>"
      ],
      "text/plain": [
       "  Product  Age  Gender  Education MaritalStatus  Usage  Fitness  Income  Miles\n",
       "0   KP281   18    Male         14        Single      3        4   29562    112\n",
       "1   KP281   19    Male         15        Single      2        3   31836     75\n",
       "2   KP281   19  Female         14     Partnered      4        3   30699     66\n",
       "3   KP281   19    Male         12        Single      3        3   32973     85\n",
       "4   KP281   20    Male         13     Partnered      4        2   35247     47"
      ]
     },
     "execution_count": 73,
     "metadata": {},
     "output_type": "execute_result"
    }
   ],
   "source": [
    "data.head()"
   ]
  },
  {
   "cell_type": "code",
   "execution_count": 74,
   "metadata": {},
   "outputs": [
    {
     "data": {
      "text/plain": [
       "(180, 9)"
      ]
     },
     "execution_count": 74,
     "metadata": {},
     "output_type": "execute_result"
    }
   ],
   "source": [
    "data.shape"
   ]
  },
  {
   "cell_type": "markdown",
   "metadata": {},
   "source": [
    "## Age"
   ]
  },
  {
   "cell_type": "code",
   "execution_count": 75,
   "metadata": {},
   "outputs": [
    {
     "data": {
      "text/html": [
       "<div>\n",
       "<style scoped>\n",
       "    .dataframe tbody tr th:only-of-type {\n",
       "        vertical-align: middle;\n",
       "    }\n",
       "\n",
       "    .dataframe tbody tr th {\n",
       "        vertical-align: top;\n",
       "    }\n",
       "\n",
       "    .dataframe thead th {\n",
       "        text-align: right;\n",
       "    }\n",
       "</style>\n",
       "<table border=\"1\" class=\"dataframe\">\n",
       "  <thead>\n",
       "    <tr style=\"text-align: right;\">\n",
       "      <th></th>\n",
       "      <th>count</th>\n",
       "      <th>mean</th>\n",
       "      <th>std</th>\n",
       "      <th>min</th>\n",
       "      <th>25%</th>\n",
       "      <th>50%</th>\n",
       "      <th>75%</th>\n",
       "      <th>max</th>\n",
       "    </tr>\n",
       "    <tr>\n",
       "      <th>Product</th>\n",
       "      <th></th>\n",
       "      <th></th>\n",
       "      <th></th>\n",
       "      <th></th>\n",
       "      <th></th>\n",
       "      <th></th>\n",
       "      <th></th>\n",
       "      <th></th>\n",
       "    </tr>\n",
       "  </thead>\n",
       "  <tbody>\n",
       "    <tr>\n",
       "      <th>KP281</th>\n",
       "      <td>80.0</td>\n",
       "      <td>28.55</td>\n",
       "      <td>7.221452</td>\n",
       "      <td>18.0</td>\n",
       "      <td>23.00</td>\n",
       "      <td>26.0</td>\n",
       "      <td>33.00</td>\n",
       "      <td>50.0</td>\n",
       "    </tr>\n",
       "    <tr>\n",
       "      <th>KP481</th>\n",
       "      <td>60.0</td>\n",
       "      <td>28.90</td>\n",
       "      <td>6.645248</td>\n",
       "      <td>19.0</td>\n",
       "      <td>24.00</td>\n",
       "      <td>26.0</td>\n",
       "      <td>33.25</td>\n",
       "      <td>48.0</td>\n",
       "    </tr>\n",
       "    <tr>\n",
       "      <th>KP781</th>\n",
       "      <td>40.0</td>\n",
       "      <td>29.10</td>\n",
       "      <td>6.971738</td>\n",
       "      <td>22.0</td>\n",
       "      <td>24.75</td>\n",
       "      <td>27.0</td>\n",
       "      <td>30.25</td>\n",
       "      <td>48.0</td>\n",
       "    </tr>\n",
       "  </tbody>\n",
       "</table>\n",
       "</div>"
      ],
      "text/plain": [
       "         count   mean       std   min    25%   50%    75%   max\n",
       "Product                                                        \n",
       "KP281     80.0  28.55  7.221452  18.0  23.00  26.0  33.00  50.0\n",
       "KP481     60.0  28.90  6.645248  19.0  24.00  26.0  33.25  48.0\n",
       "KP781     40.0  29.10  6.971738  22.0  24.75  27.0  30.25  48.0"
      ]
     },
     "execution_count": 75,
     "metadata": {},
     "output_type": "execute_result"
    }
   ],
   "source": [
    "data.groupby('Product')['Age'].describe()"
   ]
  },
  {
   "cell_type": "code",
   "execution_count": 76,
   "metadata": {},
   "outputs": [
    {
     "data": {
      "text/plain": [
       "<AxesSubplot:xlabel='Product', ylabel='Age'>"
      ]
     },
     "execution_count": 76,
     "metadata": {},
     "output_type": "execute_result"
    },
    {
     "data": {
      "image/png": "[encoded data removed]",
      "text/plain": [
       "<Figure size 432x288 with 1 Axes>"
      ]
     },
     "metadata": {
      "needs_background": "light"
     },
     "output_type": "display_data"
    }
   ],
   "source": [
    "import seaborn as sns\n",
    "sns.boxplot(x=\"Product\", y=\"Age\", data=data)\n"
   ]
  },
  {
   "cell_type": "code",
   "execution_count": 77,
   "metadata": {},
   "outputs": [
    {
     "data": {
      "text/plain": [
       "F_onewayResult(statistic=0.09421786067805005, pvalue=0.9101300808730235)"
      ]
     },
     "execution_count": 77,
     "metadata": {},
     "output_type": "execute_result"
    }
   ],
   "source": [
    "# statistical test - ANOVA (test if there is any statistical difference among three product groups)\n",
    "from scipy.stats import f_oneway \n",
    "groups = [data.loc[data.Product == p, \"Age\"] for p in data[\"Product\"]. unique()]\n",
    "f_oneway(*groups)\n",
    "# since the p-value is 0.91 > 0.05, there is no evidence suggesting that there is a difference. "
   ]
  },
  {
   "cell_type": "code",
   "execution_count": 78,
   "metadata": {},
   "outputs": [
    {
     "data": {
      "text/html": [
       "<div>\n",
       "<style scoped>\n",
       "    .dataframe tbody tr th:only-of-type {\n",
       "        vertical-align: middle;\n",
       "    }\n",
       "\n",
       "    .dataframe tbody tr th {\n",
       "        vertical-align: top;\n",
       "    }\n",
       "\n",
       "    .dataframe thead th {\n",
       "        text-align: right;\n",
       "    }\n",
       "</style>\n",
       "<table border=\"1\" class=\"dataframe\">\n",
       "  <thead>\n",
       "    <tr style=\"text-align: right;\">\n",
       "      <th>Age</th>\n",
       "      <th>(0, 20]</th>\n",
       "      <th>(20, 30]</th>\n",
       "      <th>(30, 40]</th>\n",
       "      <th>(40, 50]</th>\n",
       "    </tr>\n",
       "    <tr>\n",
       "      <th>Product</th>\n",
       "      <th></th>\n",
       "      <th></th>\n",
       "      <th></th>\n",
       "      <th></th>\n",
       "    </tr>\n",
       "  </thead>\n",
       "  <tbody>\n",
       "    <tr>\n",
       "      <th>KP281</th>\n",
       "      <td>6</td>\n",
       "      <td>49</td>\n",
       "      <td>19</td>\n",
       "      <td>6</td>\n",
       "    </tr>\n",
       "    <tr>\n",
       "      <th>KP481</th>\n",
       "      <td>4</td>\n",
       "      <td>31</td>\n",
       "      <td>23</td>\n",
       "      <td>2</td>\n",
       "    </tr>\n",
       "    <tr>\n",
       "      <th>KP781</th>\n",
       "      <td>0</td>\n",
       "      <td>30</td>\n",
       "      <td>6</td>\n",
       "      <td>4</td>\n",
       "    </tr>\n",
       "  </tbody>\n",
       "</table>\n",
       "</div>"
      ],
      "text/plain": [
       "Age      (0, 20]  (20, 30]  (30, 40]  (40, 50]\n",
       "Product                                       \n",
       "KP281          6        49        19         6\n",
       "KP481          4        31        23         2\n",
       "KP781          0        30         6         4"
      ]
     },
     "execution_count": 78,
     "metadata": {},
     "output_type": "execute_result"
    }
   ],
   "source": [
    "# chi-square test \n",
    "contingency_table = pd.crosstab(data['Product'], pd.cut(data['Age'], bins = [0, 20, 30, 40, 50, 100]))\n",
    "contingency_table"
   ]
  },
  {
   "cell_type": "code",
   "execution_count": 79,
   "metadata": {},
   "outputs": [],
   "source": [
    "# Run chi-square test of independence\n",
    "from scipy.stats import chi2_contingency\n",
    "chi2, p, dof, expected = chi2_contingency(contingency_table)\n",
    "print(f\"Chi-square statistic: {chi2:.3f}\")\n",
    "print(f\"Degrees of freedom: {dof}\")\n",
    "print(f\"P-value: {p:.4f}\")\n",
    "# Since the p-value is 0.0587 > 0.05, we don't have sufficient evidence to reject the null -->\n",
    "# there is an association between age groups and product groups."
   ]
  },
  {
   "cell_type": "code",
   "execution_count": 81,
   "metadata": {},
   "outputs": [
    {
     "data": {
      "text/html": [
       "<div>\n",
       "<style scoped>\n",
       "    .dataframe tbody tr th:only-of-type {\n",
       "        vertical-align: middle;\n",
       "    }\n",
       "\n",
       "    .dataframe tbody tr th {\n",
       "        vertical-align: top;\n",
       "    }\n",
       "\n",
       "    .dataframe thead th {\n",
       "        text-align: right;\n",
       "    }\n",
       "</style>\n",
       "<table border=\"1\" class=\"dataframe\">\n",
       "  <thead>\n",
       "    <tr style=\"text-align: right;\">\n",
       "      <th>Age</th>\n",
       "      <th>(0, 20]</th>\n",
       "      <th>(20, 30]</th>\n",
       "      <th>(30, 40]</th>\n",
       "      <th>(40, 50]</th>\n",
       "    </tr>\n",
       "    <tr>\n",
       "      <th>Product</th>\n",
       "      <th></th>\n",
       "      <th></th>\n",
       "      <th></th>\n",
       "      <th></th>\n",
       "    </tr>\n",
       "  </thead>\n",
       "  <tbody>\n",
       "    <tr>\n",
       "      <th>KP281</th>\n",
       "      <td>0.033333</td>\n",
       "      <td>0.272222</td>\n",
       "      <td>0.105556</td>\n",
       "      <td>0.033333</td>\n",
       "    </tr>\n",
       "    <tr>\n",
       "      <th>KP481</th>\n",
       "      <td>0.022222</td>\n",
       "      <td>0.172222</td>\n",
       "      <td>0.127778</td>\n",
       "      <td>0.011111</td>\n",
       "    </tr>\n",
       "    <tr>\n",
       "      <th>KP781</th>\n",
       "      <td>0.000000</td>\n",
       "      <td>0.166667</td>\n",
       "      <td>0.033333</td>\n",
       "      <td>0.022222</td>\n",
       "    </tr>\n",
       "  </tbody>\n",
       "</table>\n",
       "</div>"
      ],
      "text/plain": [
       "Age       (0, 20]  (20, 30]  (30, 40]  (40, 50]\n",
       "Product                                        \n",
       "KP281    0.033333  0.272222  0.105556  0.033333\n",
       "KP481    0.022222  0.172222  0.127778  0.011111\n",
       "KP781    0.000000  0.166667  0.033333  0.022222"
      ]
     },
     "execution_count": 81,
     "metadata": {},
     "output_type": "execute_result"
    }
   ],
   "source": [
    "# Compute probabilities \n",
    "joint_prob = contingency_table/contingency_table.values.sum()\n",
    "joint_prob"
   ]
  },
  {
   "cell_type": "code",
   "execution_count": 82,
   "metadata": {},
   "outputs": [
    {
     "data": {
      "text/plain": [
       "Product\n",
       "KP281    0.444444\n",
       "KP481    0.333333\n",
       "KP781    0.222222\n",
       "dtype: float64"
      ]
     },
     "execution_count": 82,
     "metadata": {},
     "output_type": "execute_result"
    }
   ],
   "source": [
    "row_marginals = contingency_table.sum(axis = 1) / contingency_table.values.sum()\n",
    "row_marginals"
   ]
  },
  {
   "cell_type": "code",
   "execution_count": 83,
   "metadata": {},
   "outputs": [
    {
     "data": {
      "text/plain": [
       "Age\n",
       "(0, 20]     0.055556\n",
       "(20, 30]    0.611111\n",
       "(30, 40]    0.266667\n",
       "(40, 50]    0.066667\n",
       "dtype: float64"
      ]
     },
     "execution_count": 83,
     "metadata": {},
     "output_type": "execute_result"
    }
   ],
   "source": [
    "col_marginals = contingency_table.sum(axis = 0) / contingency_table.values.sum()\n",
    "col_marginals"
   ]
  },
  {
   "cell_type": "code",
   "execution_count": 84,
   "metadata": {},
   "outputs": [
    {
     "data": {
      "text/html": [
       "<div>\n",
       "<style scoped>\n",
       "    .dataframe tbody tr th:only-of-type {\n",
       "        vertical-align: middle;\n",
       "    }\n",
       "\n",
       "    .dataframe tbody tr th {\n",
       "        vertical-align: top;\n",
       "    }\n",
       "\n",
       "    .dataframe thead th {\n",
       "        text-align: right;\n",
       "    }\n",
       "</style>\n",
       "<table border=\"1\" class=\"dataframe\">\n",
       "  <thead>\n",
       "    <tr style=\"text-align: right;\">\n",
       "      <th>Age</th>\n",
       "      <th>(0, 20]</th>\n",
       "      <th>(20, 30]</th>\n",
       "      <th>(30, 40]</th>\n",
       "      <th>(40, 50]</th>\n",
       "    </tr>\n",
       "    <tr>\n",
       "      <th>Product</th>\n",
       "      <th></th>\n",
       "      <th></th>\n",
       "      <th></th>\n",
       "      <th></th>\n",
       "    </tr>\n",
       "  </thead>\n",
       "  <tbody>\n",
       "    <tr>\n",
       "      <th>KP281</th>\n",
       "      <td>0.075000</td>\n",
       "      <td>0.612500</td>\n",
       "      <td>0.237500</td>\n",
       "      <td>0.075000</td>\n",
       "    </tr>\n",
       "    <tr>\n",
       "      <th>KP481</th>\n",
       "      <td>0.066667</td>\n",
       "      <td>0.516667</td>\n",
       "      <td>0.383333</td>\n",
       "      <td>0.033333</td>\n",
       "    </tr>\n",
       "    <tr>\n",
       "      <th>KP781</th>\n",
       "      <td>0.000000</td>\n",
       "      <td>0.750000</td>\n",
       "      <td>0.150000</td>\n",
       "      <td>0.100000</td>\n",
       "    </tr>\n",
       "  </tbody>\n",
       "</table>\n",
       "</div>"
      ],
      "text/plain": [
       "Age       (0, 20]  (20, 30]  (30, 40]  (40, 50]\n",
       "Product                                        \n",
       "KP281    0.075000  0.612500  0.237500  0.075000\n",
       "KP481    0.066667  0.516667  0.383333  0.033333\n",
       "KP781    0.000000  0.750000  0.150000  0.100000"
      ]
     },
     "execution_count": 84,
     "metadata": {},
     "output_type": "execute_result"
    }
   ],
   "source": [
    "# conditional probabilities\n",
    "# p(product|agegroup): likelihood of buying each product given age group, this probability tells you what product different age group prefer.\n",
    "cond_prob_age = contingency_table.div(contingency_table.sum(axis = 1), axis = 0)\n",
    "cond_prob_age"
   ]
  },
  {
   "cell_type": "markdown",
   "metadata": {},
   "source": [
    "### Insights:"
   ]
  },
  {
   "cell_type": "markdown",
   "metadata": {},
   "source": [
    "It looks like that \n",
    "- age group below 20, which are young and budget-conscious consumers, prefer to buy the cheapest product, KP281 (0.08)\n",
    "- age group 20~30, which are the young professionals at the gym, prefer to buy the most expensive product, KP781 (0.75)\n",
    "- age group 30~40 prefers to buy KP481 (0.38)\n",
    "- for people who are 40 and above, they prefer to buy the most expensive product as well, KP781 ( 0.1)."
   ]
  },
  {
   "cell_type": "markdown",
   "metadata": {},
   "source": [
    "## Gender"
   ]
  },
  {
   "cell_type": "code",
   "execution_count": 86,
   "metadata": {},
   "outputs": [
    {
     "data": {
      "text/html": [
       "<div>\n",
       "<style scoped>\n",
       "    .dataframe tbody tr th:only-of-type {\n",
       "        vertical-align: middle;\n",
       "    }\n",
       "\n",
       "    .dataframe tbody tr th {\n",
       "        vertical-align: top;\n",
       "    }\n",
       "\n",
       "    .dataframe thead th {\n",
       "        text-align: right;\n",
       "    }\n",
       "</style>\n",
       "<table border=\"1\" class=\"dataframe\">\n",
       "  <thead>\n",
       "    <tr style=\"text-align: right;\">\n",
       "      <th>Gender</th>\n",
       "      <th>Female</th>\n",
       "      <th>Male</th>\n",
       "    </tr>\n",
       "    <tr>\n",
       "      <th>Product</th>\n",
       "      <th></th>\n",
       "      <th></th>\n",
       "    </tr>\n",
       "  </thead>\n",
       "  <tbody>\n",
       "    <tr>\n",
       "      <th>KP281</th>\n",
       "      <td>40</td>\n",
       "      <td>40</td>\n",
       "    </tr>\n",
       "    <tr>\n",
       "      <th>KP481</th>\n",
       "      <td>29</td>\n",
       "      <td>31</td>\n",
       "    </tr>\n",
       "    <tr>\n",
       "      <th>KP781</th>\n",
       "      <td>7</td>\n",
       "      <td>33</td>\n",
       "    </tr>\n",
       "  </tbody>\n",
       "</table>\n",
       "</div>"
      ],
      "text/plain": [
       "Gender   Female  Male\n",
       "Product              \n",
       "KP281        40    40\n",
       "KP481        29    31\n",
       "KP781         7    33"
      ]
     },
     "execution_count": 86,
     "metadata": {},
     "output_type": "execute_result"
    }
   ],
   "source": [
    "contingency_table = pd.crosstab(data['Product'], data['Gender'])\n",
    "contingency_table"
   ]
  },
  {
   "cell_type": "code",
   "execution_count": 87,
   "metadata": {},
   "outputs": [
    {
     "name": "stdout",
     "output_type": "stream",
     "text": [
      "Chi-square statistic: 12.924\n",
      "Degrees of freedom: 2\n",
      "P-value: 0.0016\n"
     ]
    }
   ],
   "source": [
    "# Run chi-square test of independence\n",
    "chi2, p, dof, expected = chi2_contingency(contingency_table)\n",
    "print(f\"Chi-square statistic: {chi2:.3f}\")\n",
    "print(f\"Degrees of freedom: {dof}\")\n",
    "print(f\"P-value: {p:.4f}\")\n",
    "# Since the p-value is 0.0016 < 0.05, we can reject the null and conclude that\n",
    "# there is an association between gender and products"
   ]
  },
  {
   "cell_type": "code",
   "execution_count": 88,
   "metadata": {},
   "outputs": [
    {
     "data": {
      "text/html": [
       "<div>\n",
       "<style scoped>\n",
       "    .dataframe tbody tr th:only-of-type {\n",
       "        vertical-align: middle;\n",
       "    }\n",
       "\n",
       "    .dataframe tbody tr th {\n",
       "        vertical-align: top;\n",
       "    }\n",
       "\n",
       "    .dataframe thead th {\n",
       "        text-align: right;\n",
       "    }\n",
       "</style>\n",
       "<table border=\"1\" class=\"dataframe\">\n",
       "  <thead>\n",
       "    <tr style=\"text-align: right;\">\n",
       "      <th>Gender</th>\n",
       "      <th>Female</th>\n",
       "      <th>Male</th>\n",
       "    </tr>\n",
       "    <tr>\n",
       "      <th>Product</th>\n",
       "      <th></th>\n",
       "      <th></th>\n",
       "    </tr>\n",
       "  </thead>\n",
       "  <tbody>\n",
       "    <tr>\n",
       "      <th>KP281</th>\n",
       "      <td>0.222222</td>\n",
       "      <td>0.222222</td>\n",
       "    </tr>\n",
       "    <tr>\n",
       "      <th>KP481</th>\n",
       "      <td>0.161111</td>\n",
       "      <td>0.172222</td>\n",
       "    </tr>\n",
       "    <tr>\n",
       "      <th>KP781</th>\n",
       "      <td>0.038889</td>\n",
       "      <td>0.183333</td>\n",
       "    </tr>\n",
       "  </tbody>\n",
       "</table>\n",
       "</div>"
      ],
      "text/plain": [
       "Gender     Female      Male\n",
       "Product                    \n",
       "KP281    0.222222  0.222222\n",
       "KP481    0.161111  0.172222\n",
       "KP781    0.038889  0.183333"
      ]
     },
     "execution_count": 88,
     "metadata": {},
     "output_type": "execute_result"
    }
   ],
   "source": [
    "# Compute probabilities \n",
    "joint_prob = contingency_table/contingency_table.values.sum()\n",
    "joint_prob"
   ]
  },
  {
   "cell_type": "code",
   "execution_count": 89,
   "metadata": {},
   "outputs": [
    {
     "data": {
      "text/plain": [
       "Product\n",
       "KP281    0.444444\n",
       "KP481    0.333333\n",
       "KP781    0.222222\n",
       "dtype: float64"
      ]
     },
     "execution_count": 89,
     "metadata": {},
     "output_type": "execute_result"
    }
   ],
   "source": [
    "row_marginals = contingency_table.sum(axis = 1) / contingency_table.values.sum()\n",
    "row_marginals"
   ]
  },
  {
   "cell_type": "code",
   "execution_count": 90,
   "metadata": {},
   "outputs": [
    {
     "data": {
      "text/plain": [
       "Gender\n",
       "Female    0.422222\n",
       "Male      0.577778\n",
       "dtype: float64"
      ]
     },
     "execution_count": 90,
     "metadata": {},
     "output_type": "execute_result"
    }
   ],
   "source": [
    "col_marginals = contingency_table.sum(axis = 0) / contingency_table.values.sum()\n",
    "col_marginals"
   ]
  },
  {
   "cell_type": "code",
   "execution_count": 91,
   "metadata": {},
   "outputs": [
    {
     "data": {
      "text/html": [
       "<div>\n",
       "<style scoped>\n",
       "    .dataframe tbody tr th:only-of-type {\n",
       "        vertical-align: middle;\n",
       "    }\n",
       "\n",
       "    .dataframe tbody tr th {\n",
       "        vertical-align: top;\n",
       "    }\n",
       "\n",
       "    .dataframe thead th {\n",
       "        text-align: right;\n",
       "    }\n",
       "</style>\n",
       "<table border=\"1\" class=\"dataframe\">\n",
       "  <thead>\n",
       "    <tr style=\"text-align: right;\">\n",
       "      <th>Gender</th>\n",
       "      <th>Female</th>\n",
       "      <th>Male</th>\n",
       "    </tr>\n",
       "    <tr>\n",
       "      <th>Product</th>\n",
       "      <th></th>\n",
       "      <th></th>\n",
       "    </tr>\n",
       "  </thead>\n",
       "  <tbody>\n",
       "    <tr>\n",
       "      <th>KP281</th>\n",
       "      <td>0.500000</td>\n",
       "      <td>0.500000</td>\n",
       "    </tr>\n",
       "    <tr>\n",
       "      <th>KP481</th>\n",
       "      <td>0.483333</td>\n",
       "      <td>0.516667</td>\n",
       "    </tr>\n",
       "    <tr>\n",
       "      <th>KP781</th>\n",
       "      <td>0.175000</td>\n",
       "      <td>0.825000</td>\n",
       "    </tr>\n",
       "  </tbody>\n",
       "</table>\n",
       "</div>"
      ],
      "text/plain": [
       "Gender     Female      Male\n",
       "Product                    \n",
       "KP281    0.500000  0.500000\n",
       "KP481    0.483333  0.516667\n",
       "KP781    0.175000  0.825000"
      ]
     },
     "execution_count": 91,
     "metadata": {},
     "output_type": "execute_result"
    }
   ],
   "source": [
    "# conditional probabilities\n",
    "# p(product|gender): likelihood of buying each product given gender\n",
    "cond_prob_gender = contingency_table.div(contingency_table.sum(axis = 1), axis = 0)\n",
    "cond_prob_gender"
   ]
  },
  {
   "cell_type": "markdown",
   "metadata": {},
   "source": [
    "### Insights:"
   ]
  },
  {
   "cell_type": "markdown",
   "metadata": {},
   "source": [
    "It looks like that female customers prefer cheaper product, and the male customers prefer more expensive product. "
   ]
  },
  {
   "cell_type": "markdown",
   "metadata": {},
   "source": [
    "## Education"
   ]
  },
  {
   "cell_type": "code",
   "execution_count": 93,
   "metadata": {},
   "outputs": [
    {
     "data": {
      "text/html": [
       "<div>\n",
       "<style scoped>\n",
       "    .dataframe tbody tr th:only-of-type {\n",
       "        vertical-align: middle;\n",
       "    }\n",
       "\n",
       "    .dataframe tbody tr th {\n",
       "        vertical-align: top;\n",
       "    }\n",
       "\n",
       "    .dataframe thead th {\n",
       "        text-align: right;\n",
       "    }\n",
       "</style>\n",
       "<table border=\"1\" class=\"dataframe\">\n",
       "  <thead>\n",
       "    <tr style=\"text-align: right;\">\n",
       "      <th></th>\n",
       "      <th>count</th>\n",
       "      <th>mean</th>\n",
       "      <th>std</th>\n",
       "      <th>min</th>\n",
       "      <th>25%</th>\n",
       "      <th>50%</th>\n",
       "      <th>75%</th>\n",
       "      <th>max</th>\n",
       "    </tr>\n",
       "    <tr>\n",
       "      <th>Product</th>\n",
       "      <th></th>\n",
       "      <th></th>\n",
       "      <th></th>\n",
       "      <th></th>\n",
       "      <th></th>\n",
       "      <th></th>\n",
       "      <th></th>\n",
       "      <th></th>\n",
       "    </tr>\n",
       "  </thead>\n",
       "  <tbody>\n",
       "    <tr>\n",
       "      <th>KP281</th>\n",
       "      <td>80.0</td>\n",
       "      <td>15.037500</td>\n",
       "      <td>1.216383</td>\n",
       "      <td>12.0</td>\n",
       "      <td>14.0</td>\n",
       "      <td>16.0</td>\n",
       "      <td>16.0</td>\n",
       "      <td>18.0</td>\n",
       "    </tr>\n",
       "    <tr>\n",
       "      <th>KP481</th>\n",
       "      <td>60.0</td>\n",
       "      <td>15.116667</td>\n",
       "      <td>1.222552</td>\n",
       "      <td>12.0</td>\n",
       "      <td>14.0</td>\n",
       "      <td>16.0</td>\n",
       "      <td>16.0</td>\n",
       "      <td>18.0</td>\n",
       "    </tr>\n",
       "    <tr>\n",
       "      <th>KP781</th>\n",
       "      <td>40.0</td>\n",
       "      <td>17.325000</td>\n",
       "      <td>1.639066</td>\n",
       "      <td>14.0</td>\n",
       "      <td>16.0</td>\n",
       "      <td>18.0</td>\n",
       "      <td>18.0</td>\n",
       "      <td>21.0</td>\n",
       "    </tr>\n",
       "  </tbody>\n",
       "</table>\n",
       "</div>"
      ],
      "text/plain": [
       "         count       mean       std   min   25%   50%   75%   max\n",
       "Product                                                          \n",
       "KP281     80.0  15.037500  1.216383  12.0  14.0  16.0  16.0  18.0\n",
       "KP481     60.0  15.116667  1.222552  12.0  14.0  16.0  16.0  18.0\n",
       "KP781     40.0  17.325000  1.639066  14.0  16.0  18.0  18.0  21.0"
      ]
     },
     "execution_count": 93,
     "metadata": {},
     "output_type": "execute_result"
    }
   ],
   "source": [
    "data.groupby('Product')['Education'].describe()"
   ]
  },
  {
   "cell_type": "code",
   "execution_count": 94,
   "metadata": {},
   "outputs": [
    {
     "data": {
      "text/plain": [
       "<AxesSubplot:xlabel='Product', ylabel='Education'>"
      ]
     },
     "execution_count": 94,
     "metadata": {},
     "output_type": "execute_result"
    },
    {
     "data": {
      "image/png": "[encoded data removed]",
      "text/plain": [
       "<Figure size 432x288 with 1 Axes>"
      ]
     },
     "metadata": {
      "needs_background": "light"
     },
     "output_type": "display_data"
    }
   ],
   "source": [
    "sns.boxplot(x=\"Product\", y=\"Education\", data=data)"
   ]
  },
  {
   "cell_type": "code",
   "execution_count": 95,
   "metadata": {},
   "outputs": [
    {
     "data": {
      "text/plain": [
       "F_onewayResult(statistic=45.19038365853986, pvalue=1.3951292571863714e-16)"
      ]
     },
     "execution_count": 95,
     "metadata": {},
     "output_type": "execute_result"
    }
   ],
   "source": [
    "# statistical test - ANOVA \n",
    "groups = [data.loc[data.Product == p, \"Education\"] for p in data[\"Product\"]. unique()]\n",
    "f_oneway(*groups)\n",
    "# since the p-value is less than 0.05, suggesting that the mean education level differs among three groups.\n",
    "# Based on the visualization, we can tell that people with higher educational level prefer to buy KP781. "
   ]
  },
  {
   "cell_type": "code",
   "execution_count": 96,
   "metadata": {},
   "outputs": [
    {
     "data": {
      "text/html": [
       "<div>\n",
       "<style scoped>\n",
       "    .dataframe tbody tr th:only-of-type {\n",
       "        vertical-align: middle;\n",
       "    }\n",
       "\n",
       "    .dataframe tbody tr th {\n",
       "        vertical-align: top;\n",
       "    }\n",
       "\n",
       "    .dataframe thead th {\n",
       "        text-align: right;\n",
       "    }\n",
       "</style>\n",
       "<table border=\"1\" class=\"dataframe\">\n",
       "  <thead>\n",
       "    <tr style=\"text-align: right;\">\n",
       "      <th>Education</th>\n",
       "      <th>(0, 12]</th>\n",
       "      <th>(12, 16]</th>\n",
       "      <th>(16, 18]</th>\n",
       "      <th>(18, 22]</th>\n",
       "    </tr>\n",
       "    <tr>\n",
       "      <th>Product</th>\n",
       "      <th></th>\n",
       "      <th></th>\n",
       "      <th></th>\n",
       "      <th></th>\n",
       "    </tr>\n",
       "  </thead>\n",
       "  <tbody>\n",
       "    <tr>\n",
       "      <th>KP281</th>\n",
       "      <td>2</td>\n",
       "      <td>76</td>\n",
       "      <td>2</td>\n",
       "      <td>0</td>\n",
       "    </tr>\n",
       "    <tr>\n",
       "      <th>KP481</th>\n",
       "      <td>1</td>\n",
       "      <td>57</td>\n",
       "      <td>2</td>\n",
       "      <td>0</td>\n",
       "    </tr>\n",
       "    <tr>\n",
       "      <th>KP781</th>\n",
       "      <td>0</td>\n",
       "      <td>17</td>\n",
       "      <td>19</td>\n",
       "      <td>4</td>\n",
       "    </tr>\n",
       "  </tbody>\n",
       "</table>\n",
       "</div>"
      ],
      "text/plain": [
       "Education  (0, 12]  (12, 16]  (16, 18]  (18, 22]\n",
       "Product                                         \n",
       "KP281            2        76         2         0\n",
       "KP481            1        57         2         0\n",
       "KP781            0        17        19         4"
      ]
     },
     "execution_count": 96,
     "metadata": {},
     "output_type": "execute_result"
    }
   ],
   "source": [
    "# chi-square test \n",
    "contingency_table = pd.crosstab(data['Product'], pd.cut(data['Education'], bins = [0, 12, 16, 18, 22]))\n",
    "contingency_table"
   ]
  },
  {
   "cell_type": "code",
   "execution_count": 97,
   "metadata": {},
   "outputs": [
    {
     "name": "stdout",
     "output_type": "stream",
     "text": [
      "Chi-square statistic: 73.833\n",
      "Degrees of freedom: 6\n",
      "P-value: 0.0000\n"
     ]
    }
   ],
   "source": [
    "# Run chi-square test of independence\n",
    "chi2, p, dof, expected = chi2_contingency(contingency_table)\n",
    "print(f\"Chi-square statistic: {chi2:.3f}\")\n",
    "print(f\"Degrees of freedom: {dof}\")\n",
    "print(f\"P-value: {p:.4f}\")\n",
    "# Since the p-value is less than 0.05, suggesting that there is an association between educational level and product groups."
   ]
  },
  {
   "cell_type": "code",
   "execution_count": 98,
   "metadata": {},
   "outputs": [
    {
     "data": {
      "text/html": [
       "<div>\n",
       "<style scoped>\n",
       "    .dataframe tbody tr th:only-of-type {\n",
       "        vertical-align: middle;\n",
       "    }\n",
       "\n",
       "    .dataframe tbody tr th {\n",
       "        vertical-align: top;\n",
       "    }\n",
       "\n",
       "    .dataframe thead th {\n",
       "        text-align: right;\n",
       "    }\n",
       "</style>\n",
       "<table border=\"1\" class=\"dataframe\">\n",
       "  <thead>\n",
       "    <tr style=\"text-align: right;\">\n",
       "      <th>Education</th>\n",
       "      <th>(0, 12]</th>\n",
       "      <th>(12, 16]</th>\n",
       "      <th>(16, 18]</th>\n",
       "      <th>(18, 22]</th>\n",
       "    </tr>\n",
       "    <tr>\n",
       "      <th>Product</th>\n",
       "      <th></th>\n",
       "      <th></th>\n",
       "      <th></th>\n",
       "      <th></th>\n",
       "    </tr>\n",
       "  </thead>\n",
       "  <tbody>\n",
       "    <tr>\n",
       "      <th>KP281</th>\n",
       "      <td>0.011111</td>\n",
       "      <td>0.422222</td>\n",
       "      <td>0.011111</td>\n",
       "      <td>0.000000</td>\n",
       "    </tr>\n",
       "    <tr>\n",
       "      <th>KP481</th>\n",
       "      <td>0.005556</td>\n",
       "      <td>0.316667</td>\n",
       "      <td>0.011111</td>\n",
       "      <td>0.000000</td>\n",
       "    </tr>\n",
       "    <tr>\n",
       "      <th>KP781</th>\n",
       "      <td>0.000000</td>\n",
       "      <td>0.094444</td>\n",
       "      <td>0.105556</td>\n",
       "      <td>0.022222</td>\n",
       "    </tr>\n",
       "  </tbody>\n",
       "</table>\n",
       "</div>"
      ],
      "text/plain": [
       "Education   (0, 12]  (12, 16]  (16, 18]  (18, 22]\n",
       "Product                                          \n",
       "KP281      0.011111  0.422222  0.011111  0.000000\n",
       "KP481      0.005556  0.316667  0.011111  0.000000\n",
       "KP781      0.000000  0.094444  0.105556  0.022222"
      ]
     },
     "execution_count": 98,
     "metadata": {},
     "output_type": "execute_result"
    }
   ],
   "source": [
    "# Compute probabilities \n",
    "joint_prob = contingency_table/contingency_table.values.sum()\n",
    "joint_prob"
   ]
  },
  {
   "cell_type": "code",
   "execution_count": 101,
   "metadata": {},
   "outputs": [
    {
     "data": {
      "text/plain": [
       "Product\n",
       "KP281    0.444444\n",
       "KP481    0.333333\n",
       "KP781    0.222222\n",
       "dtype: float64"
      ]
     },
     "execution_count": 101,
     "metadata": {},
     "output_type": "execute_result"
    }
   ],
   "source": [
    "row_marginals = contingency_table.sum(axis = 1) / contingency_table.values.sum()\n",
    "row_marginals"
   ]
  },
  {
   "cell_type": "code",
   "execution_count": 102,
   "metadata": {},
   "outputs": [
    {
     "data": {
      "text/plain": [
       "Education\n",
       "(0, 12]     0.016667\n",
       "(12, 16]    0.833333\n",
       "(16, 18]    0.127778\n",
       "(18, 22]    0.022222\n",
       "dtype: float64"
      ]
     },
     "execution_count": 102,
     "metadata": {},
     "output_type": "execute_result"
    }
   ],
   "source": [
    "col_marginals = contingency_table.sum(axis = 0) / contingency_table.values.sum()\n",
    "col_marginals"
   ]
  },
  {
   "cell_type": "code",
   "execution_count": 103,
   "metadata": {},
   "outputs": [
    {
     "data": {
      "text/html": [
       "<div>\n",
       "<style scoped>\n",
       "    .dataframe tbody tr th:only-of-type {\n",
       "        vertical-align: middle;\n",
       "    }\n",
       "\n",
       "    .dataframe tbody tr th {\n",
       "        vertical-align: top;\n",
       "    }\n",
       "\n",
       "    .dataframe thead th {\n",
       "        text-align: right;\n",
       "    }\n",
       "</style>\n",
       "<table border=\"1\" class=\"dataframe\">\n",
       "  <thead>\n",
       "    <tr style=\"text-align: right;\">\n",
       "      <th>Education</th>\n",
       "      <th>(0, 12]</th>\n",
       "      <th>(12, 16]</th>\n",
       "      <th>(16, 18]</th>\n",
       "      <th>(18, 22]</th>\n",
       "    </tr>\n",
       "    <tr>\n",
       "      <th>Product</th>\n",
       "      <th></th>\n",
       "      <th></th>\n",
       "      <th></th>\n",
       "      <th></th>\n",
       "    </tr>\n",
       "  </thead>\n",
       "  <tbody>\n",
       "    <tr>\n",
       "      <th>KP281</th>\n",
       "      <td>0.025000</td>\n",
       "      <td>0.950</td>\n",
       "      <td>0.025000</td>\n",
       "      <td>0.0</td>\n",
       "    </tr>\n",
       "    <tr>\n",
       "      <th>KP481</th>\n",
       "      <td>0.016667</td>\n",
       "      <td>0.950</td>\n",
       "      <td>0.033333</td>\n",
       "      <td>0.0</td>\n",
       "    </tr>\n",
       "    <tr>\n",
       "      <th>KP781</th>\n",
       "      <td>0.000000</td>\n",
       "      <td>0.425</td>\n",
       "      <td>0.475000</td>\n",
       "      <td>0.1</td>\n",
       "    </tr>\n",
       "  </tbody>\n",
       "</table>\n",
       "</div>"
      ],
      "text/plain": [
       "Education   (0, 12]  (12, 16]  (16, 18]  (18, 22]\n",
       "Product                                          \n",
       "KP281      0.025000     0.950  0.025000       0.0\n",
       "KP481      0.016667     0.950  0.033333       0.0\n",
       "KP781      0.000000     0.425  0.475000       0.1"
      ]
     },
     "execution_count": 103,
     "metadata": {},
     "output_type": "execute_result"
    }
   ],
   "source": [
    "# conditional probabilities\n",
    "# p(product|education_group): likelihood of buying each product given age group, this probability tells you what product different age group prefer.\n",
    "cond_prob_edu = contingency_table.div(contingency_table.sum(axis = 1), axis = 0)\n",
    "cond_prob_edu"
   ]
  },
  {
   "cell_type": "markdown",
   "metadata": {},
   "source": [
    "### Insights:"
   ]
  },
  {
   "cell_type": "markdown",
   "metadata": {},
   "source": [
    "It looks like that if your educational level is in 12 years and below, you are more likely to buy KP281.\n",
    "if it's between 12 ~ 16, you are more likely to buy KP281 OR KP481.\n",
    "if it's above 16 years, you are more likely to buy KP781."
   ]
  },
  {
   "cell_type": "markdown",
   "metadata": {},
   "source": [
    "## MaritalStatus"
   ]
  },
  {
   "cell_type": "code",
   "execution_count": 104,
   "metadata": {},
   "outputs": [
    {
     "data": {
      "text/html": [
       "<div>\n",
       "<style scoped>\n",
       "    .dataframe tbody tr th:only-of-type {\n",
       "        vertical-align: middle;\n",
       "    }\n",
       "\n",
       "    .dataframe tbody tr th {\n",
       "        vertical-align: top;\n",
       "    }\n",
       "\n",
       "    .dataframe thead th {\n",
       "        text-align: right;\n",
       "    }\n",
       "</style>\n",
       "<table border=\"1\" class=\"dataframe\">\n",
       "  <thead>\n",
       "    <tr style=\"text-align: right;\">\n",
       "      <th>MaritalStatus</th>\n",
       "      <th>Partnered</th>\n",
       "      <th>Single</th>\n",
       "    </tr>\n",
       "    <tr>\n",
       "      <th>Product</th>\n",
       "      <th></th>\n",
       "      <th></th>\n",
       "    </tr>\n",
       "  </thead>\n",
       "  <tbody>\n",
       "    <tr>\n",
       "      <th>KP281</th>\n",
       "      <td>48</td>\n",
       "      <td>32</td>\n",
       "    </tr>\n",
       "    <tr>\n",
       "      <th>KP481</th>\n",
       "      <td>36</td>\n",
       "      <td>24</td>\n",
       "    </tr>\n",
       "    <tr>\n",
       "      <th>KP781</th>\n",
       "      <td>23</td>\n",
       "      <td>17</td>\n",
       "    </tr>\n",
       "  </tbody>\n",
       "</table>\n",
       "</div>"
      ],
      "text/plain": [
       "MaritalStatus  Partnered  Single\n",
       "Product                         \n",
       "KP281                 48      32\n",
       "KP481                 36      24\n",
       "KP781                 23      17"
      ]
     },
     "execution_count": 104,
     "metadata": {},
     "output_type": "execute_result"
    }
   ],
   "source": [
    "contingency_table = pd.crosstab(data['Product'], data['MaritalStatus'])\n",
    "contingency_table"
   ]
  },
  {
   "cell_type": "code",
   "execution_count": 105,
   "metadata": {},
   "outputs": [
    {
     "name": "stdout",
     "output_type": "stream",
     "text": [
      "Chi-square statistic: 0.081\n",
      "Degrees of freedom: 2\n",
      "P-value: 0.9605\n"
     ]
    }
   ],
   "source": [
    "# Run chi-square test of independence\n",
    "chi2, p, dof, expected = chi2_contingency(contingency_table)\n",
    "print(f\"Chi-square statistic: {chi2:.3f}\")\n",
    "print(f\"Degrees of freedom: {dof}\")\n",
    "print(f\"P-value: {p:.4f}\")\n",
    "# Since the p-value is 0.9605 > 0.05, we can't reject the null and conclude that\n",
    "# there isn't a strong association between marital status and product groups"
   ]
  },
  {
   "cell_type": "code",
   "execution_count": 106,
   "metadata": {},
   "outputs": [
    {
     "data": {
      "text/html": [
       "<div>\n",
       "<style scoped>\n",
       "    .dataframe tbody tr th:only-of-type {\n",
       "        vertical-align: middle;\n",
       "    }\n",
       "\n",
       "    .dataframe tbody tr th {\n",
       "        vertical-align: top;\n",
       "    }\n",
       "\n",
       "    .dataframe thead th {\n",
       "        text-align: right;\n",
       "    }\n",
       "</style>\n",
       "<table border=\"1\" class=\"dataframe\">\n",
       "  <thead>\n",
       "    <tr style=\"text-align: right;\">\n",
       "      <th>MaritalStatus</th>\n",
       "      <th>Partnered</th>\n",
       "      <th>Single</th>\n",
       "    </tr>\n",
       "    <tr>\n",
       "      <th>Product</th>\n",
       "      <th></th>\n",
       "      <th></th>\n",
       "    </tr>\n",
       "  </thead>\n",
       "  <tbody>\n",
       "    <tr>\n",
       "      <th>KP281</th>\n",
       "      <td>0.266667</td>\n",
       "      <td>0.177778</td>\n",
       "    </tr>\n",
       "    <tr>\n",
       "      <th>KP481</th>\n",
       "      <td>0.200000</td>\n",
       "      <td>0.133333</td>\n",
       "    </tr>\n",
       "    <tr>\n",
       "      <th>KP781</th>\n",
       "      <td>0.127778</td>\n",
       "      <td>0.094444</td>\n",
       "    </tr>\n",
       "  </tbody>\n",
       "</table>\n",
       "</div>"
      ],
      "text/plain": [
       "MaritalStatus  Partnered    Single\n",
       "Product                           \n",
       "KP281           0.266667  0.177778\n",
       "KP481           0.200000  0.133333\n",
       "KP781           0.127778  0.094444"
      ]
     },
     "execution_count": 106,
     "metadata": {},
     "output_type": "execute_result"
    }
   ],
   "source": [
    "# Compute the probabilities\n",
    "joint_prob = contingency_table/contingency_table.values.sum()\n",
    "joint_prob"
   ]
  },
  {
   "cell_type": "code",
   "execution_count": 108,
   "metadata": {},
   "outputs": [
    {
     "data": {
      "text/plain": [
       "Product\n",
       "KP281    0.444444\n",
       "KP481    0.333333\n",
       "KP781    0.222222\n",
       "dtype: float64"
      ]
     },
     "execution_count": 108,
     "metadata": {},
     "output_type": "execute_result"
    }
   ],
   "source": [
    "row_marginals = contingency_table.sum(axis = 1)/contingency_table.values.sum()\n",
    "row_marginals"
   ]
  },
  {
   "cell_type": "code",
   "execution_count": 109,
   "metadata": {},
   "outputs": [
    {
     "data": {
      "text/plain": [
       "MaritalStatus\n",
       "Partnered    0.594444\n",
       "Single       0.405556\n",
       "dtype: float64"
      ]
     },
     "execution_count": 109,
     "metadata": {},
     "output_type": "execute_result"
    }
   ],
   "source": [
    "col_marginals = contingency_table.sum(axis = 0)/contingency_table.values.sum()\n",
    "col_marginals\n",
    "# 59% of the customers who bought the treadmill are partnered, 41% are singles. "
   ]
  },
  {
   "cell_type": "code",
   "execution_count": 110,
   "metadata": {},
   "outputs": [
    {
     "data": {
      "text/html": [
       "<div>\n",
       "<style scoped>\n",
       "    .dataframe tbody tr th:only-of-type {\n",
       "        vertical-align: middle;\n",
       "    }\n",
       "\n",
       "    .dataframe tbody tr th {\n",
       "        vertical-align: top;\n",
       "    }\n",
       "\n",
       "    .dataframe thead th {\n",
       "        text-align: right;\n",
       "    }\n",
       "</style>\n",
       "<table border=\"1\" class=\"dataframe\">\n",
       "  <thead>\n",
       "    <tr style=\"text-align: right;\">\n",
       "      <th>MaritalStatus</th>\n",
       "      <th>Partnered</th>\n",
       "      <th>Single</th>\n",
       "    </tr>\n",
       "    <tr>\n",
       "      <th>Product</th>\n",
       "      <th></th>\n",
       "      <th></th>\n",
       "    </tr>\n",
       "  </thead>\n",
       "  <tbody>\n",
       "    <tr>\n",
       "      <th>KP281</th>\n",
       "      <td>0.600</td>\n",
       "      <td>0.400</td>\n",
       "    </tr>\n",
       "    <tr>\n",
       "      <th>KP481</th>\n",
       "      <td>0.600</td>\n",
       "      <td>0.400</td>\n",
       "    </tr>\n",
       "    <tr>\n",
       "      <th>KP781</th>\n",
       "      <td>0.575</td>\n",
       "      <td>0.425</td>\n",
       "    </tr>\n",
       "  </tbody>\n",
       "</table>\n",
       "</div>"
      ],
      "text/plain": [
       "MaritalStatus  Partnered  Single\n",
       "Product                         \n",
       "KP281              0.600   0.400\n",
       "KP481              0.600   0.400\n",
       "KP781              0.575   0.425"
      ]
     },
     "execution_count": 110,
     "metadata": {},
     "output_type": "execute_result"
    }
   ],
   "source": [
    "# conditional probabilities\n",
    "# p(product|gender): likelihood of buying each product given martial status \n",
    "cond_prob_marital = contingency_table.div(contingency_table.sum(axis = 1), axis = 0)\n",
    "cond_prob_marital"
   ]
  },
  {
   "cell_type": "markdown",
   "metadata": {},
   "source": [
    "### Insights:"
   ]
  },
  {
   "cell_type": "markdown",
   "metadata": {},
   "source": [
    "It looks like that if you are single, then the probability of getting the most expensive product is 2.5% higher than if you have a partner. If you are partnered, the probability of getting KP281 and KP481 are about the same, 60%; the probability of getting KP781 will decrease by 2.5%.  "
   ]
  },
  {
   "cell_type": "code",
   "execution_count": 111,
   "metadata": {},
   "outputs": [
    {
     "data": {
      "text/plain": [
       "Index(['Product', 'Age', 'Gender', 'Education', 'MaritalStatus', 'Usage',\n",
       "       'Fitness', 'Income', 'Miles'],\n",
       "      dtype='object')"
      ]
     },
     "execution_count": 111,
     "metadata": {},
     "output_type": "execute_result"
    }
   ],
   "source": [
    "data.columns"
   ]
  },
  {
   "cell_type": "markdown",
   "metadata": {},
   "source": [
    "## Usage"
   ]
  },
  {
   "cell_type": "code",
   "execution_count": 112,
   "metadata": {},
   "outputs": [
    {
     "data": {
      "text/html": [
       "<div>\n",
       "<style scoped>\n",
       "    .dataframe tbody tr th:only-of-type {\n",
       "        vertical-align: middle;\n",
       "    }\n",
       "\n",
       "    .dataframe tbody tr th {\n",
       "        vertical-align: top;\n",
       "    }\n",
       "\n",
       "    .dataframe thead th {\n",
       "        text-align: right;\n",
       "    }\n",
       "</style>\n",
       "<table border=\"1\" class=\"dataframe\">\n",
       "  <thead>\n",
       "    <tr style=\"text-align: right;\">\n",
       "      <th></th>\n",
       "      <th>count</th>\n",
       "      <th>mean</th>\n",
       "      <th>std</th>\n",
       "      <th>min</th>\n",
       "      <th>25%</th>\n",
       "      <th>50%</th>\n",
       "      <th>75%</th>\n",
       "      <th>max</th>\n",
       "    </tr>\n",
       "    <tr>\n",
       "      <th>Product</th>\n",
       "      <th></th>\n",
       "      <th></th>\n",
       "      <th></th>\n",
       "      <th></th>\n",
       "      <th></th>\n",
       "      <th></th>\n",
       "      <th></th>\n",
       "      <th></th>\n",
       "    </tr>\n",
       "  </thead>\n",
       "  <tbody>\n",
       "    <tr>\n",
       "      <th>KP281</th>\n",
       "      <td>80.0</td>\n",
       "      <td>3.087500</td>\n",
       "      <td>0.782624</td>\n",
       "      <td>2.0</td>\n",
       "      <td>3.0</td>\n",
       "      <td>3.0</td>\n",
       "      <td>4.00</td>\n",
       "      <td>5.0</td>\n",
       "    </tr>\n",
       "    <tr>\n",
       "      <th>KP481</th>\n",
       "      <td>60.0</td>\n",
       "      <td>3.066667</td>\n",
       "      <td>0.799717</td>\n",
       "      <td>2.0</td>\n",
       "      <td>3.0</td>\n",
       "      <td>3.0</td>\n",
       "      <td>3.25</td>\n",
       "      <td>5.0</td>\n",
       "    </tr>\n",
       "    <tr>\n",
       "      <th>KP781</th>\n",
       "      <td>40.0</td>\n",
       "      <td>4.775000</td>\n",
       "      <td>0.946993</td>\n",
       "      <td>3.0</td>\n",
       "      <td>4.0</td>\n",
       "      <td>5.0</td>\n",
       "      <td>5.00</td>\n",
       "      <td>7.0</td>\n",
       "    </tr>\n",
       "  </tbody>\n",
       "</table>\n",
       "</div>"
      ],
      "text/plain": [
       "         count      mean       std  min  25%  50%   75%  max\n",
       "Product                                                     \n",
       "KP281     80.0  3.087500  0.782624  2.0  3.0  3.0  4.00  5.0\n",
       "KP481     60.0  3.066667  0.799717  2.0  3.0  3.0  3.25  5.0\n",
       "KP781     40.0  4.775000  0.946993  3.0  4.0  5.0  5.00  7.0"
      ]
     },
     "execution_count": 112,
     "metadata": {},
     "output_type": "execute_result"
    }
   ],
   "source": [
    "data.groupby('Product')['Usage'].describe()"
   ]
  },
  {
   "cell_type": "code",
   "execution_count": 113,
   "metadata": {},
   "outputs": [
    {
     "data": {
      "text/plain": [
       "<AxesSubplot:xlabel='Product', ylabel='Usage'>"
      ]
     },
     "execution_count": 113,
     "metadata": {},
     "output_type": "execute_result"
    },
    {
     "data": {
      "image/png": "[encoded data removed]",
      "text/plain": [
       "<Figure size 432x288 with 1 Axes>"
      ]
     },
     "metadata": {
      "needs_background": "light"
     },
     "output_type": "display_data"
    }
   ],
   "source": [
    "sns.boxplot(x = 'Product', y = 'Usage', data = data)"
   ]
  },
  {
   "cell_type": "code",
   "execution_count": 114,
   "metadata": {},
   "outputs": [
    {
     "data": {
      "text/plain": [
       "F_onewayResult(statistic=65.44446547156178, pvalue=5.281513288947641e-22)"
      ]
     },
     "execution_count": 114,
     "metadata": {},
     "output_type": "execute_result"
    }
   ],
   "source": [
    "# statistical test - ANOVA\n",
    "# test if there is any statistical difference among the avearge amount of times customers plan to use the treadmill of three product groups)\n",
    "from scipy.stats import f_oneway \n",
    "groups = [data.loc[data.Product == p, \"Usage\"] for p in data[\"Product\"]. unique()]\n",
    "f_oneway(*groups)\n",
    "# since the p-value is < 0.05, there is strong evidence suggesting that there is a difference. "
   ]
  },
  {
   "cell_type": "code",
   "execution_count": 115,
   "metadata": {},
   "outputs": [
    {
     "data": {
      "text/html": [
       "<div>\n",
       "<style scoped>\n",
       "    .dataframe tbody tr th:only-of-type {\n",
       "        vertical-align: middle;\n",
       "    }\n",
       "\n",
       "    .dataframe tbody tr th {\n",
       "        vertical-align: top;\n",
       "    }\n",
       "\n",
       "    .dataframe thead th {\n",
       "        text-align: right;\n",
       "    }\n",
       "</style>\n",
       "<table border=\"1\" class=\"dataframe\">\n",
       "  <thead>\n",
       "    <tr style=\"text-align: right;\">\n",
       "      <th>Usage</th>\n",
       "      <th>2</th>\n",
       "      <th>3</th>\n",
       "      <th>4</th>\n",
       "      <th>5</th>\n",
       "      <th>6</th>\n",
       "      <th>7</th>\n",
       "    </tr>\n",
       "    <tr>\n",
       "      <th>Product</th>\n",
       "      <th></th>\n",
       "      <th></th>\n",
       "      <th></th>\n",
       "      <th></th>\n",
       "      <th></th>\n",
       "      <th></th>\n",
       "    </tr>\n",
       "  </thead>\n",
       "  <tbody>\n",
       "    <tr>\n",
       "      <th>KP281</th>\n",
       "      <td>19</td>\n",
       "      <td>37</td>\n",
       "      <td>22</td>\n",
       "      <td>2</td>\n",
       "      <td>0</td>\n",
       "      <td>0</td>\n",
       "    </tr>\n",
       "    <tr>\n",
       "      <th>KP481</th>\n",
       "      <td>14</td>\n",
       "      <td>31</td>\n",
       "      <td>12</td>\n",
       "      <td>3</td>\n",
       "      <td>0</td>\n",
       "      <td>0</td>\n",
       "    </tr>\n",
       "    <tr>\n",
       "      <th>KP781</th>\n",
       "      <td>0</td>\n",
       "      <td>1</td>\n",
       "      <td>18</td>\n",
       "      <td>12</td>\n",
       "      <td>7</td>\n",
       "      <td>2</td>\n",
       "    </tr>\n",
       "  </tbody>\n",
       "</table>\n",
       "</div>"
      ],
      "text/plain": [
       "Usage     2   3   4   5  6  7\n",
       "Product                      \n",
       "KP281    19  37  22   2  0  0\n",
       "KP481    14  31  12   3  0  0\n",
       "KP781     0   1  18  12  7  2"
      ]
     },
     "execution_count": 115,
     "metadata": {},
     "output_type": "execute_result"
    }
   ],
   "source": [
    "contingency_table = pd.crosstab(data['Product'], data['Usage'])\n",
    "contingency_table"
   ]
  },
  {
   "cell_type": "code",
   "execution_count": 116,
   "metadata": {},
   "outputs": [
    {
     "data": {
      "text/html": [
       "<div>\n",
       "<style scoped>\n",
       "    .dataframe tbody tr th:only-of-type {\n",
       "        vertical-align: middle;\n",
       "    }\n",
       "\n",
       "    .dataframe tbody tr th {\n",
       "        vertical-align: top;\n",
       "    }\n",
       "\n",
       "    .dataframe thead th {\n",
       "        text-align: right;\n",
       "    }\n",
       "</style>\n",
       "<table border=\"1\" class=\"dataframe\">\n",
       "  <thead>\n",
       "    <tr style=\"text-align: right;\">\n",
       "      <th>Usage</th>\n",
       "      <th>2</th>\n",
       "      <th>3</th>\n",
       "      <th>4</th>\n",
       "      <th>5</th>\n",
       "      <th>6</th>\n",
       "      <th>7</th>\n",
       "    </tr>\n",
       "    <tr>\n",
       "      <th>Product</th>\n",
       "      <th></th>\n",
       "      <th></th>\n",
       "      <th></th>\n",
       "      <th></th>\n",
       "      <th></th>\n",
       "      <th></th>\n",
       "    </tr>\n",
       "  </thead>\n",
       "  <tbody>\n",
       "    <tr>\n",
       "      <th>KP281</th>\n",
       "      <td>0.105556</td>\n",
       "      <td>0.205556</td>\n",
       "      <td>0.122222</td>\n",
       "      <td>0.011111</td>\n",
       "      <td>0.000000</td>\n",
       "      <td>0.000000</td>\n",
       "    </tr>\n",
       "    <tr>\n",
       "      <th>KP481</th>\n",
       "      <td>0.077778</td>\n",
       "      <td>0.172222</td>\n",
       "      <td>0.066667</td>\n",
       "      <td>0.016667</td>\n",
       "      <td>0.000000</td>\n",
       "      <td>0.000000</td>\n",
       "    </tr>\n",
       "    <tr>\n",
       "      <th>KP781</th>\n",
       "      <td>0.000000</td>\n",
       "      <td>0.005556</td>\n",
       "      <td>0.100000</td>\n",
       "      <td>0.066667</td>\n",
       "      <td>0.038889</td>\n",
       "      <td>0.011111</td>\n",
       "    </tr>\n",
       "  </tbody>\n",
       "</table>\n",
       "</div>"
      ],
      "text/plain": [
       "Usage           2         3         4         5         6         7\n",
       "Product                                                            \n",
       "KP281    0.105556  0.205556  0.122222  0.011111  0.000000  0.000000\n",
       "KP481    0.077778  0.172222  0.066667  0.016667  0.000000  0.000000\n",
       "KP781    0.000000  0.005556  0.100000  0.066667  0.038889  0.011111"
      ]
     },
     "execution_count": 116,
     "metadata": {},
     "output_type": "execute_result"
    }
   ],
   "source": [
    "# Compute the probabilities \n",
    "joint_prob = contingency_table/contingency_table.values.sum()\n",
    "joint_prob"
   ]
  },
  {
   "cell_type": "code",
   "execution_count": 117,
   "metadata": {},
   "outputs": [
    {
     "data": {
      "text/plain": [
       "Product\n",
       "KP281    0.444444\n",
       "KP481    0.333333\n",
       "KP781    0.222222\n",
       "dtype: float64"
      ]
     },
     "execution_count": 117,
     "metadata": {},
     "output_type": "execute_result"
    }
   ],
   "source": [
    "row_marginals = contingency_table.sum(axis = 1)/contingency_table.values.sum()\n",
    "row_marginals"
   ]
  },
  {
   "cell_type": "code",
   "execution_count": 118,
   "metadata": {},
   "outputs": [
    {
     "data": {
      "text/plain": [
       "Usage\n",
       "2    0.183333\n",
       "3    0.383333\n",
       "4    0.288889\n",
       "5    0.094444\n",
       "6    0.038889\n",
       "7    0.011111\n",
       "dtype: float64"
      ]
     },
     "execution_count": 118,
     "metadata": {},
     "output_type": "execute_result"
    }
   ],
   "source": [
    "col_marginals = contingency_table.sum(axis = 0)/contingency_table.values.sum()\n",
    "col_marginals\n",
    "# most (38%) people use any treadmill, no matter which product, 3 times per week. "
   ]
  },
  {
   "cell_type": "code",
   "execution_count": 119,
   "metadata": {},
   "outputs": [
    {
     "data": {
      "text/html": [
       "<div>\n",
       "<style scoped>\n",
       "    .dataframe tbody tr th:only-of-type {\n",
       "        vertical-align: middle;\n",
       "    }\n",
       "\n",
       "    .dataframe tbody tr th {\n",
       "        vertical-align: top;\n",
       "    }\n",
       "\n",
       "    .dataframe thead th {\n",
       "        text-align: right;\n",
       "    }\n",
       "</style>\n",
       "<table border=\"1\" class=\"dataframe\">\n",
       "  <thead>\n",
       "    <tr style=\"text-align: right;\">\n",
       "      <th>Usage</th>\n",
       "      <th>2</th>\n",
       "      <th>3</th>\n",
       "      <th>4</th>\n",
       "      <th>5</th>\n",
       "      <th>6</th>\n",
       "      <th>7</th>\n",
       "    </tr>\n",
       "    <tr>\n",
       "      <th>Product</th>\n",
       "      <th></th>\n",
       "      <th></th>\n",
       "      <th></th>\n",
       "      <th></th>\n",
       "      <th></th>\n",
       "      <th></th>\n",
       "    </tr>\n",
       "  </thead>\n",
       "  <tbody>\n",
       "    <tr>\n",
       "      <th>KP281</th>\n",
       "      <td>0.237500</td>\n",
       "      <td>0.462500</td>\n",
       "      <td>0.275</td>\n",
       "      <td>0.025</td>\n",
       "      <td>0.000</td>\n",
       "      <td>0.00</td>\n",
       "    </tr>\n",
       "    <tr>\n",
       "      <th>KP481</th>\n",
       "      <td>0.233333</td>\n",
       "      <td>0.516667</td>\n",
       "      <td>0.200</td>\n",
       "      <td>0.050</td>\n",
       "      <td>0.000</td>\n",
       "      <td>0.00</td>\n",
       "    </tr>\n",
       "    <tr>\n",
       "      <th>KP781</th>\n",
       "      <td>0.000000</td>\n",
       "      <td>0.025000</td>\n",
       "      <td>0.450</td>\n",
       "      <td>0.300</td>\n",
       "      <td>0.175</td>\n",
       "      <td>0.05</td>\n",
       "    </tr>\n",
       "  </tbody>\n",
       "</table>\n",
       "</div>"
      ],
      "text/plain": [
       "Usage           2         3      4      5      6     7\n",
       "Product                                               \n",
       "KP281    0.237500  0.462500  0.275  0.025  0.000  0.00\n",
       "KP481    0.233333  0.516667  0.200  0.050  0.000  0.00\n",
       "KP781    0.000000  0.025000  0.450  0.300  0.175  0.05"
      ]
     },
     "execution_count": 119,
     "metadata": {},
     "output_type": "execute_result"
    }
   ],
   "source": [
    "# conditional probabilities \n",
    "# p(product|usage): likelihood of buying each product given usage\n",
    "cond_prob_usage = contingency_table.div(contingency_table.sum(axis = 1), axis = 0)\n",
    "cond_prob_usage"
   ]
  },
  {
   "cell_type": "markdown",
   "metadata": {},
   "source": [
    "### Insights:"
   ]
  },
  {
   "cell_type": "markdown",
   "metadata": {},
   "source": [
    "If a customer's weekly workout frequency is 3 times and below, they are more likely to buy KP281 & KP418. Once the usage passes 3 this threshold, they are more likely to buy KP781. We can definitely recommend the more expensive product to the customers who use treadmill more frequent each week. "
   ]
  },
  {
   "cell_type": "markdown",
   "metadata": {},
   "source": [
    "## Fitness"
   ]
  },
  {
   "cell_type": "code",
   "execution_count": 120,
   "metadata": {},
   "outputs": [
    {
     "data": {
      "text/html": [
       "<div>\n",
       "<style scoped>\n",
       "    .dataframe tbody tr th:only-of-type {\n",
       "        vertical-align: middle;\n",
       "    }\n",
       "\n",
       "    .dataframe tbody tr th {\n",
       "        vertical-align: top;\n",
       "    }\n",
       "\n",
       "    .dataframe thead th {\n",
       "        text-align: right;\n",
       "    }\n",
       "</style>\n",
       "<table border=\"1\" class=\"dataframe\">\n",
       "  <thead>\n",
       "    <tr style=\"text-align: right;\">\n",
       "      <th></th>\n",
       "      <th>count</th>\n",
       "      <th>mean</th>\n",
       "      <th>std</th>\n",
       "      <th>min</th>\n",
       "      <th>25%</th>\n",
       "      <th>50%</th>\n",
       "      <th>75%</th>\n",
       "      <th>max</th>\n",
       "    </tr>\n",
       "    <tr>\n",
       "      <th>Product</th>\n",
       "      <th></th>\n",
       "      <th></th>\n",
       "      <th></th>\n",
       "      <th></th>\n",
       "      <th></th>\n",
       "      <th></th>\n",
       "      <th></th>\n",
       "      <th></th>\n",
       "    </tr>\n",
       "  </thead>\n",
       "  <tbody>\n",
       "    <tr>\n",
       "      <th>KP281</th>\n",
       "      <td>80.0</td>\n",
       "      <td>2.9625</td>\n",
       "      <td>0.664540</td>\n",
       "      <td>1.0</td>\n",
       "      <td>3.0</td>\n",
       "      <td>3.0</td>\n",
       "      <td>3.0</td>\n",
       "      <td>5.0</td>\n",
       "    </tr>\n",
       "    <tr>\n",
       "      <th>KP481</th>\n",
       "      <td>60.0</td>\n",
       "      <td>2.9000</td>\n",
       "      <td>0.629770</td>\n",
       "      <td>1.0</td>\n",
       "      <td>3.0</td>\n",
       "      <td>3.0</td>\n",
       "      <td>3.0</td>\n",
       "      <td>4.0</td>\n",
       "    </tr>\n",
       "    <tr>\n",
       "      <th>KP781</th>\n",
       "      <td>40.0</td>\n",
       "      <td>4.6250</td>\n",
       "      <td>0.667467</td>\n",
       "      <td>3.0</td>\n",
       "      <td>4.0</td>\n",
       "      <td>5.0</td>\n",
       "      <td>5.0</td>\n",
       "      <td>5.0</td>\n",
       "    </tr>\n",
       "  </tbody>\n",
       "</table>\n",
       "</div>"
      ],
      "text/plain": [
       "         count    mean       std  min  25%  50%  75%  max\n",
       "Product                                                  \n",
       "KP281     80.0  2.9625  0.664540  1.0  3.0  3.0  3.0  5.0\n",
       "KP481     60.0  2.9000  0.629770  1.0  3.0  3.0  3.0  4.0\n",
       "KP781     40.0  4.6250  0.667467  3.0  4.0  5.0  5.0  5.0"
      ]
     },
     "execution_count": 120,
     "metadata": {},
     "output_type": "execute_result"
    }
   ],
   "source": [
    "data.groupby('Product')['Fitness'].describe()"
   ]
  },
  {
   "cell_type": "code",
   "execution_count": 121,
   "metadata": {},
   "outputs": [
    {
     "data": {
      "text/plain": [
       "<AxesSubplot:xlabel='Product', ylabel='Fitness'>"
      ]
     },
     "execution_count": 121,
     "metadata": {},
     "output_type": "execute_result"
    },
    {
     "data": {
      "image/png": "[encoded data removed]",
      "text/plain": [
       "<Figure size 432x288 with 1 Axes>"
      ]
     },
     "metadata": {
      "needs_background": "light"
     },
     "output_type": "display_data"
    }
   ],
   "source": [
    "sns.boxplot(x = 'Product', y = 'Fitness', data = data)"
   ]
  },
  {
   "cell_type": "code",
   "execution_count": 122,
   "metadata": {},
   "outputs": [
    {
     "data": {
      "text/plain": [
       "F_onewayResult(statistic=104.00134919323754, pvalue=1.3554706834328812e-30)"
      ]
     },
     "execution_count": 122,
     "metadata": {},
     "output_type": "execute_result"
    }
   ],
   "source": [
    "# statistical test - ANOVA (test if there is any statistical difference among the mean fitness level for three product groups)\n",
    "from scipy.stats import f_oneway \n",
    "groups = [data.loc[data.Product == p, \"Fitness\"] for p in data[\"Product\"]. unique()]\n",
    "f_oneway(*groups)\n",
    "# since the p-value is < 0.05, there is a strong evidence suggesting that there is a difference. "
   ]
  },
  {
   "cell_type": "code",
   "execution_count": 123,
   "metadata": {},
   "outputs": [
    {
     "data": {
      "text/html": [
       "<div>\n",
       "<style scoped>\n",
       "    .dataframe tbody tr th:only-of-type {\n",
       "        vertical-align: middle;\n",
       "    }\n",
       "\n",
       "    .dataframe tbody tr th {\n",
       "        vertical-align: top;\n",
       "    }\n",
       "\n",
       "    .dataframe thead th {\n",
       "        text-align: right;\n",
       "    }\n",
       "</style>\n",
       "<table border=\"1\" class=\"dataframe\">\n",
       "  <thead>\n",
       "    <tr style=\"text-align: right;\">\n",
       "      <th>Fitness</th>\n",
       "      <th>1</th>\n",
       "      <th>2</th>\n",
       "      <th>3</th>\n",
       "      <th>4</th>\n",
       "      <th>5</th>\n",
       "    </tr>\n",
       "    <tr>\n",
       "      <th>Product</th>\n",
       "      <th></th>\n",
       "      <th></th>\n",
       "      <th></th>\n",
       "      <th></th>\n",
       "      <th></th>\n",
       "    </tr>\n",
       "  </thead>\n",
       "  <tbody>\n",
       "    <tr>\n",
       "      <th>KP281</th>\n",
       "      <td>1</td>\n",
       "      <td>14</td>\n",
       "      <td>54</td>\n",
       "      <td>9</td>\n",
       "      <td>2</td>\n",
       "    </tr>\n",
       "    <tr>\n",
       "      <th>KP481</th>\n",
       "      <td>1</td>\n",
       "      <td>12</td>\n",
       "      <td>39</td>\n",
       "      <td>8</td>\n",
       "      <td>0</td>\n",
       "    </tr>\n",
       "    <tr>\n",
       "      <th>KP781</th>\n",
       "      <td>0</td>\n",
       "      <td>0</td>\n",
       "      <td>4</td>\n",
       "      <td>7</td>\n",
       "      <td>29</td>\n",
       "    </tr>\n",
       "  </tbody>\n",
       "</table>\n",
       "</div>"
      ],
      "text/plain": [
       "Fitness  1   2   3  4   5\n",
       "Product                  \n",
       "KP281    1  14  54  9   2\n",
       "KP481    1  12  39  8   0\n",
       "KP781    0   0   4  7  29"
      ]
     },
     "execution_count": 123,
     "metadata": {},
     "output_type": "execute_result"
    }
   ],
   "source": [
    "contingency_table = pd.crosstab(data['Product'], data['Fitness'])\n",
    "contingency_table"
   ]
  },
  {
   "cell_type": "code",
   "execution_count": 124,
   "metadata": {},
   "outputs": [
    {
     "data": {
      "text/html": [
       "<div>\n",
       "<style scoped>\n",
       "    .dataframe tbody tr th:only-of-type {\n",
       "        vertical-align: middle;\n",
       "    }\n",
       "\n",
       "    .dataframe tbody tr th {\n",
       "        vertical-align: top;\n",
       "    }\n",
       "\n",
       "    .dataframe thead th {\n",
       "        text-align: right;\n",
       "    }\n",
       "</style>\n",
       "<table border=\"1\" class=\"dataframe\">\n",
       "  <thead>\n",
       "    <tr style=\"text-align: right;\">\n",
       "      <th>Fitness</th>\n",
       "      <th>1</th>\n",
       "      <th>2</th>\n",
       "      <th>3</th>\n",
       "      <th>4</th>\n",
       "      <th>5</th>\n",
       "    </tr>\n",
       "    <tr>\n",
       "      <th>Product</th>\n",
       "      <th></th>\n",
       "      <th></th>\n",
       "      <th></th>\n",
       "      <th></th>\n",
       "      <th></th>\n",
       "    </tr>\n",
       "  </thead>\n",
       "  <tbody>\n",
       "    <tr>\n",
       "      <th>KP281</th>\n",
       "      <td>0.005556</td>\n",
       "      <td>0.077778</td>\n",
       "      <td>0.300000</td>\n",
       "      <td>0.050000</td>\n",
       "      <td>0.011111</td>\n",
       "    </tr>\n",
       "    <tr>\n",
       "      <th>KP481</th>\n",
       "      <td>0.005556</td>\n",
       "      <td>0.066667</td>\n",
       "      <td>0.216667</td>\n",
       "      <td>0.044444</td>\n",
       "      <td>0.000000</td>\n",
       "    </tr>\n",
       "    <tr>\n",
       "      <th>KP781</th>\n",
       "      <td>0.000000</td>\n",
       "      <td>0.000000</td>\n",
       "      <td>0.022222</td>\n",
       "      <td>0.038889</td>\n",
       "      <td>0.161111</td>\n",
       "    </tr>\n",
       "  </tbody>\n",
       "</table>\n",
       "</div>"
      ],
      "text/plain": [
       "Fitness         1         2         3         4         5\n",
       "Product                                                  \n",
       "KP281    0.005556  0.077778  0.300000  0.050000  0.011111\n",
       "KP481    0.005556  0.066667  0.216667  0.044444  0.000000\n",
       "KP781    0.000000  0.000000  0.022222  0.038889  0.161111"
      ]
     },
     "execution_count": 124,
     "metadata": {},
     "output_type": "execute_result"
    }
   ],
   "source": [
    "joint_prob = contingency_table/contingency_table.values.sum()\n",
    "joint_prob"
   ]
  },
  {
   "cell_type": "code",
   "execution_count": 125,
   "metadata": {},
   "outputs": [
    {
     "data": {
      "text/plain": [
       "Fitness\n",
       "1    0.011111\n",
       "2    0.144444\n",
       "3    0.538889\n",
       "4    0.133333\n",
       "5    0.172222\n",
       "dtype: float64"
      ]
     },
     "execution_count": 125,
     "metadata": {},
     "output_type": "execute_result"
    }
   ],
   "source": [
    "col_marginals = contingency_table.sum(axis = 0)/contingency_table.values.sum()\n",
    "col_marginals\n",
    "# if the customer's fitness level/body shape is good or on average, they tend to use the product more."
   ]
  },
  {
   "cell_type": "code",
   "execution_count": 126,
   "metadata": {},
   "outputs": [
    {
     "data": {
      "text/html": [
       "<div>\n",
       "<style scoped>\n",
       "    .dataframe tbody tr th:only-of-type {\n",
       "        vertical-align: middle;\n",
       "    }\n",
       "\n",
       "    .dataframe tbody tr th {\n",
       "        vertical-align: top;\n",
       "    }\n",
       "\n",
       "    .dataframe thead th {\n",
       "        text-align: right;\n",
       "    }\n",
       "</style>\n",
       "<table border=\"1\" class=\"dataframe\">\n",
       "  <thead>\n",
       "    <tr style=\"text-align: right;\">\n",
       "      <th>Fitness</th>\n",
       "      <th>1</th>\n",
       "      <th>2</th>\n",
       "      <th>3</th>\n",
       "      <th>4</th>\n",
       "      <th>5</th>\n",
       "    </tr>\n",
       "    <tr>\n",
       "      <th>Product</th>\n",
       "      <th></th>\n",
       "      <th></th>\n",
       "      <th></th>\n",
       "      <th></th>\n",
       "      <th></th>\n",
       "    </tr>\n",
       "  </thead>\n",
       "  <tbody>\n",
       "    <tr>\n",
       "      <th>KP281</th>\n",
       "      <td>0.012500</td>\n",
       "      <td>0.175</td>\n",
       "      <td>0.675</td>\n",
       "      <td>0.112500</td>\n",
       "      <td>0.025</td>\n",
       "    </tr>\n",
       "    <tr>\n",
       "      <th>KP481</th>\n",
       "      <td>0.016667</td>\n",
       "      <td>0.200</td>\n",
       "      <td>0.650</td>\n",
       "      <td>0.133333</td>\n",
       "      <td>0.000</td>\n",
       "    </tr>\n",
       "    <tr>\n",
       "      <th>KP781</th>\n",
       "      <td>0.000000</td>\n",
       "      <td>0.000</td>\n",
       "      <td>0.100</td>\n",
       "      <td>0.175000</td>\n",
       "      <td>0.725</td>\n",
       "    </tr>\n",
       "  </tbody>\n",
       "</table>\n",
       "</div>"
      ],
      "text/plain": [
       "Fitness         1      2      3         4      5\n",
       "Product                                         \n",
       "KP281    0.012500  0.175  0.675  0.112500  0.025\n",
       "KP481    0.016667  0.200  0.650  0.133333  0.000\n",
       "KP781    0.000000  0.000  0.100  0.175000  0.725"
      ]
     },
     "execution_count": 126,
     "metadata": {},
     "output_type": "execute_result"
    }
   ],
   "source": [
    "# conditional probability\n",
    "# p(product|fitness): likelihood of buying each product given the fitness level\n",
    "cond_prob_fitness = contingency_table.div(contingency_table.sum(axis = 1), axis = 0)\n",
    "cond_prob_fitness"
   ]
  },
  {
   "cell_type": "markdown",
   "metadata": {},
   "source": [
    "### Insights:"
   ]
  },
  {
   "cell_type": "markdown",
   "metadata": {},
   "source": [
    "If a customer's body shape is average or below average, then they tend to buy KP281 & KP481. If a customer's body shape is very good, the likehoold of buying the most expensive product is very high, 73%.  "
   ]
  },
  {
   "cell_type": "markdown",
   "metadata": {},
   "source": [
    "## Income"
   ]
  },
  {
   "cell_type": "code",
   "execution_count": 127,
   "metadata": {},
   "outputs": [
    {
     "data": {
      "text/html": [
       "<div>\n",
       "<style scoped>\n",
       "    .dataframe tbody tr th:only-of-type {\n",
       "        vertical-align: middle;\n",
       "    }\n",
       "\n",
       "    .dataframe tbody tr th {\n",
       "        vertical-align: top;\n",
       "    }\n",
       "\n",
       "    .dataframe thead th {\n",
       "        text-align: right;\n",
       "    }\n",
       "</style>\n",
       "<table border=\"1\" class=\"dataframe\">\n",
       "  <thead>\n",
       "    <tr style=\"text-align: right;\">\n",
       "      <th></th>\n",
       "      <th>count</th>\n",
       "      <th>mean</th>\n",
       "      <th>std</th>\n",
       "      <th>min</th>\n",
       "      <th>25%</th>\n",
       "      <th>50%</th>\n",
       "      <th>75%</th>\n",
       "      <th>max</th>\n",
       "    </tr>\n",
       "    <tr>\n",
       "      <th>Product</th>\n",
       "      <th></th>\n",
       "      <th></th>\n",
       "      <th></th>\n",
       "      <th></th>\n",
       "      <th></th>\n",
       "      <th></th>\n",
       "      <th></th>\n",
       "      <th></th>\n",
       "    </tr>\n",
       "  </thead>\n",
       "  <tbody>\n",
       "    <tr>\n",
       "      <th>KP281</th>\n",
       "      <td>80.0</td>\n",
       "      <td>46418.025</td>\n",
       "      <td>9075.783190</td>\n",
       "      <td>29562.0</td>\n",
       "      <td>38658.00</td>\n",
       "      <td>46617.0</td>\n",
       "      <td>53439.0</td>\n",
       "      <td>68220.0</td>\n",
       "    </tr>\n",
       "    <tr>\n",
       "      <th>KP481</th>\n",
       "      <td>60.0</td>\n",
       "      <td>48973.650</td>\n",
       "      <td>8653.989388</td>\n",
       "      <td>31836.0</td>\n",
       "      <td>44911.50</td>\n",
       "      <td>49459.5</td>\n",
       "      <td>53439.0</td>\n",
       "      <td>67083.0</td>\n",
       "    </tr>\n",
       "    <tr>\n",
       "      <th>KP781</th>\n",
       "      <td>40.0</td>\n",
       "      <td>75441.575</td>\n",
       "      <td>18505.836720</td>\n",
       "      <td>48556.0</td>\n",
       "      <td>58204.75</td>\n",
       "      <td>76568.5</td>\n",
       "      <td>90886.0</td>\n",
       "      <td>104581.0</td>\n",
       "    </tr>\n",
       "  </tbody>\n",
       "</table>\n",
       "</div>"
      ],
      "text/plain": [
       "         count       mean           std      min       25%      50%      75%  \\\n",
       "Product                                                                        \n",
       "KP281     80.0  46418.025   9075.783190  29562.0  38658.00  46617.0  53439.0   \n",
       "KP481     60.0  48973.650   8653.989388  31836.0  44911.50  49459.5  53439.0   \n",
       "KP781     40.0  75441.575  18505.836720  48556.0  58204.75  76568.5  90886.0   \n",
       "\n",
       "              max  \n",
       "Product            \n",
       "KP281     68220.0  \n",
       "KP481     67083.0  \n",
       "KP781    104581.0  "
      ]
     },
     "execution_count": 127,
     "metadata": {},
     "output_type": "execute_result"
    }
   ],
   "source": [
    "data.groupby('Product')['Income'].describe()"
   ]
  },
  {
   "cell_type": "code",
   "execution_count": 128,
   "metadata": {},
   "outputs": [
    {
     "data": {
      "text/plain": [
       "<AxesSubplot:xlabel='Product', ylabel='Income'>"
      ]
     },
     "execution_count": 128,
     "metadata": {},
     "output_type": "execute_result"
    },
    {
     "data": {
      "image/png": "[encoded data removed]",
      "text/plain": [
       "<Figure size 432x288 with 1 Axes>"
      ]
     },
     "metadata": {
      "needs_background": "light"
     },
     "output_type": "display_data"
    }
   ],
   "source": [
    "sns.boxplot(x = 'Product', y = 'Income', data = data )"
   ]
  },
  {
   "cell_type": "code",
   "execution_count": 129,
   "metadata": {},
   "outputs": [
    {
     "data": {
      "text/plain": [
       "F_onewayResult(statistic=89.25903546601671, pvalue=1.5644991316342494e-27)"
      ]
     },
     "execution_count": 129,
     "metadata": {},
     "output_type": "execute_result"
    }
   ],
   "source": [
    "# statistical test - ANOVA \n",
    "groups = [data.loc[data.Product == p, \"Income\"] for p in data[\"Product\"]. unique()]\n",
    "f_oneway(*groups)\n",
    "# since the p-value is less than 0.05, there is a strong evidence suggesting that\n",
    "# there is a difference between the avearge income among these three product groups. "
   ]
  },
  {
   "cell_type": "code",
   "execution_count": 132,
   "metadata": {},
   "outputs": [
    {
     "data": {
      "text/plain": [
       "count       180.000000\n",
       "mean      53719.577778\n",
       "std       16506.684226\n",
       "min       29562.000000\n",
       "25%       44058.750000\n",
       "50%       50596.500000\n",
       "75%       58668.000000\n",
       "max      104581.000000\n",
       "Name: Income, dtype: float64"
      ]
     },
     "execution_count": 132,
     "metadata": {},
     "output_type": "execute_result"
    }
   ],
   "source": [
    "data['Income'].describe()"
   ]
  },
  {
   "cell_type": "code",
   "execution_count": 135,
   "metadata": {},
   "outputs": [
    {
     "data": {
      "text/html": [
       "<div>\n",
       "<style scoped>\n",
       "    .dataframe tbody tr th:only-of-type {\n",
       "        vertical-align: middle;\n",
       "    }\n",
       "\n",
       "    .dataframe tbody tr th {\n",
       "        vertical-align: top;\n",
       "    }\n",
       "\n",
       "    .dataframe thead th {\n",
       "        text-align: right;\n",
       "    }\n",
       "</style>\n",
       "<table border=\"1\" class=\"dataframe\">\n",
       "  <thead>\n",
       "    <tr style=\"text-align: right;\">\n",
       "      <th>Income</th>\n",
       "      <th>(0, 30000]</th>\n",
       "      <th>(30000, 40000]</th>\n",
       "      <th>(40000, 50000]</th>\n",
       "      <th>(50000, 60000]</th>\n",
       "      <th>(60000, 100000]</th>\n",
       "      <th>(100000, 120000]</th>\n",
       "    </tr>\n",
       "    <tr>\n",
       "      <th>Product</th>\n",
       "      <th></th>\n",
       "      <th></th>\n",
       "      <th></th>\n",
       "      <th></th>\n",
       "      <th></th>\n",
       "      <th></th>\n",
       "    </tr>\n",
       "  </thead>\n",
       "  <tbody>\n",
       "    <tr>\n",
       "      <th>KP281</th>\n",
       "      <td>1</td>\n",
       "      <td>22</td>\n",
       "      <td>25</td>\n",
       "      <td>26</td>\n",
       "      <td>6</td>\n",
       "      <td>0</td>\n",
       "    </tr>\n",
       "    <tr>\n",
       "      <th>KP481</th>\n",
       "      <td>0</td>\n",
       "      <td>9</td>\n",
       "      <td>21</td>\n",
       "      <td>23</td>\n",
       "      <td>7</td>\n",
       "      <td>0</td>\n",
       "    </tr>\n",
       "    <tr>\n",
       "      <th>KP781</th>\n",
       "      <td>0</td>\n",
       "      <td>0</td>\n",
       "      <td>5</td>\n",
       "      <td>6</td>\n",
       "      <td>26</td>\n",
       "      <td>3</td>\n",
       "    </tr>\n",
       "  </tbody>\n",
       "</table>\n",
       "</div>"
      ],
      "text/plain": [
       "Income   (0, 30000]  (30000, 40000]  (40000, 50000]  (50000, 60000]  \\\n",
       "Product                                                               \n",
       "KP281             1              22              25              26   \n",
       "KP481             0               9              21              23   \n",
       "KP781             0               0               5               6   \n",
       "\n",
       "Income   (60000, 100000]  (100000, 120000]  \n",
       "Product                                     \n",
       "KP281                  6                 0  \n",
       "KP481                  7                 0  \n",
       "KP781                 26                 3  "
      ]
     },
     "execution_count": 135,
     "metadata": {},
     "output_type": "execute_result"
    }
   ],
   "source": [
    "contingency_table = pd.crosstab(data['Product'], pd.cut(data['Income'], bins = [0, 30000, 40000, 50000, 60000, 100000, 120000]))\n",
    "contingency_table"
   ]
  },
  {
   "cell_type": "code",
   "execution_count": 136,
   "metadata": {},
   "outputs": [
    {
     "data": {
      "text/html": [
       "<div>\n",
       "<style scoped>\n",
       "    .dataframe tbody tr th:only-of-type {\n",
       "        vertical-align: middle;\n",
       "    }\n",
       "\n",
       "    .dataframe tbody tr th {\n",
       "        vertical-align: top;\n",
       "    }\n",
       "\n",
       "    .dataframe thead th {\n",
       "        text-align: right;\n",
       "    }\n",
       "</style>\n",
       "<table border=\"1\" class=\"dataframe\">\n",
       "  <thead>\n",
       "    <tr style=\"text-align: right;\">\n",
       "      <th>Income</th>\n",
       "      <th>(0, 30000]</th>\n",
       "      <th>(30000, 40000]</th>\n",
       "      <th>(40000, 50000]</th>\n",
       "      <th>(50000, 60000]</th>\n",
       "      <th>(60000, 100000]</th>\n",
       "      <th>(100000, 120000]</th>\n",
       "    </tr>\n",
       "    <tr>\n",
       "      <th>Product</th>\n",
       "      <th></th>\n",
       "      <th></th>\n",
       "      <th></th>\n",
       "      <th></th>\n",
       "      <th></th>\n",
       "      <th></th>\n",
       "    </tr>\n",
       "  </thead>\n",
       "  <tbody>\n",
       "    <tr>\n",
       "      <th>KP281</th>\n",
       "      <td>0.005556</td>\n",
       "      <td>0.122222</td>\n",
       "      <td>0.138889</td>\n",
       "      <td>0.144444</td>\n",
       "      <td>0.033333</td>\n",
       "      <td>0.000000</td>\n",
       "    </tr>\n",
       "    <tr>\n",
       "      <th>KP481</th>\n",
       "      <td>0.000000</td>\n",
       "      <td>0.050000</td>\n",
       "      <td>0.116667</td>\n",
       "      <td>0.127778</td>\n",
       "      <td>0.038889</td>\n",
       "      <td>0.000000</td>\n",
       "    </tr>\n",
       "    <tr>\n",
       "      <th>KP781</th>\n",
       "      <td>0.000000</td>\n",
       "      <td>0.000000</td>\n",
       "      <td>0.027778</td>\n",
       "      <td>0.033333</td>\n",
       "      <td>0.144444</td>\n",
       "      <td>0.016667</td>\n",
       "    </tr>\n",
       "  </tbody>\n",
       "</table>\n",
       "</div>"
      ],
      "text/plain": [
       "Income   (0, 30000]  (30000, 40000]  (40000, 50000]  (50000, 60000]  \\\n",
       "Product                                                               \n",
       "KP281      0.005556        0.122222        0.138889        0.144444   \n",
       "KP481      0.000000        0.050000        0.116667        0.127778   \n",
       "KP781      0.000000        0.000000        0.027778        0.033333   \n",
       "\n",
       "Income   (60000, 100000]  (100000, 120000]  \n",
       "Product                                     \n",
       "KP281           0.033333          0.000000  \n",
       "KP481           0.038889          0.000000  \n",
       "KP781           0.144444          0.016667  "
      ]
     },
     "execution_count": 136,
     "metadata": {},
     "output_type": "execute_result"
    }
   ],
   "source": [
    "joint_prob = contingency_table/contingency_table.values.sum()\n",
    "joint_prob"
   ]
  },
  {
   "cell_type": "code",
   "execution_count": 139,
   "metadata": {},
   "outputs": [
    {
     "data": {
      "text/plain": [
       "Income\n",
       "(0, 30000]          0.005556\n",
       "(30000, 40000]      0.172222\n",
       "(40000, 50000]      0.283333\n",
       "(50000, 60000]      0.305556\n",
       "(60000, 100000]     0.216667\n",
       "(100000, 120000]    0.016667\n",
       "dtype: float64"
      ]
     },
     "execution_count": 139,
     "metadata": {},
     "output_type": "execute_result"
    }
   ],
   "source": [
    "col_marginals = contingency_table.sum(axis = 0)/contingency_table.values.sum()\n",
    "col_marginals\n",
    "# if your income falls between 50,000 ~ 60,000, you are most likely (31%) to buy a treadmill. "
   ]
  },
  {
   "cell_type": "code",
   "execution_count": 140,
   "metadata": {},
   "outputs": [
    {
     "data": {
      "text/html": [
       "<div>\n",
       "<style scoped>\n",
       "    .dataframe tbody tr th:only-of-type {\n",
       "        vertical-align: middle;\n",
       "    }\n",
       "\n",
       "    .dataframe tbody tr th {\n",
       "        vertical-align: top;\n",
       "    }\n",
       "\n",
       "    .dataframe thead th {\n",
       "        text-align: right;\n",
       "    }\n",
       "</style>\n",
       "<table border=\"1\" class=\"dataframe\">\n",
       "  <thead>\n",
       "    <tr style=\"text-align: right;\">\n",
       "      <th>Income</th>\n",
       "      <th>(0, 30000]</th>\n",
       "      <th>(30000, 40000]</th>\n",
       "      <th>(40000, 50000]</th>\n",
       "      <th>(50000, 60000]</th>\n",
       "      <th>(60000, 100000]</th>\n",
       "      <th>(100000, 120000]</th>\n",
       "    </tr>\n",
       "    <tr>\n",
       "      <th>Product</th>\n",
       "      <th></th>\n",
       "      <th></th>\n",
       "      <th></th>\n",
       "      <th></th>\n",
       "      <th></th>\n",
       "      <th></th>\n",
       "    </tr>\n",
       "  </thead>\n",
       "  <tbody>\n",
       "    <tr>\n",
       "      <th>KP281</th>\n",
       "      <td>0.0125</td>\n",
       "      <td>0.275</td>\n",
       "      <td>0.3125</td>\n",
       "      <td>0.325000</td>\n",
       "      <td>0.075000</td>\n",
       "      <td>0.000</td>\n",
       "    </tr>\n",
       "    <tr>\n",
       "      <th>KP481</th>\n",
       "      <td>0.0000</td>\n",
       "      <td>0.150</td>\n",
       "      <td>0.3500</td>\n",
       "      <td>0.383333</td>\n",
       "      <td>0.116667</td>\n",
       "      <td>0.000</td>\n",
       "    </tr>\n",
       "    <tr>\n",
       "      <th>KP781</th>\n",
       "      <td>0.0000</td>\n",
       "      <td>0.000</td>\n",
       "      <td>0.1250</td>\n",
       "      <td>0.150000</td>\n",
       "      <td>0.650000</td>\n",
       "      <td>0.075</td>\n",
       "    </tr>\n",
       "  </tbody>\n",
       "</table>\n",
       "</div>"
      ],
      "text/plain": [
       "Income   (0, 30000]  (30000, 40000]  (40000, 50000]  (50000, 60000]  \\\n",
       "Product                                                               \n",
       "KP281        0.0125           0.275          0.3125        0.325000   \n",
       "KP481        0.0000           0.150          0.3500        0.383333   \n",
       "KP781        0.0000           0.000          0.1250        0.150000   \n",
       "\n",
       "Income   (60000, 100000]  (100000, 120000]  \n",
       "Product                                     \n",
       "KP281           0.075000             0.000  \n",
       "KP481           0.116667             0.000  \n",
       "KP781           0.650000             0.075  "
      ]
     },
     "execution_count": 140,
     "metadata": {},
     "output_type": "execute_result"
    }
   ],
   "source": [
    "# conditional probability\n",
    "# p(product|income): likelihood of buying each product given income\n",
    "cond_prob_income = contingency_table.div(contingency_table.sum(axis = 1), axis = 0)\n",
    "cond_prob_income"
   ]
  },
  {
   "cell_type": "markdown",
   "metadata": {},
   "source": [
    "### Insights:"
   ]
  },
  {
   "cell_type": "markdown",
   "metadata": {},
   "source": [
    "If your income is 60,000 or below, you are more likely to buy KP281 & KP481. If your income is above 60,000, then you are most likely to buy KP781."
   ]
  },
  {
   "cell_type": "markdown",
   "metadata": {},
   "source": [
    "## Miles"
   ]
  },
  {
   "cell_type": "code",
   "execution_count": 141,
   "metadata": {},
   "outputs": [
    {
     "data": {
      "text/html": [
       "<div>\n",
       "<style scoped>\n",
       "    .dataframe tbody tr th:only-of-type {\n",
       "        vertical-align: middle;\n",
       "    }\n",
       "\n",
       "    .dataframe tbody tr th {\n",
       "        vertical-align: top;\n",
       "    }\n",
       "\n",
       "    .dataframe thead th {\n",
       "        text-align: right;\n",
       "    }\n",
       "</style>\n",
       "<table border=\"1\" class=\"dataframe\">\n",
       "  <thead>\n",
       "    <tr style=\"text-align: right;\">\n",
       "      <th></th>\n",
       "      <th>count</th>\n",
       "      <th>mean</th>\n",
       "      <th>std</th>\n",
       "      <th>min</th>\n",
       "      <th>25%</th>\n",
       "      <th>50%</th>\n",
       "      <th>75%</th>\n",
       "      <th>max</th>\n",
       "    </tr>\n",
       "    <tr>\n",
       "      <th>Product</th>\n",
       "      <th></th>\n",
       "      <th></th>\n",
       "      <th></th>\n",
       "      <th></th>\n",
       "      <th></th>\n",
       "      <th></th>\n",
       "      <th></th>\n",
       "      <th></th>\n",
       "    </tr>\n",
       "  </thead>\n",
       "  <tbody>\n",
       "    <tr>\n",
       "      <th>KP281</th>\n",
       "      <td>80.0</td>\n",
       "      <td>82.787500</td>\n",
       "      <td>28.874102</td>\n",
       "      <td>38.0</td>\n",
       "      <td>66.0</td>\n",
       "      <td>85.0</td>\n",
       "      <td>94.0</td>\n",
       "      <td>188.0</td>\n",
       "    </tr>\n",
       "    <tr>\n",
       "      <th>KP481</th>\n",
       "      <td>60.0</td>\n",
       "      <td>87.933333</td>\n",
       "      <td>33.263135</td>\n",
       "      <td>21.0</td>\n",
       "      <td>64.0</td>\n",
       "      <td>85.0</td>\n",
       "      <td>106.0</td>\n",
       "      <td>212.0</td>\n",
       "    </tr>\n",
       "    <tr>\n",
       "      <th>KP781</th>\n",
       "      <td>40.0</td>\n",
       "      <td>166.900000</td>\n",
       "      <td>60.066544</td>\n",
       "      <td>80.0</td>\n",
       "      <td>120.0</td>\n",
       "      <td>160.0</td>\n",
       "      <td>200.0</td>\n",
       "      <td>360.0</td>\n",
       "    </tr>\n",
       "  </tbody>\n",
       "</table>\n",
       "</div>"
      ],
      "text/plain": [
       "         count        mean        std   min    25%    50%    75%    max\n",
       "Product                                                                \n",
       "KP281     80.0   82.787500  28.874102  38.0   66.0   85.0   94.0  188.0\n",
       "KP481     60.0   87.933333  33.263135  21.0   64.0   85.0  106.0  212.0\n",
       "KP781     40.0  166.900000  60.066544  80.0  120.0  160.0  200.0  360.0"
      ]
     },
     "execution_count": 141,
     "metadata": {},
     "output_type": "execute_result"
    }
   ],
   "source": [
    "data.groupby('Product')['Miles'].describe()"
   ]
  },
  {
   "cell_type": "code",
   "execution_count": 143,
   "metadata": {},
   "outputs": [
    {
     "data": {
      "text/plain": [
       "<AxesSubplot:xlabel='Product', ylabel='Miles'>"
      ]
     },
     "execution_count": 143,
     "metadata": {},
     "output_type": "execute_result"
    },
    {
     "data": {
      "image/png": "[encoded data removed]",
      "text/plain": [
       "<Figure size 432x288 with 1 Axes>"
      ]
     },
     "metadata": {
      "needs_background": "light"
     },
     "output_type": "display_data"
    }
   ],
   "source": [
    "sns.boxplot(x = 'Product', y = 'Miles', data = data)"
   ]
  },
  {
   "cell_type": "code",
   "execution_count": 144,
   "metadata": {},
   "outputs": [
    {
     "data": {
      "text/plain": [
       "F_onewayResult(statistic=68.24179605090241, pvalue=1.0730574762130848e-22)"
      ]
     },
     "execution_count": 144,
     "metadata": {},
     "output_type": "execute_result"
    }
   ],
   "source": [
    "# statistical test - ANOVA \n",
    "groups = [data.loc[data.Product == p, \"Miles\"] for p in data[\"Product\"]. unique()]\n",
    "f_oneway(*groups)\n",
    "# since the p-value is less than 0.05, there is a strong evidence suggesting that\n",
    "# there is a difference between the avearge miles among these three product groups. "
   ]
  },
  {
   "cell_type": "code",
   "execution_count": 145,
   "metadata": {},
   "outputs": [
    {
     "data": {
      "text/plain": [
       "count    180.000000\n",
       "mean     103.194444\n",
       "std       51.863605\n",
       "min       21.000000\n",
       "25%       66.000000\n",
       "50%       94.000000\n",
       "75%      114.750000\n",
       "max      360.000000\n",
       "Name: Miles, dtype: float64"
      ]
     },
     "execution_count": 145,
     "metadata": {},
     "output_type": "execute_result"
    }
   ],
   "source": [
    "data['Miles'].describe()"
   ]
  },
  {
   "cell_type": "code",
   "execution_count": 146,
   "metadata": {},
   "outputs": [
    {
     "data": {
      "text/html": [
       "<div>\n",
       "<style scoped>\n",
       "    .dataframe tbody tr th:only-of-type {\n",
       "        vertical-align: middle;\n",
       "    }\n",
       "\n",
       "    .dataframe tbody tr th {\n",
       "        vertical-align: top;\n",
       "    }\n",
       "\n",
       "    .dataframe thead th {\n",
       "        text-align: right;\n",
       "    }\n",
       "</style>\n",
       "<table border=\"1\" class=\"dataframe\">\n",
       "  <thead>\n",
       "    <tr style=\"text-align: right;\">\n",
       "      <th>Miles</th>\n",
       "      <th>(20, 70]</th>\n",
       "      <th>(70, 100]</th>\n",
       "      <th>(100, 150]</th>\n",
       "      <th>(150, 200]</th>\n",
       "      <th>(200, 300]</th>\n",
       "      <th>(300, 400]</th>\n",
       "    </tr>\n",
       "    <tr>\n",
       "      <th>Product</th>\n",
       "      <th></th>\n",
       "      <th></th>\n",
       "      <th></th>\n",
       "      <th></th>\n",
       "      <th></th>\n",
       "      <th></th>\n",
       "    </tr>\n",
       "  </thead>\n",
       "  <tbody>\n",
       "    <tr>\n",
       "      <th>KP281</th>\n",
       "      <td>28</td>\n",
       "      <td>34</td>\n",
       "      <td>16</td>\n",
       "      <td>2</td>\n",
       "      <td>0</td>\n",
       "      <td>0</td>\n",
       "    </tr>\n",
       "    <tr>\n",
       "      <th>KP481</th>\n",
       "      <td>18</td>\n",
       "      <td>26</td>\n",
       "      <td>13</td>\n",
       "      <td>2</td>\n",
       "      <td>1</td>\n",
       "      <td>0</td>\n",
       "    </tr>\n",
       "    <tr>\n",
       "      <th>KP781</th>\n",
       "      <td>0</td>\n",
       "      <td>8</td>\n",
       "      <td>9</td>\n",
       "      <td>18</td>\n",
       "      <td>4</td>\n",
       "      <td>1</td>\n",
       "    </tr>\n",
       "  </tbody>\n",
       "</table>\n",
       "</div>"
      ],
      "text/plain": [
       "Miles    (20, 70]  (70, 100]  (100, 150]  (150, 200]  (200, 300]  (300, 400]\n",
       "Product                                                                     \n",
       "KP281          28         34          16           2           0           0\n",
       "KP481          18         26          13           2           1           0\n",
       "KP781           0          8           9          18           4           1"
      ]
     },
     "execution_count": 146,
     "metadata": {},
     "output_type": "execute_result"
    }
   ],
   "source": [
    "contingency_table = pd.crosstab(data['Product'], pd.cut(data['Miles'], bins = [0,20,70,100,150,200,300,400]))\n",
    "contingency_table"
   ]
  },
  {
   "cell_type": "code",
   "execution_count": 147,
   "metadata": {},
   "outputs": [
    {
     "data": {
      "text/html": [
       "<div>\n",
       "<style scoped>\n",
       "    .dataframe tbody tr th:only-of-type {\n",
       "        vertical-align: middle;\n",
       "    }\n",
       "\n",
       "    .dataframe tbody tr th {\n",
       "        vertical-align: top;\n",
       "    }\n",
       "\n",
       "    .dataframe thead th {\n",
       "        text-align: right;\n",
       "    }\n",
       "</style>\n",
       "<table border=\"1\" class=\"dataframe\">\n",
       "  <thead>\n",
       "    <tr style=\"text-align: right;\">\n",
       "      <th>Miles</th>\n",
       "      <th>(20, 70]</th>\n",
       "      <th>(70, 100]</th>\n",
       "      <th>(100, 150]</th>\n",
       "      <th>(150, 200]</th>\n",
       "      <th>(200, 300]</th>\n",
       "      <th>(300, 400]</th>\n",
       "    </tr>\n",
       "    <tr>\n",
       "      <th>Product</th>\n",
       "      <th></th>\n",
       "      <th></th>\n",
       "      <th></th>\n",
       "      <th></th>\n",
       "      <th></th>\n",
       "      <th></th>\n",
       "    </tr>\n",
       "  </thead>\n",
       "  <tbody>\n",
       "    <tr>\n",
       "      <th>KP281</th>\n",
       "      <td>0.155556</td>\n",
       "      <td>0.188889</td>\n",
       "      <td>0.088889</td>\n",
       "      <td>0.011111</td>\n",
       "      <td>0.000000</td>\n",
       "      <td>0.000000</td>\n",
       "    </tr>\n",
       "    <tr>\n",
       "      <th>KP481</th>\n",
       "      <td>0.100000</td>\n",
       "      <td>0.144444</td>\n",
       "      <td>0.072222</td>\n",
       "      <td>0.011111</td>\n",
       "      <td>0.005556</td>\n",
       "      <td>0.000000</td>\n",
       "    </tr>\n",
       "    <tr>\n",
       "      <th>KP781</th>\n",
       "      <td>0.000000</td>\n",
       "      <td>0.044444</td>\n",
       "      <td>0.050000</td>\n",
       "      <td>0.100000</td>\n",
       "      <td>0.022222</td>\n",
       "      <td>0.005556</td>\n",
       "    </tr>\n",
       "  </tbody>\n",
       "</table>\n",
       "</div>"
      ],
      "text/plain": [
       "Miles    (20, 70]  (70, 100]  (100, 150]  (150, 200]  (200, 300]  (300, 400]\n",
       "Product                                                                     \n",
       "KP281    0.155556   0.188889    0.088889    0.011111    0.000000    0.000000\n",
       "KP481    0.100000   0.144444    0.072222    0.011111    0.005556    0.000000\n",
       "KP781    0.000000   0.044444    0.050000    0.100000    0.022222    0.005556"
      ]
     },
     "execution_count": 147,
     "metadata": {},
     "output_type": "execute_result"
    }
   ],
   "source": [
    "joint_prob = contingency_table/contingency_table.values.sum()\n",
    "joint_prob"
   ]
  },
  {
   "cell_type": "code",
   "execution_count": 150,
   "metadata": {},
   "outputs": [
    {
     "data": {
      "text/plain": [
       "Miles\n",
       "(20, 70]      0.255556\n",
       "(70, 100]     0.377778\n",
       "(100, 150]    0.211111\n",
       "(150, 200]    0.122222\n",
       "(200, 300]    0.027778\n",
       "(300, 400]    0.005556\n",
       "dtype: float64"
      ]
     },
     "execution_count": 150,
     "metadata": {},
     "output_type": "execute_result"
    }
   ],
   "source": [
    "col_marginals = contingency_table.sum(axis = 0)/contingency_table.values.sum()\n",
    "col_marginals"
   ]
  },
  {
   "cell_type": "code",
   "execution_count": 151,
   "metadata": {},
   "outputs": [
    {
     "data": {
      "text/html": [
       "<div>\n",
       "<style scoped>\n",
       "    .dataframe tbody tr th:only-of-type {\n",
       "        vertical-align: middle;\n",
       "    }\n",
       "\n",
       "    .dataframe tbody tr th {\n",
       "        vertical-align: top;\n",
       "    }\n",
       "\n",
       "    .dataframe thead th {\n",
       "        text-align: right;\n",
       "    }\n",
       "</style>\n",
       "<table border=\"1\" class=\"dataframe\">\n",
       "  <thead>\n",
       "    <tr style=\"text-align: right;\">\n",
       "      <th>Miles</th>\n",
       "      <th>(20, 70]</th>\n",
       "      <th>(70, 100]</th>\n",
       "      <th>(100, 150]</th>\n",
       "      <th>(150, 200]</th>\n",
       "      <th>(200, 300]</th>\n",
       "      <th>(300, 400]</th>\n",
       "    </tr>\n",
       "    <tr>\n",
       "      <th>Product</th>\n",
       "      <th></th>\n",
       "      <th></th>\n",
       "      <th></th>\n",
       "      <th></th>\n",
       "      <th></th>\n",
       "      <th></th>\n",
       "    </tr>\n",
       "  </thead>\n",
       "  <tbody>\n",
       "    <tr>\n",
       "      <th>KP281</th>\n",
       "      <td>0.35</td>\n",
       "      <td>0.425000</td>\n",
       "      <td>0.200000</td>\n",
       "      <td>0.025000</td>\n",
       "      <td>0.000000</td>\n",
       "      <td>0.000</td>\n",
       "    </tr>\n",
       "    <tr>\n",
       "      <th>KP481</th>\n",
       "      <td>0.30</td>\n",
       "      <td>0.433333</td>\n",
       "      <td>0.216667</td>\n",
       "      <td>0.033333</td>\n",
       "      <td>0.016667</td>\n",
       "      <td>0.000</td>\n",
       "    </tr>\n",
       "    <tr>\n",
       "      <th>KP781</th>\n",
       "      <td>0.00</td>\n",
       "      <td>0.200000</td>\n",
       "      <td>0.225000</td>\n",
       "      <td>0.450000</td>\n",
       "      <td>0.100000</td>\n",
       "      <td>0.025</td>\n",
       "    </tr>\n",
       "  </tbody>\n",
       "</table>\n",
       "</div>"
      ],
      "text/plain": [
       "Miles    (20, 70]  (70, 100]  (100, 150]  (150, 200]  (200, 300]  (300, 400]\n",
       "Product                                                                     \n",
       "KP281        0.35   0.425000    0.200000    0.025000    0.000000       0.000\n",
       "KP481        0.30   0.433333    0.216667    0.033333    0.016667       0.000\n",
       "KP781        0.00   0.200000    0.225000    0.450000    0.100000       0.025"
      ]
     },
     "execution_count": 151,
     "metadata": {},
     "output_type": "execute_result"
    }
   ],
   "source": [
    "# conditional probability\n",
    "# p(product|miles): likelihood of buying each product given miles\n",
    "cond_prob_miles = contingency_table.div(contingency_table.sum(axis = 1), axis = 0)\n",
    "cond_prob_miles"
   ]
  },
  {
   "cell_type": "markdown",
   "metadata": {},
   "source": [
    "### Insights:"
   ]
  },
  {
   "cell_type": "markdown",
   "metadata": {},
   "source": [
    "If your weekly miles is 150 and below, you are more likely to buy KP281 & KP481.\n",
    "If your weekly miles is above 150, then you are more likely to buy KP781."
   ]
  },
  {
   "cell_type": "markdown",
   "metadata": {},
   "source": [
    "## Final Summary"
   ]
  },
  {
   "cell_type": "code",
   "execution_count": 153,
   "metadata": {},
   "outputs": [
    {
     "data": {
      "text/plain": [
       "Index(['Product', 'Age', 'Gender', 'Education', 'MaritalStatus', 'Usage',\n",
       "       'Fitness', 'Income', 'Miles'],\n",
       "      dtype='object')"
      ]
     },
     "execution_count": 153,
     "metadata": {},
     "output_type": "execute_result"
    }
   ],
   "source": [
    "data.columns"
   ]
  },
  {
   "cell_type": "markdown",
   "metadata": {},
   "source": [
    "Gender, education, usage, fitness, income and miles are strong predictors. If you are a male customer, you are more likely to buy the more expensive product. For the rest of the variables, the higher the level, the more likely to buy the more expensive product."
   ]
  },
  {
   "cell_type": "markdown",
   "metadata": {},
   "source": []
  }
 ],
 "metadata": {
  "kernelspec": {
   "display_name": "base",
   "language": "python",
   "name": "python3"
  },
  "language_info": {
   "codemirror_mode": {
    "name": "ipython",
    "version": 3
   },
   "file_extension": ".py",
   "mimetype": "text/x-python",
   "name": "python",
   "nbconvert_exporter": "python",
   "pygments_lexer": "ipython3",
   "version": "3.9.12"
  }
 },
 "nbformat": 4,
 "nbformat_minor": 2
}
