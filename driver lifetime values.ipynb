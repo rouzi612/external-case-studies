{
 "cells": [
  {
   "cell_type": "markdown",
   "metadata": {},
   "source": [
    "# Driver Lifetime Value"
   ]
  },
  {
   "cell_type": "markdown",
   "metadata": {},
   "source": [
    "## Assignment\n",
    "\n",
    "After exploring and analyzing the data, please:\n",
    "\n",
    "Recommend a Driver's Lifetime Value (i.e., the value of a driver to Lyft over the entire projected lifetime of a driver).\n",
    "Please answer the following questions:\n",
    "1. What are the main factors that affect a driver's lifetime value?\n",
    "2. What is the average projected lifetime of a driver? That is, once a driver is onboarded, how long do they typically continue driving with Lyft?\n",
    "3. Do all drivers act alike? Are there specific segments of drivers that generate more value for Lyft than the average driver?\n",
    "4. What actionable recommendations are there for the business?\n",
    "\n",
    "Prepare and submit a writeup of your findings for consumption by a cross-functional audience.\n",
    "You can make the following assumptions about the Lyft rate card:\n",
    "\n",
    "- Base Fare $2.00\n",
    "- Cost per Mile $1.15\n",
    "- Cost per Minute $0.22\n",
    "- Service Fee $1.75\n",
    "- Minimum Fare $5.00\n",
    "- Maximum Fare $400.00"
   ]
  },
  {
   "cell_type": "code",
   "execution_count": 72,
   "metadata": {},
   "outputs": [],
   "source": [
    "import pandas as pd\n",
    "import numpy as np"
   ]
  },
  {
   "cell_type": "code",
   "execution_count": 73,
   "metadata": {},
   "outputs": [],
   "source": [
    "drivers = pd.read_csv('/Users/rosiebai/Downloads/datasets-11/driver_ids.csv')\n",
    "rides = pd.read_csv('/Users/rosiebai/Downloads/datasets-11/ride_ids.csv')\n",
    "events = pd.read_csv('/Users/rosiebai/Downloads/datasets-11/ride_timestamps.csv')"
   ]
  },
  {
   "cell_type": "code",
   "execution_count": 74,
   "metadata": {},
   "outputs": [
    {
     "data": {
      "text/html": [
       "<div>\n",
       "<style scoped>\n",
       "    .dataframe tbody tr th:only-of-type {\n",
       "        vertical-align: middle;\n",
       "    }\n",
       "\n",
       "    .dataframe tbody tr th {\n",
       "        vertical-align: top;\n",
       "    }\n",
       "\n",
       "    .dataframe thead th {\n",
       "        text-align: right;\n",
       "    }\n",
       "</style>\n",
       "<table border=\"1\" class=\"dataframe\">\n",
       "  <thead>\n",
       "    <tr style=\"text-align: right;\">\n",
       "      <th></th>\n",
       "      <th>driver_id</th>\n",
       "      <th>driver_onboard_date</th>\n",
       "    </tr>\n",
       "  </thead>\n",
       "  <tbody>\n",
       "    <tr>\n",
       "      <th>0</th>\n",
       "      <td>002be0ffdc997bd5c50703158b7c2491</td>\n",
       "      <td>2016-03-29 00:00:00</td>\n",
       "    </tr>\n",
       "    <tr>\n",
       "      <th>1</th>\n",
       "      <td>007f0389f9c7b03ef97098422f902e62</td>\n",
       "      <td>2016-03-29 00:00:00</td>\n",
       "    </tr>\n",
       "    <tr>\n",
       "      <th>2</th>\n",
       "      <td>011e5c5dfc5c2c92501b8b24d47509bc</td>\n",
       "      <td>2016-04-05 00:00:00</td>\n",
       "    </tr>\n",
       "    <tr>\n",
       "      <th>3</th>\n",
       "      <td>0152a2f305e71d26cc964f8d4411add9</td>\n",
       "      <td>2016-04-23 00:00:00</td>\n",
       "    </tr>\n",
       "    <tr>\n",
       "      <th>4</th>\n",
       "      <td>01674381af7edd264113d4e6ed55ecda</td>\n",
       "      <td>2016-04-29 00:00:00</td>\n",
       "    </tr>\n",
       "  </tbody>\n",
       "</table>\n",
       "</div>"
      ],
      "text/plain": [
       "                          driver_id  driver_onboard_date\n",
       "0  002be0ffdc997bd5c50703158b7c2491  2016-03-29 00:00:00\n",
       "1  007f0389f9c7b03ef97098422f902e62  2016-03-29 00:00:00\n",
       "2  011e5c5dfc5c2c92501b8b24d47509bc  2016-04-05 00:00:00\n",
       "3  0152a2f305e71d26cc964f8d4411add9  2016-04-23 00:00:00\n",
       "4  01674381af7edd264113d4e6ed55ecda  2016-04-29 00:00:00"
      ]
     },
     "execution_count": 74,
     "metadata": {},
     "output_type": "execute_result"
    }
   ],
   "source": [
    "drivers.head()"
   ]
  },
  {
   "cell_type": "code",
   "execution_count": 75,
   "metadata": {},
   "outputs": [
    {
     "data": {
      "text/html": [
       "<div>\n",
       "<style scoped>\n",
       "    .dataframe tbody tr th:only-of-type {\n",
       "        vertical-align: middle;\n",
       "    }\n",
       "\n",
       "    .dataframe tbody tr th {\n",
       "        vertical-align: top;\n",
       "    }\n",
       "\n",
       "    .dataframe thead th {\n",
       "        text-align: right;\n",
       "    }\n",
       "</style>\n",
       "<table border=\"1\" class=\"dataframe\">\n",
       "  <thead>\n",
       "    <tr style=\"text-align: right;\">\n",
       "      <th></th>\n",
       "      <th>driver_id</th>\n",
       "      <th>ride_id</th>\n",
       "      <th>ride_distance</th>\n",
       "      <th>ride_duration</th>\n",
       "      <th>ride_prime_time</th>\n",
       "    </tr>\n",
       "  </thead>\n",
       "  <tbody>\n",
       "    <tr>\n",
       "      <th>0</th>\n",
       "      <td>002be0ffdc997bd5c50703158b7c2491</td>\n",
       "      <td>006d61cf7446e682f7bc50b0f8a5bea5</td>\n",
       "      <td>1811</td>\n",
       "      <td>327</td>\n",
       "      <td>50</td>\n",
       "    </tr>\n",
       "    <tr>\n",
       "      <th>1</th>\n",
       "      <td>002be0ffdc997bd5c50703158b7c2491</td>\n",
       "      <td>01b522c5c3a756fbdb12e95e87507eda</td>\n",
       "      <td>3362</td>\n",
       "      <td>809</td>\n",
       "      <td>0</td>\n",
       "    </tr>\n",
       "    <tr>\n",
       "      <th>2</th>\n",
       "      <td>002be0ffdc997bd5c50703158b7c2491</td>\n",
       "      <td>029227c4c2971ce69ff2274dc798ef43</td>\n",
       "      <td>3282</td>\n",
       "      <td>572</td>\n",
       "      <td>0</td>\n",
       "    </tr>\n",
       "    <tr>\n",
       "      <th>3</th>\n",
       "      <td>002be0ffdc997bd5c50703158b7c2491</td>\n",
       "      <td>034e861343a63ac3c18a9ceb1ce0ac69</td>\n",
       "      <td>65283</td>\n",
       "      <td>3338</td>\n",
       "      <td>25</td>\n",
       "    </tr>\n",
       "    <tr>\n",
       "      <th>4</th>\n",
       "      <td>002be0ffdc997bd5c50703158b7c2491</td>\n",
       "      <td>034f2e614a2f9fc7f1c2f77647d1b981</td>\n",
       "      <td>4115</td>\n",
       "      <td>823</td>\n",
       "      <td>100</td>\n",
       "    </tr>\n",
       "  </tbody>\n",
       "</table>\n",
       "</div>"
      ],
      "text/plain": [
       "                          driver_id                           ride_id  \\\n",
       "0  002be0ffdc997bd5c50703158b7c2491  006d61cf7446e682f7bc50b0f8a5bea5   \n",
       "1  002be0ffdc997bd5c50703158b7c2491  01b522c5c3a756fbdb12e95e87507eda   \n",
       "2  002be0ffdc997bd5c50703158b7c2491  029227c4c2971ce69ff2274dc798ef43   \n",
       "3  002be0ffdc997bd5c50703158b7c2491  034e861343a63ac3c18a9ceb1ce0ac69   \n",
       "4  002be0ffdc997bd5c50703158b7c2491  034f2e614a2f9fc7f1c2f77647d1b981   \n",
       "\n",
       "   ride_distance  ride_duration  ride_prime_time  \n",
       "0           1811            327               50  \n",
       "1           3362            809                0  \n",
       "2           3282            572                0  \n",
       "3          65283           3338               25  \n",
       "4           4115            823              100  "
      ]
     },
     "execution_count": 75,
     "metadata": {},
     "output_type": "execute_result"
    }
   ],
   "source": [
    "rides.head()"
   ]
  },
  {
   "cell_type": "code",
   "execution_count": 76,
   "metadata": {},
   "outputs": [
    {
     "data": {
      "text/html": [
       "<div>\n",
       "<style scoped>\n",
       "    .dataframe tbody tr th:only-of-type {\n",
       "        vertical-align: middle;\n",
       "    }\n",
       "\n",
       "    .dataframe tbody tr th {\n",
       "        vertical-align: top;\n",
       "    }\n",
       "\n",
       "    .dataframe thead th {\n",
       "        text-align: right;\n",
       "    }\n",
       "</style>\n",
       "<table border=\"1\" class=\"dataframe\">\n",
       "  <thead>\n",
       "    <tr style=\"text-align: right;\">\n",
       "      <th></th>\n",
       "      <th>ride_id</th>\n",
       "      <th>event</th>\n",
       "      <th>timestamp</th>\n",
       "    </tr>\n",
       "  </thead>\n",
       "  <tbody>\n",
       "    <tr>\n",
       "      <th>0</th>\n",
       "      <td>00003037a262d9ee40e61b5c0718f7f0</td>\n",
       "      <td>requested_at</td>\n",
       "      <td>2016-06-13 09:39:19</td>\n",
       "    </tr>\n",
       "    <tr>\n",
       "      <th>1</th>\n",
       "      <td>00003037a262d9ee40e61b5c0718f7f0</td>\n",
       "      <td>accepted_at</td>\n",
       "      <td>2016-06-13 09:39:51</td>\n",
       "    </tr>\n",
       "    <tr>\n",
       "      <th>2</th>\n",
       "      <td>00003037a262d9ee40e61b5c0718f7f0</td>\n",
       "      <td>arrived_at</td>\n",
       "      <td>2016-06-13 09:44:31</td>\n",
       "    </tr>\n",
       "    <tr>\n",
       "      <th>3</th>\n",
       "      <td>00003037a262d9ee40e61b5c0718f7f0</td>\n",
       "      <td>picked_up_at</td>\n",
       "      <td>2016-06-13 09:44:33</td>\n",
       "    </tr>\n",
       "    <tr>\n",
       "      <th>4</th>\n",
       "      <td>00003037a262d9ee40e61b5c0718f7f0</td>\n",
       "      <td>dropped_off_at</td>\n",
       "      <td>2016-06-13 10:03:05</td>\n",
       "    </tr>\n",
       "  </tbody>\n",
       "</table>\n",
       "</div>"
      ],
      "text/plain": [
       "                            ride_id           event            timestamp\n",
       "0  00003037a262d9ee40e61b5c0718f7f0    requested_at  2016-06-13 09:39:19\n",
       "1  00003037a262d9ee40e61b5c0718f7f0     accepted_at  2016-06-13 09:39:51\n",
       "2  00003037a262d9ee40e61b5c0718f7f0      arrived_at  2016-06-13 09:44:31\n",
       "3  00003037a262d9ee40e61b5c0718f7f0    picked_up_at  2016-06-13 09:44:33\n",
       "4  00003037a262d9ee40e61b5c0718f7f0  dropped_off_at  2016-06-13 10:03:05"
      ]
     },
     "execution_count": 76,
     "metadata": {},
     "output_type": "execute_result"
    }
   ],
   "source": [
    "events.head()"
   ]
  },
  {
   "cell_type": "code",
   "execution_count": 77,
   "metadata": {},
   "outputs": [
    {
     "data": {
      "text/plain": [
       "Index(['ride_id', 'event', 'timestamp', 'driver_id', 'ride_distance',\n",
       "       'ride_duration', 'ride_prime_time', 'driver_onboard_date'],\n",
       "      dtype='object')"
      ]
     },
     "execution_count": 77,
     "metadata": {},
     "output_type": "execute_result"
    }
   ],
   "source": [
    "data = events.merge(rides, on = 'ride_id', how = 'left')\n",
    "data = data.merge(drivers, on = 'driver_id', how = 'left')\n",
    "data.columns"
   ]
  },
  {
   "cell_type": "code",
   "execution_count": 78,
   "metadata": {},
   "outputs": [
    {
     "data": {
      "text/html": [
       "<div>\n",
       "<style scoped>\n",
       "    .dataframe tbody tr th:only-of-type {\n",
       "        vertical-align: middle;\n",
       "    }\n",
       "\n",
       "    .dataframe tbody tr th {\n",
       "        vertical-align: top;\n",
       "    }\n",
       "\n",
       "    .dataframe thead th {\n",
       "        text-align: right;\n",
       "    }\n",
       "</style>\n",
       "<table border=\"1\" class=\"dataframe\">\n",
       "  <thead>\n",
       "    <tr style=\"text-align: right;\">\n",
       "      <th></th>\n",
       "      <th>ride_id</th>\n",
       "      <th>event</th>\n",
       "      <th>timestamp</th>\n",
       "      <th>driver_id</th>\n",
       "      <th>ride_distance</th>\n",
       "      <th>ride_duration</th>\n",
       "      <th>ride_prime_time</th>\n",
       "      <th>driver_onboard_date</th>\n",
       "    </tr>\n",
       "  </thead>\n",
       "  <tbody>\n",
       "    <tr>\n",
       "      <th>0</th>\n",
       "      <td>00003037a262d9ee40e61b5c0718f7f0</td>\n",
       "      <td>requested_at</td>\n",
       "      <td>2016-06-13 09:39:19</td>\n",
       "      <td>d967f5296732fa55266b5f1314e7447b</td>\n",
       "      <td>3698.0</td>\n",
       "      <td>1112.0</td>\n",
       "      <td>0.0</td>\n",
       "      <td>2016-04-09 00:00:00</td>\n",
       "    </tr>\n",
       "    <tr>\n",
       "      <th>1</th>\n",
       "      <td>00003037a262d9ee40e61b5c0718f7f0</td>\n",
       "      <td>accepted_at</td>\n",
       "      <td>2016-06-13 09:39:51</td>\n",
       "      <td>d967f5296732fa55266b5f1314e7447b</td>\n",
       "      <td>3698.0</td>\n",
       "      <td>1112.0</td>\n",
       "      <td>0.0</td>\n",
       "      <td>2016-04-09 00:00:00</td>\n",
       "    </tr>\n",
       "    <tr>\n",
       "      <th>2</th>\n",
       "      <td>00003037a262d9ee40e61b5c0718f7f0</td>\n",
       "      <td>arrived_at</td>\n",
       "      <td>2016-06-13 09:44:31</td>\n",
       "      <td>d967f5296732fa55266b5f1314e7447b</td>\n",
       "      <td>3698.0</td>\n",
       "      <td>1112.0</td>\n",
       "      <td>0.0</td>\n",
       "      <td>2016-04-09 00:00:00</td>\n",
       "    </tr>\n",
       "    <tr>\n",
       "      <th>3</th>\n",
       "      <td>00003037a262d9ee40e61b5c0718f7f0</td>\n",
       "      <td>picked_up_at</td>\n",
       "      <td>2016-06-13 09:44:33</td>\n",
       "      <td>d967f5296732fa55266b5f1314e7447b</td>\n",
       "      <td>3698.0</td>\n",
       "      <td>1112.0</td>\n",
       "      <td>0.0</td>\n",
       "      <td>2016-04-09 00:00:00</td>\n",
       "    </tr>\n",
       "    <tr>\n",
       "      <th>4</th>\n",
       "      <td>00003037a262d9ee40e61b5c0718f7f0</td>\n",
       "      <td>dropped_off_at</td>\n",
       "      <td>2016-06-13 10:03:05</td>\n",
       "      <td>d967f5296732fa55266b5f1314e7447b</td>\n",
       "      <td>3698.0</td>\n",
       "      <td>1112.0</td>\n",
       "      <td>0.0</td>\n",
       "      <td>2016-04-09 00:00:00</td>\n",
       "    </tr>\n",
       "  </tbody>\n",
       "</table>\n",
       "</div>"
      ],
      "text/plain": [
       "                            ride_id           event            timestamp  \\\n",
       "0  00003037a262d9ee40e61b5c0718f7f0    requested_at  2016-06-13 09:39:19   \n",
       "1  00003037a262d9ee40e61b5c0718f7f0     accepted_at  2016-06-13 09:39:51   \n",
       "2  00003037a262d9ee40e61b5c0718f7f0      arrived_at  2016-06-13 09:44:31   \n",
       "3  00003037a262d9ee40e61b5c0718f7f0    picked_up_at  2016-06-13 09:44:33   \n",
       "4  00003037a262d9ee40e61b5c0718f7f0  dropped_off_at  2016-06-13 10:03:05   \n",
       "\n",
       "                          driver_id  ride_distance  ride_duration  \\\n",
       "0  d967f5296732fa55266b5f1314e7447b         3698.0         1112.0   \n",
       "1  d967f5296732fa55266b5f1314e7447b         3698.0         1112.0   \n",
       "2  d967f5296732fa55266b5f1314e7447b         3698.0         1112.0   \n",
       "3  d967f5296732fa55266b5f1314e7447b         3698.0         1112.0   \n",
       "4  d967f5296732fa55266b5f1314e7447b         3698.0         1112.0   \n",
       "\n",
       "   ride_prime_time  driver_onboard_date  \n",
       "0              0.0  2016-04-09 00:00:00  \n",
       "1              0.0  2016-04-09 00:00:00  \n",
       "2              0.0  2016-04-09 00:00:00  \n",
       "3              0.0  2016-04-09 00:00:00  \n",
       "4              0.0  2016-04-09 00:00:00  "
      ]
     },
     "execution_count": 78,
     "metadata": {},
     "output_type": "execute_result"
    }
   ],
   "source": [
    "data.head()"
   ]
  },
  {
   "cell_type": "code",
   "execution_count": null,
   "metadata": {},
   "outputs": [],
   "source": []
  },
  {
   "cell_type": "markdown",
   "metadata": {},
   "source": [
    "## Feature Engineering"
   ]
  },
  {
   "cell_type": "code",
   "execution_count": 79,
   "metadata": {},
   "outputs": [
    {
     "data": {
      "text/plain": [
       "array(['requested_at', 'accepted_at', 'arrived_at', 'picked_up_at',\n",
       "       'dropped_off_at'], dtype=object)"
      ]
     },
     "execution_count": 79,
     "metadata": {},
     "output_type": "execute_result"
    }
   ],
   "source": [
    "data['event'].unique()"
   ]
  },
  {
   "cell_type": "code",
   "execution_count": 80,
   "metadata": {},
   "outputs": [
    {
     "data": {
      "text/html": [
       "<div>\n",
       "<style scoped>\n",
       "    .dataframe tbody tr th:only-of-type {\n",
       "        vertical-align: middle;\n",
       "    }\n",
       "\n",
       "    .dataframe tbody tr th {\n",
       "        vertical-align: top;\n",
       "    }\n",
       "\n",
       "    .dataframe thead th {\n",
       "        text-align: right;\n",
       "    }\n",
       "</style>\n",
       "<table border=\"1\" class=\"dataframe\">\n",
       "  <thead>\n",
       "    <tr style=\"text-align: right;\">\n",
       "      <th></th>\n",
       "      <th>driver_id</th>\n",
       "      <th>driver_onboard_date</th>\n",
       "      <th>last_dropoff</th>\n",
       "      <th>tenure</th>\n",
       "    </tr>\n",
       "  </thead>\n",
       "  <tbody>\n",
       "    <tr>\n",
       "      <th>0</th>\n",
       "      <td>002be0ffdc997bd5c50703158b7c2491</td>\n",
       "      <td>2016-03-29</td>\n",
       "      <td>2016-06-23 10:29:53</td>\n",
       "      <td>86.0</td>\n",
       "    </tr>\n",
       "    <tr>\n",
       "      <th>1</th>\n",
       "      <td>007f0389f9c7b03ef97098422f902e62</td>\n",
       "      <td>2016-03-29</td>\n",
       "      <td>2016-06-22 13:28:38</td>\n",
       "      <td>85.0</td>\n",
       "    </tr>\n",
       "    <tr>\n",
       "      <th>2</th>\n",
       "      <td>011e5c5dfc5c2c92501b8b24d47509bc</td>\n",
       "      <td>2016-04-05</td>\n",
       "      <td>2016-06-12 20:30:38</td>\n",
       "      <td>68.0</td>\n",
       "    </tr>\n",
       "    <tr>\n",
       "      <th>3</th>\n",
       "      <td>0152a2f305e71d26cc964f8d4411add9</td>\n",
       "      <td>2016-04-23</td>\n",
       "      <td>2016-06-26 10:36:13</td>\n",
       "      <td>64.0</td>\n",
       "    </tr>\n",
       "    <tr>\n",
       "      <th>4</th>\n",
       "      <td>01674381af7edd264113d4e6ed55ecda</td>\n",
       "      <td>2016-04-29</td>\n",
       "      <td>2016-06-24 13:27:38</td>\n",
       "      <td>56.0</td>\n",
       "    </tr>\n",
       "  </tbody>\n",
       "</table>\n",
       "</div>"
      ],
      "text/plain": [
       "                          driver_id driver_onboard_date        last_dropoff  \\\n",
       "0  002be0ffdc997bd5c50703158b7c2491          2016-03-29 2016-06-23 10:29:53   \n",
       "1  007f0389f9c7b03ef97098422f902e62          2016-03-29 2016-06-22 13:28:38   \n",
       "2  011e5c5dfc5c2c92501b8b24d47509bc          2016-04-05 2016-06-12 20:30:38   \n",
       "3  0152a2f305e71d26cc964f8d4411add9          2016-04-23 2016-06-26 10:36:13   \n",
       "4  01674381af7edd264113d4e6ed55ecda          2016-04-29 2016-06-24 13:27:38   \n",
       "\n",
       "   tenure  \n",
       "0    86.0  \n",
       "1    85.0  \n",
       "2    68.0  \n",
       "3    64.0  \n",
       "4    56.0  "
      ]
     },
     "execution_count": 80,
     "metadata": {},
     "output_type": "execute_result"
    }
   ],
   "source": [
    "last_dropoff = data[data['event'] == 'dropped_off_at'].groupby('driver_id')['timestamp'].max().reset_index(name = 'last_dropoff')\n",
    "drivers = drivers.merge(last_dropoff, on = 'driver_id', how = 'left')\n",
    "drivers['last_dropoff'] = pd.to_datetime(drivers['last_dropoff'] )\n",
    "drivers['driver_onboard_date'] = pd.to_datetime(drivers['driver_onboard_date'])\n",
    "drivers['tenure'] = (drivers['last_dropoff'] - drivers['driver_onboard_date']).dt.days\n",
    "drivers.head()"
   ]
  },
  {
   "cell_type": "code",
   "execution_count": 81,
   "metadata": {},
   "outputs": [
    {
     "data": {
      "text/plain": [
       "100"
      ]
     },
     "execution_count": 81,
     "metadata": {},
     "output_type": "execute_result"
    }
   ],
   "source": [
    "drivers.tenure.isna().sum()"
   ]
  },
  {
   "cell_type": "code",
   "execution_count": 82,
   "metadata": {},
   "outputs": [
    {
     "data": {
      "text/plain": [
       "937"
      ]
     },
     "execution_count": 82,
     "metadata": {},
     "output_type": "execute_result"
    }
   ],
   "source": [
    "len(drivers)"
   ]
  },
  {
   "cell_type": "code",
   "execution_count": 83,
   "metadata": {},
   "outputs": [
    {
     "data": {
      "text/html": [
       "<div>\n",
       "<style scoped>\n",
       "    .dataframe tbody tr th:only-of-type {\n",
       "        vertical-align: middle;\n",
       "    }\n",
       "\n",
       "    .dataframe tbody tr th {\n",
       "        vertical-align: top;\n",
       "    }\n",
       "\n",
       "    .dataframe thead th {\n",
       "        text-align: right;\n",
       "    }\n",
       "</style>\n",
       "<table border=\"1\" class=\"dataframe\">\n",
       "  <thead>\n",
       "    <tr style=\"text-align: right;\">\n",
       "      <th></th>\n",
       "      <th>driver_id</th>\n",
       "      <th>driver_onboard_date</th>\n",
       "      <th>last_dropoff</th>\n",
       "      <th>tenure</th>\n",
       "      <th>total_rides</th>\n",
       "    </tr>\n",
       "  </thead>\n",
       "  <tbody>\n",
       "    <tr>\n",
       "      <th>0</th>\n",
       "      <td>002be0ffdc997bd5c50703158b7c2491</td>\n",
       "      <td>2016-03-29</td>\n",
       "      <td>2016-06-23 10:29:53</td>\n",
       "      <td>86.0</td>\n",
       "      <td>277.0</td>\n",
       "    </tr>\n",
       "    <tr>\n",
       "      <th>1</th>\n",
       "      <td>007f0389f9c7b03ef97098422f902e62</td>\n",
       "      <td>2016-03-29</td>\n",
       "      <td>2016-06-22 13:28:38</td>\n",
       "      <td>85.0</td>\n",
       "      <td>31.0</td>\n",
       "    </tr>\n",
       "    <tr>\n",
       "      <th>2</th>\n",
       "      <td>011e5c5dfc5c2c92501b8b24d47509bc</td>\n",
       "      <td>2016-04-05</td>\n",
       "      <td>2016-06-12 20:30:38</td>\n",
       "      <td>68.0</td>\n",
       "      <td>34.0</td>\n",
       "    </tr>\n",
       "    <tr>\n",
       "      <th>3</th>\n",
       "      <td>0152a2f305e71d26cc964f8d4411add9</td>\n",
       "      <td>2016-04-23</td>\n",
       "      <td>2016-06-26 10:36:13</td>\n",
       "      <td>64.0</td>\n",
       "      <td>191.0</td>\n",
       "    </tr>\n",
       "    <tr>\n",
       "      <th>4</th>\n",
       "      <td>01674381af7edd264113d4e6ed55ecda</td>\n",
       "      <td>2016-04-29</td>\n",
       "      <td>2016-06-24 13:27:38</td>\n",
       "      <td>56.0</td>\n",
       "      <td>375.0</td>\n",
       "    </tr>\n",
       "  </tbody>\n",
       "</table>\n",
       "</div>"
      ],
      "text/plain": [
       "                          driver_id driver_onboard_date        last_dropoff  \\\n",
       "0  002be0ffdc997bd5c50703158b7c2491          2016-03-29 2016-06-23 10:29:53   \n",
       "1  007f0389f9c7b03ef97098422f902e62          2016-03-29 2016-06-22 13:28:38   \n",
       "2  011e5c5dfc5c2c92501b8b24d47509bc          2016-04-05 2016-06-12 20:30:38   \n",
       "3  0152a2f305e71d26cc964f8d4411add9          2016-04-23 2016-06-26 10:36:13   \n",
       "4  01674381af7edd264113d4e6ed55ecda          2016-04-29 2016-06-24 13:27:38   \n",
       "\n",
       "   tenure  total_rides  \n",
       "0    86.0        277.0  \n",
       "1    85.0         31.0  \n",
       "2    68.0         34.0  \n",
       "3    64.0        191.0  \n",
       "4    56.0        375.0  "
      ]
     },
     "execution_count": 83,
     "metadata": {},
     "output_type": "execute_result"
    }
   ],
   "source": [
    "total_rides = data.groupby('driver_id')['ride_id'].nunique().reset_index(name = 'total_rides')\n",
    "drivers = drivers.merge(total_rides, on = 'driver_id', how = 'left')\n",
    "drivers.head()"
   ]
  },
  {
   "cell_type": "code",
   "execution_count": 84,
   "metadata": {},
   "outputs": [],
   "source": [
    "subset1 = data[['driver_id','ride_id','ride_distance','ride_duration']].drop_duplicates()\n",
    "total_distance = subset1.groupby('driver_id')['ride_distance'].sum().reset_index(name = 'total_distance(in meters)')\n",
    "total_duration = subset1.groupby('driver_id')['ride_duration'].sum().reset_index(name = 'total_duration(in seconds)')\n",
    "total_distance['total_distance (in miles)'] = total_distance['total_distance(in meters)']/1609.34\n",
    "total_duration['total_duration (in minutes)'] = total_duration['total_duration(in seconds)']/60\n",
    "drivers = drivers.merge(total_distance, on = 'driver_id', how = 'left')\n",
    "drivers = drivers.merge(total_duration, on = 'driver_id', how = 'left')\n"
   ]
  },
  {
   "cell_type": "code",
   "execution_count": 85,
   "metadata": {},
   "outputs": [],
   "source": [
    "# Given that Cost per Mile $1.15 and Cost per Minute $0.22, Base Fare $2.00, Service Fee $1.75\n",
    "# per ride fare\n",
    "drivers['total_costs'] = drivers['total_distance (in miles)'] * 1.15 + drivers['total_duration (in minutes)'] * 0.22\n",
    "drivers['base_fare'] = drivers['total_rides']* (2.0 + 1.75) \n",
    "drivers['fare'] = drivers['base_fare'] + drivers['total_costs']"
   ]
  },
  {
   "cell_type": "code",
   "execution_count": 86,
   "metadata": {},
   "outputs": [],
   "source": [
    "# prime time exposure (% of rides with ride_prime_time > 0)\n",
    "data['prime_time_exposure'] = np.where(data['ride_prime_time']> 0, 1 , 0)\n",
    "prime_time_exposure = data.groupby('driver_id')['prime_time_exposure'].mean().reset_index(name = 'prime_time_exposure_pct')\n",
    "drivers = drivers.merge(prime_time_exposure, on = 'driver_id', how = 'left')\n",
    "drivers['fare'] = drivers['fare'] * (1 + drivers['prime_time_exposure_pct'])"
   ]
  },
  {
   "cell_type": "code",
   "execution_count": 87,
   "metadata": {},
   "outputs": [],
   "source": [
    "# avg distance per ride \n",
    "drivers['avg_distance_per_ride'] = drivers['total_distance (in miles)']/drivers['total_rides']\n",
    "# avg duration per ride \n",
    "drivers['avg_duration_per_ride'] = drivers['total_duration (in minutes)']/drivers['total_rides']"
   ]
  },
  {
   "cell_type": "code",
   "execution_count": 88,
   "metadata": {},
   "outputs": [
    {
     "data": {
      "text/html": [
       "<div>\n",
       "<style scoped>\n",
       "    .dataframe tbody tr th:only-of-type {\n",
       "        vertical-align: middle;\n",
       "    }\n",
       "\n",
       "    .dataframe tbody tr th {\n",
       "        vertical-align: top;\n",
       "    }\n",
       "\n",
       "    .dataframe thead th {\n",
       "        text-align: right;\n",
       "    }\n",
       "</style>\n",
       "<table border=\"1\" class=\"dataframe\">\n",
       "  <thead>\n",
       "    <tr style=\"text-align: right;\">\n",
       "      <th></th>\n",
       "      <th>driver_id</th>\n",
       "      <th>driver_onboard_date</th>\n",
       "      <th>last_dropoff</th>\n",
       "      <th>tenure</th>\n",
       "      <th>total_rides</th>\n",
       "      <th>total_distance(in meters)</th>\n",
       "      <th>total_distance (in miles)</th>\n",
       "      <th>total_duration(in seconds)</th>\n",
       "      <th>total_duration (in minutes)</th>\n",
       "      <th>total_costs</th>\n",
       "      <th>base_fare</th>\n",
       "      <th>fare</th>\n",
       "      <th>prime_time_exposure_pct</th>\n",
       "      <th>avg_distance_per_ride</th>\n",
       "      <th>avg_duration_per_ride</th>\n",
       "    </tr>\n",
       "  </thead>\n",
       "  <tbody>\n",
       "    <tr>\n",
       "      <th>0</th>\n",
       "      <td>002be0ffdc997bd5c50703158b7c2491</td>\n",
       "      <td>2016-03-29</td>\n",
       "      <td>2016-06-23 10:29:53</td>\n",
       "      <td>86.0</td>\n",
       "      <td>277.0</td>\n",
       "      <td>1740287.0</td>\n",
       "      <td>1081.366896</td>\n",
       "      <td>221238.0</td>\n",
       "      <td>3687.300000</td>\n",
       "      <td>2054.777930</td>\n",
       "      <td>1038.75</td>\n",
       "      <td>4322.004725</td>\n",
       "      <td>0.397112</td>\n",
       "      <td>3.903852</td>\n",
       "      <td>13.311552</td>\n",
       "    </tr>\n",
       "    <tr>\n",
       "      <th>1</th>\n",
       "      <td>007f0389f9c7b03ef97098422f902e62</td>\n",
       "      <td>2016-03-29</td>\n",
       "      <td>2016-06-22 13:28:38</td>\n",
       "      <td>85.0</td>\n",
       "      <td>31.0</td>\n",
       "      <td>117531.0</td>\n",
       "      <td>73.030559</td>\n",
       "      <td>20497.0</td>\n",
       "      <td>341.616667</td>\n",
       "      <td>159.140810</td>\n",
       "      <td>116.25</td>\n",
       "      <td>381.993704</td>\n",
       "      <td>0.387097</td>\n",
       "      <td>2.355824</td>\n",
       "      <td>11.019892</td>\n",
       "    </tr>\n",
       "    <tr>\n",
       "      <th>2</th>\n",
       "      <td>011e5c5dfc5c2c92501b8b24d47509bc</td>\n",
       "      <td>2016-04-05</td>\n",
       "      <td>2016-06-12 20:30:38</td>\n",
       "      <td>68.0</td>\n",
       "      <td>34.0</td>\n",
       "      <td>269653.0</td>\n",
       "      <td>167.555023</td>\n",
       "      <td>29205.0</td>\n",
       "      <td>486.750000</td>\n",
       "      <td>299.773276</td>\n",
       "      <td>127.50</td>\n",
       "      <td>628.343053</td>\n",
       "      <td>0.470588</td>\n",
       "      <td>4.928089</td>\n",
       "      <td>14.316176</td>\n",
       "    </tr>\n",
       "    <tr>\n",
       "      <th>3</th>\n",
       "      <td>0152a2f305e71d26cc964f8d4411add9</td>\n",
       "      <td>2016-04-23</td>\n",
       "      <td>2016-06-26 10:36:13</td>\n",
       "      <td>64.0</td>\n",
       "      <td>191.0</td>\n",
       "      <td>1471239.0</td>\n",
       "      <td>914.187804</td>\n",
       "      <td>174521.0</td>\n",
       "      <td>2908.683333</td>\n",
       "      <td>1691.226308</td>\n",
       "      <td>716.25</td>\n",
       "      <td>3012.496531</td>\n",
       "      <td>0.251309</td>\n",
       "      <td>4.786324</td>\n",
       "      <td>15.228709</td>\n",
       "    </tr>\n",
       "    <tr>\n",
       "      <th>4</th>\n",
       "      <td>01674381af7edd264113d4e6ed55ecda</td>\n",
       "      <td>2016-04-29</td>\n",
       "      <td>2016-06-24 13:27:38</td>\n",
       "      <td>56.0</td>\n",
       "      <td>375.0</td>\n",
       "      <td>3123644.0</td>\n",
       "      <td>1940.947221</td>\n",
       "      <td>357443.0</td>\n",
       "      <td>5957.383333</td>\n",
       "      <td>3542.713637</td>\n",
       "      <td>1406.25</td>\n",
       "      <td>6255.490037</td>\n",
       "      <td>0.264000</td>\n",
       "      <td>5.175859</td>\n",
       "      <td>15.886356</td>\n",
       "    </tr>\n",
       "  </tbody>\n",
       "</table>\n",
       "</div>"
      ],
      "text/plain": [
       "                          driver_id driver_onboard_date        last_dropoff  \\\n",
       "0  002be0ffdc997bd5c50703158b7c2491          2016-03-29 2016-06-23 10:29:53   \n",
       "1  007f0389f9c7b03ef97098422f902e62          2016-03-29 2016-06-22 13:28:38   \n",
       "2  011e5c5dfc5c2c92501b8b24d47509bc          2016-04-05 2016-06-12 20:30:38   \n",
       "3  0152a2f305e71d26cc964f8d4411add9          2016-04-23 2016-06-26 10:36:13   \n",
       "4  01674381af7edd264113d4e6ed55ecda          2016-04-29 2016-06-24 13:27:38   \n",
       "\n",
       "   tenure  total_rides  total_distance(in meters)  total_distance (in miles)  \\\n",
       "0    86.0        277.0                  1740287.0                1081.366896   \n",
       "1    85.0         31.0                   117531.0                  73.030559   \n",
       "2    68.0         34.0                   269653.0                 167.555023   \n",
       "3    64.0        191.0                  1471239.0                 914.187804   \n",
       "4    56.0        375.0                  3123644.0                1940.947221   \n",
       "\n",
       "   total_duration(in seconds)  total_duration (in minutes)  total_costs  \\\n",
       "0                    221238.0                  3687.300000  2054.777930   \n",
       "1                     20497.0                   341.616667   159.140810   \n",
       "2                     29205.0                   486.750000   299.773276   \n",
       "3                    174521.0                  2908.683333  1691.226308   \n",
       "4                    357443.0                  5957.383333  3542.713637   \n",
       "\n",
       "   base_fare         fare  prime_time_exposure_pct  avg_distance_per_ride  \\\n",
       "0    1038.75  4322.004725                 0.397112               3.903852   \n",
       "1     116.25   381.993704                 0.387097               2.355824   \n",
       "2     127.50   628.343053                 0.470588               4.928089   \n",
       "3     716.25  3012.496531                 0.251309               4.786324   \n",
       "4    1406.25  6255.490037                 0.264000               5.175859   \n",
       "\n",
       "   avg_duration_per_ride  \n",
       "0              13.311552  \n",
       "1              11.019892  \n",
       "2              14.316176  \n",
       "3              15.228709  \n",
       "4              15.886356  "
      ]
     },
     "execution_count": 88,
     "metadata": {},
     "output_type": "execute_result"
    }
   ],
   "source": [
    "drivers.head()"
   ]
  },
  {
   "cell_type": "code",
   "execution_count": 89,
   "metadata": {},
   "outputs": [
    {
     "data": {
      "text/plain": [
       "Index(['driver_id', 'driver_onboard_date', 'last_dropoff', 'tenure',\n",
       "       'total_rides', 'total_distance(in meters)', 'total_distance (in miles)',\n",
       "       'total_duration(in seconds)', 'total_duration (in minutes)',\n",
       "       'total_costs', 'base_fare', 'fare', 'prime_time_exposure_pct',\n",
       "       'avg_distance_per_ride', 'avg_duration_per_ride'],\n",
       "      dtype='object')"
      ]
     },
     "execution_count": 89,
     "metadata": {},
     "output_type": "execute_result"
    }
   ],
   "source": [
    "drivers.columns"
   ]
  },
  {
   "cell_type": "code",
   "execution_count": 90,
   "metadata": {},
   "outputs": [
    {
     "data": {
      "text/plain": [
       "driver_id                        0\n",
       "driver_onboard_date              0\n",
       "last_dropoff                   100\n",
       "tenure                         100\n",
       "total_rides                    100\n",
       "total_distance(in meters)      100\n",
       "total_distance (in miles)      100\n",
       "total_duration(in seconds)     100\n",
       "total_duration (in minutes)    100\n",
       "total_costs                    100\n",
       "base_fare                      100\n",
       "fare                           100\n",
       "prime_time_exposure_pct        100\n",
       "avg_distance_per_ride          100\n",
       "avg_duration_per_ride          100\n",
       "dtype: int64"
      ]
     },
     "execution_count": 90,
     "metadata": {},
     "output_type": "execute_result"
    }
   ],
   "source": [
    "drivers.isna().sum()"
   ]
  },
  {
   "cell_type": "code",
   "execution_count": 91,
   "metadata": {},
   "outputs": [],
   "source": [
    "drivers = drivers.dropna()"
   ]
  },
  {
   "cell_type": "markdown",
   "metadata": {},
   "source": [
    "## Model Training"
   ]
  },
  {
   "cell_type": "code",
   "execution_count": 92,
   "metadata": {},
   "outputs": [
    {
     "name": "stdout",
     "output_type": "stream",
     "text": [
      "Linear Regression Results\n",
      "R²: 0.972058843033895\n",
      "MAE: 291.5335895214231\n",
      "RMSE: 481.7209627747187\n",
      "                   Feature  Coefficient\n",
      "3  prime_time_exposure_pct  1397.712234\n",
      "4    avg_distance_per_ride   165.452829\n",
      "5    avg_duration_per_ride    59.146633\n",
      "1              total_rides    16.001736\n",
      "2                   tenure    -2.903234\n",
      "0                    const     0.000000\n",
      "                            OLS Regression Results                            \n",
      "==============================================================================\n",
      "Dep. Variable:                   fare   R-squared:                       0.985\n",
      "Model:                            OLS   Adj. R-squared:                  0.985\n",
      "Method:                 Least Squares   F-statistic:                 1.076e+04\n",
      "Date:                Sat, 23 Aug 2025   Prob (F-statistic):               0.00\n",
      "Time:                        22:07:23   Log-Likelihood:                -6104.5\n",
      "No. Observations:                 837   AIC:                         1.222e+04\n",
      "Df Residuals:                     831   BIC:                         1.225e+04\n",
      "Df Model:                           5                                         \n",
      "Covariance Type:            nonrobust                                         \n",
      "===========================================================================================\n",
      "                              coef    std err          t      P>|t|      [0.025      0.975]\n",
      "-------------------------------------------------------------------------------------------\n",
      "const                   -1950.6306    108.489    -17.980      0.000   -2163.576   -1737.685\n",
      "total_rides                16.0781      0.085    188.571      0.000      15.911      16.246\n",
      "tenure                     -2.4258      0.675     -3.595      0.000      -3.750      -1.101\n",
      "prime_time_exposure_pct  1509.3544    119.864     12.592      0.000    1274.082    1744.627\n",
      "avg_distance_per_ride     186.7357     13.371     13.966      0.000     160.492     212.980\n",
      "avg_duration_per_ride      51.6283      8.982      5.748      0.000      33.998      69.258\n",
      "==============================================================================\n",
      "Omnibus:                      356.426   Durbin-Watson:                   1.954\n",
      "Prob(Omnibus):                  0.000   Jarque-Bera (JB):             5338.870\n",
      "Skew:                           1.520   Prob(JB):                         0.00\n",
      "Kurtosis:                      14.993   Cond. No.                     3.05e+03\n",
      "==============================================================================\n",
      "\n",
      "Notes:\n",
      "[1] Standard Errors assume that the covariance matrix of the errors is correctly specified.\n",
      "[2] The condition number is large, 3.05e+03. This might indicate that there are\n",
      "strong multicollinearity or other numerical problems.\n"
     ]
    }
   ],
   "source": [
    "import pandas as pd\n",
    "from sklearn.model_selection import train_test_split\n",
    "from sklearn.linear_model import LinearRegression\n",
    "from sklearn.ensemble import RandomForestRegressor\n",
    "from sklearn.metrics import r2_score, mean_absolute_error, mean_squared_error\n",
    "import statsmodels.api as sm\n",
    "\n",
    "# Assuming drivers is your aggregated dataframe\n",
    "X = drivers[[\n",
    "    'total_rides',\n",
    "    'tenure',\n",
    "    'prime_time_exposure_pct',\n",
    "    'avg_distance_per_ride',\n",
    "    'avg_duration_per_ride'\n",
    "]]\n",
    "# Add constant (intercept term)\n",
    "X = sm.add_constant(X)\n",
    "y = drivers['fare']\n",
    "# Train/test split\n",
    "X_train, X_test, y_train, y_test = train_test_split(\n",
    "    X, y, test_size=0.2, random_state=42\n",
    ")\n",
    "# linear regression\n",
    "linreg = LinearRegression()\n",
    "linreg.fit(X_train, y_train)\n",
    "\n",
    "y_pred_lr = linreg.predict(X_test)\n",
    "\n",
    "print(\"Linear Regression Results\")\n",
    "print(\"R²:\", r2_score(y_test, y_pred_lr))\n",
    "print(\"MAE:\", mean_absolute_error(y_test, y_pred_lr))\n",
    "print(\"RMSE:\", np.sqrt(mean_squared_error(y_test, y_pred_lr)))\n",
    "\n",
    "# Coefficients\n",
    "coeffs = pd.DataFrame({\n",
    "    'Feature': X.columns,\n",
    "    'Coefficient': linreg.coef_\n",
    "}).sort_values(by='Coefficient', key=abs, ascending=False)\n",
    "print(coeffs)\n",
    "\n",
    "model = sm.OLS(y, X).fit()\n",
    "print(model.summary())\n",
    "\n"
   ]
  },
  {
   "cell_type": "code",
   "execution_count": 93,
   "metadata": {},
   "outputs": [
    {
     "name": "stdout",
     "output_type": "stream",
     "text": [
      "\n",
      "Random Forest Results\n",
      "R²: 0.9803057597032502\n",
      "MAE: 194.4547274607544\n",
      "RMSE: 404.4296331063732\n",
      "                   Feature  Importance\n",
      "1              total_rides    0.982815\n",
      "4    avg_distance_per_ride    0.007675\n",
      "5    avg_duration_per_ride    0.004724\n",
      "3  prime_time_exposure_pct    0.003523\n",
      "2                   tenure    0.001263\n",
      "0                    const    0.000000\n"
     ]
    }
   ],
   "source": [
    "rf = RandomForestRegressor(n_estimators=200, random_state=42)\n",
    "rf.fit(X_train, y_train)\n",
    "\n",
    "y_pred_rf = rf.predict(X_test)\n",
    "\n",
    "print(\"\\nRandom Forest Results\")\n",
    "print(\"R²:\", r2_score(y_test, y_pred_rf))\n",
    "print(\"MAE:\", mean_absolute_error(y_test, y_pred_rf))\n",
    "print(\"RMSE:\", np.sqrt(mean_squared_error(y_test, y_pred_rf)))\n",
    "\n",
    "# Feature Importances\n",
    "importances = pd.DataFrame({\n",
    "    'Feature': X.columns,\n",
    "    'Importance': rf.feature_importances_\n",
    "}).sort_values(by='Importance', ascending=False)\n",
    "print(importances)\n"
   ]
  },
  {
   "cell_type": "markdown",
   "metadata": {},
   "source": [
    "Based on both models, total_rides and average distance per ride are the major factors on drivers lifetime value. "
   ]
  },
  {
   "cell_type": "code",
   "execution_count": 94,
   "metadata": {},
   "outputs": [
    {
     "data": {
      "text/plain": [
       "55.10513739545998"
      ]
     },
     "execution_count": 94,
     "metadata": {},
     "output_type": "execute_result"
    }
   ],
   "source": [
    "drivers.tenure.mean()"
   ]
  },
  {
   "cell_type": "markdown",
   "metadata": {},
   "source": [
    "The average projected lifetime value of a driver is around 55 days."
   ]
  },
  {
   "cell_type": "code",
   "execution_count": 95,
   "metadata": {},
   "outputs": [
    {
     "data": {
      "text/plain": [
       "Text(0.5, 1.0, 'Distribution of Driver Lifetime Value(Fare)')"
      ]
     },
     "execution_count": 95,
     "metadata": {},
     "output_type": "execute_result"
    },
    {
     "data": {
      "image/png": "[encoded data removed]",
      "text/plain": [
       "<Figure size 576x360 with 1 Axes>"
      ]
     },
     "metadata": {
      "needs_background": "light"
     },
     "output_type": "display_data"
    }
   ],
   "source": [
    "import matplotlib.pyplot as plt\n",
    "plt.figure(figsize = (8,5))\n",
    "plt.hist(drivers['fare'].dropna(), bins = 30, edgecolor = 'black')\n",
    "plt.xlabel(\"Driver Lifetime Value (Fare in $)\")\n",
    "plt.ylabel(\"Number of Drivers\")\n",
    "plt.title(\"Distribution of Driver Lifetime Value(Fare)\")"
   ]
  },
  {
   "cell_type": "markdown",
   "metadata": {},
   "source": [
    "Since the distribution is bimodal and right skewed, so not all drivers act alike. \n",
    "To find out what segment of dirvers generated more values, let's look at drivers whose fare is higher than the average fare."
   ]
  },
  {
   "cell_type": "code",
   "execution_count": 96,
   "metadata": {},
   "outputs": [
    {
     "data": {
      "text/plain": [
       "count      837.000000\n",
       "mean      3524.002218\n",
       "std       2887.045823\n",
       "min         24.598089\n",
       "25%        705.296798\n",
       "50%       3509.159090\n",
       "75%       5329.497925\n",
       "max      14909.432429\n",
       "Name: fare, dtype: float64"
      ]
     },
     "execution_count": 96,
     "metadata": {},
     "output_type": "execute_result"
    }
   ],
   "source": [
    "drivers.fare.describe()"
   ]
  },
  {
   "cell_type": "code",
   "execution_count": 97,
   "metadata": {},
   "outputs": [],
   "source": [
    "high_value_drivers = drivers[drivers['fare']> 3524] # higher than average drivers"
   ]
  },
  {
   "cell_type": "code",
   "execution_count": 98,
   "metadata": {},
   "outputs": [
    {
     "name": "stdout",
     "output_type": "stream",
     "text": [
      "High-value drivers summary:\n",
      "       total_rides      tenure  prime_time_exposure_pct  \\\n",
      "count   417.000000  417.000000               417.000000   \n",
      "mean    367.040767   65.812950                 0.360876   \n",
      "min     199.000000   27.000000                 0.126394   \n",
      "25%     270.000000   54.000000                 0.307143   \n",
      "50%     331.000000   66.000000                 0.358333   \n",
      "75%     433.000000   78.000000                 0.418919   \n",
      "max     919.000000   90.000000                 0.753623   \n",
      "std     126.955155   14.291893                 0.088780   \n",
      "\n",
      "       avg_distance_per_ride  avg_duration_per_ride  \n",
      "count             417.000000             417.000000  \n",
      "mean                4.348166              14.422119  \n",
      "min                 2.853363              10.765219  \n",
      "25%                 3.677686              13.401667  \n",
      "50%                 4.081946              14.315278  \n",
      "75%                 4.741925              15.243038  \n",
      "max                 9.336545              20.477756  \n",
      "std                 0.979974               1.423915  \n",
      "\n",
      "All drivers summary:\n",
      "       total_rides      tenure  prime_time_exposure_pct  \\\n",
      "count   837.000000  837.000000               837.000000   \n",
      "mean    220.082437   55.105137                 0.327361   \n",
      "min       3.000000    1.000000                 0.000000   \n",
      "25%      44.000000   42.000000                 0.250000   \n",
      "50%     224.000000   57.000000                 0.333333   \n",
      "75%     330.000000   73.000000                 0.402135   \n",
      "max     919.000000   90.000000                 0.753623   \n",
      "std     178.180347   21.726518                 0.116590   \n",
      "\n",
      "       avg_distance_per_ride  avg_duration_per_ride  \n",
      "count             837.000000             837.000000  \n",
      "mean                4.477233              14.325947  \n",
      "min                 2.049494               8.963208  \n",
      "25%                 3.631847              13.152982  \n",
      "50%                 4.143189              14.244817  \n",
      "75%                 5.030436              15.346636  \n",
      "max                16.032609              25.970139  \n",
      "std                 1.305560               1.811331  \n"
     ]
    }
   ],
   "source": [
    "summary_high = high_value_drivers.describe()\n",
    "summary_all = drivers.describe()\n",
    "\n",
    "print(\"High-value drivers summary:\")\n",
    "print(summary_high[['total_rides',\n",
    "    'tenure',\n",
    "    'prime_time_exposure_pct',\n",
    "    'avg_distance_per_ride',\n",
    "    'avg_duration_per_ride']])\n",
    "\n",
    "print(\"\\nAll drivers summary:\")\n",
    "print(summary_all[['total_rides',\n",
    "    'tenure',\n",
    "    'prime_time_exposure_pct',\n",
    "    'avg_distance_per_ride',\n",
    "    'avg_duration_per_ride']])\n"
   ]
  },
  {
   "cell_type": "code",
   "execution_count": 99,
   "metadata": {},
   "outputs": [
    {
     "name": "stdout",
     "output_type": "stream",
     "text": [
      " High value drivers total rides are:  77.7 % higher than average drivers\n",
      " High value drivers avg_distance_per_ride: -2.0 % higher than average drivers\n",
      " High value drivers avg_duration_per_ride: 1.0 % higher than average drivers\n",
      " High value drivers tenure: 20.0 % higher than average drivers\n",
      " High value drivers prime_time_exposure_pct: 12.5 % higher than average drivers\n"
     ]
    }
   ],
   "source": [
    "print(' High value drivers total rides are: ',round(((391 - 220)/220)*100,1),'% higher than average drivers')\n",
    "print(' High value drivers avg_distance_per_ride:', round(((4.38 - 4.47)/4.47)*100, 1), '% higher than average drivers')\n",
    "print(' High value drivers avg_duration_per_ride:', round(((14.47 - 14.32)/14.32)*100,1), '% higher than average drivers')\n",
    "print(' High value drivers tenure:',round(((66-55)/55)*100, 1), '% higher than average drivers')\n",
    "print(' High value drivers prime_time_exposure_pct:', round(((0.36 - 0.32)/0.32)*100,1), '% higher than average drivers')\n"
   ]
  },
  {
   "cell_type": "markdown",
   "metadata": {},
   "source": [
    "Drivers with LTV > 3524 typically have 391 rides, 20% higher tenure, and 12.5% more prime time exposure compared to the average driver."
   ]
  },
  {
   "cell_type": "markdown",
   "metadata": {},
   "source": [
    "recommendations for the business:\n",
    "- provide some incentives for drivers to increase the total rides\n",
    "- provide some incentives for drivers to go to high traffic areas, go to big event areas to improve the prime time exposure\n",
    "- try to retain the talent if drivers are performing well"
   ]
  },
  {
   "cell_type": "markdown",
   "metadata": {},
   "source": []
  }
 ],
 "metadata": {
  "kernelspec": {
   "display_name": "base",
   "language": "python",
   "name": "python3"
  },
  "language_info": {
   "codemirror_mode": {
    "name": "ipython",
    "version": 3
   },
   "file_extension": ".py",
   "mimetype": "text/x-python",
   "name": "python",
   "nbconvert_exporter": "python",
   "pygments_lexer": "ipython3",
   "version": "3.9.12"
  }
 },
 "nbformat": 4,
 "nbformat_minor": 2
}
