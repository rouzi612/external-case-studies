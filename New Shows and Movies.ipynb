{
 "cells": [
  {
   "cell_type": "markdown",
   "metadata": {},
   "source": [
    "# New Shows and Movies"
   ]
  },
  {
   "cell_type": "markdown",
   "metadata": {},
   "source": [
    "## Assignment"
   ]
  },
  {
   "cell_type": "markdown",
   "metadata": {},
   "source": [
    "\n",
    "Analyze the data and generate insights that could help Netflix in deciding which type of shows/movies to produce and how they can grow the business in different countries.\n",
    "\n",
    "You can start by exploring a few questions:\n",
    "\n",
    "- What type of content is available in different countries?\n",
    "- How has the number of movies released per year changed over the last 20-30 years?\n",
    "- Comparison of tv shows vs. movies.\n",
    "- What is the best time to launch a TV show?\n",
    "- Analysis of actors/directors of different types of shows/movies.\n",
    "- Does Netflix has more focus on TV Shows than movies in recent years?\n",
    "- Understanding what content is available in different countries.\n"
   ]
  },
  {
   "cell_type": "code",
   "execution_count": 2,
   "metadata": {},
   "outputs": [],
   "source": [
    "import pandas as pd\n",
    "import numpy as np\n",
    "import matplotlib.pyplot as plt \n",
    "import seaborn as sns\n",
    "from datetime import datetime"
   ]
  },
  {
   "cell_type": "code",
   "execution_count": 3,
   "metadata": {},
   "outputs": [],
   "source": [
    "netflix_data = pd.read_csv('/Users/rosiebai/Desktop/python practice/netflix_data.csv')"
   ]
  },
  {
   "cell_type": "code",
   "execution_count": 4,
   "metadata": {},
   "outputs": [
    {
     "data": {
      "text/html": [
       "<div>\n",
       "<style scoped>\n",
       "    .dataframe tbody tr th:only-of-type {\n",
       "        vertical-align: middle;\n",
       "    }\n",
       "\n",
       "    .dataframe tbody tr th {\n",
       "        vertical-align: top;\n",
       "    }\n",
       "\n",
       "    .dataframe thead th {\n",
       "        text-align: right;\n",
       "    }\n",
       "</style>\n",
       "<table border=\"1\" class=\"dataframe\">\n",
       "  <thead>\n",
       "    <tr style=\"text-align: right;\">\n",
       "      <th></th>\n",
       "      <th>show_id</th>\n",
       "      <th>type</th>\n",
       "      <th>title</th>\n",
       "      <th>director</th>\n",
       "      <th>cast</th>\n",
       "      <th>country</th>\n",
       "      <th>date_added</th>\n",
       "      <th>release_year</th>\n",
       "      <th>rating</th>\n",
       "      <th>duration</th>\n",
       "      <th>listed_in</th>\n",
       "      <th>description</th>\n",
       "    </tr>\n",
       "  </thead>\n",
       "  <tbody>\n",
       "    <tr>\n",
       "      <th>0</th>\n",
       "      <td>s1</td>\n",
       "      <td>Movie</td>\n",
       "      <td>Dick Johnson Is Dead</td>\n",
       "      <td>Kirsten Johnson</td>\n",
       "      <td>NaN</td>\n",
       "      <td>United States</td>\n",
       "      <td>September 25, 2021</td>\n",
       "      <td>2020</td>\n",
       "      <td>PG-13</td>\n",
       "      <td>90 min</td>\n",
       "      <td>Documentaries</td>\n",
       "      <td>As her father nears the end of his life, filmm...</td>\n",
       "    </tr>\n",
       "    <tr>\n",
       "      <th>1</th>\n",
       "      <td>s2</td>\n",
       "      <td>TV Show</td>\n",
       "      <td>Blood &amp; Water</td>\n",
       "      <td>NaN</td>\n",
       "      <td>Ama Qamata, Khosi Ngema, Gail Mabalane, Thaban...</td>\n",
       "      <td>South Africa</td>\n",
       "      <td>September 24, 2021</td>\n",
       "      <td>2021</td>\n",
       "      <td>TV-MA</td>\n",
       "      <td>2 Seasons</td>\n",
       "      <td>International TV Shows, TV Dramas, TV Mysteries</td>\n",
       "      <td>After crossing paths at a party, a Cape Town t...</td>\n",
       "    </tr>\n",
       "    <tr>\n",
       "      <th>2</th>\n",
       "      <td>s3</td>\n",
       "      <td>TV Show</td>\n",
       "      <td>Ganglands</td>\n",
       "      <td>Julien Leclercq</td>\n",
       "      <td>Sami Bouajila, Tracy Gotoas, Samuel Jouy, Nabi...</td>\n",
       "      <td>NaN</td>\n",
       "      <td>September 24, 2021</td>\n",
       "      <td>2021</td>\n",
       "      <td>TV-MA</td>\n",
       "      <td>1 Season</td>\n",
       "      <td>Crime TV Shows, International TV Shows, TV Act...</td>\n",
       "      <td>To protect his family from a powerful drug lor...</td>\n",
       "    </tr>\n",
       "    <tr>\n",
       "      <th>3</th>\n",
       "      <td>s4</td>\n",
       "      <td>TV Show</td>\n",
       "      <td>Jailbirds New Orleans</td>\n",
       "      <td>NaN</td>\n",
       "      <td>NaN</td>\n",
       "      <td>NaN</td>\n",
       "      <td>September 24, 2021</td>\n",
       "      <td>2021</td>\n",
       "      <td>TV-MA</td>\n",
       "      <td>1 Season</td>\n",
       "      <td>Docuseries, Reality TV</td>\n",
       "      <td>Feuds, flirtations and toilet talk go down amo...</td>\n",
       "    </tr>\n",
       "    <tr>\n",
       "      <th>4</th>\n",
       "      <td>s5</td>\n",
       "      <td>TV Show</td>\n",
       "      <td>Kota Factory</td>\n",
       "      <td>NaN</td>\n",
       "      <td>Mayur More, Jitendra Kumar, Ranjan Raj, Alam K...</td>\n",
       "      <td>India</td>\n",
       "      <td>September 24, 2021</td>\n",
       "      <td>2021</td>\n",
       "      <td>TV-MA</td>\n",
       "      <td>2 Seasons</td>\n",
       "      <td>International TV Shows, Romantic TV Shows, TV ...</td>\n",
       "      <td>In a city of coaching centers known to train I...</td>\n",
       "    </tr>\n",
       "  </tbody>\n",
       "</table>\n",
       "</div>"
      ],
      "text/plain": [
       "  show_id     type                  title         director  \\\n",
       "0      s1    Movie   Dick Johnson Is Dead  Kirsten Johnson   \n",
       "1      s2  TV Show          Blood & Water              NaN   \n",
       "2      s3  TV Show              Ganglands  Julien Leclercq   \n",
       "3      s4  TV Show  Jailbirds New Orleans              NaN   \n",
       "4      s5  TV Show           Kota Factory              NaN   \n",
       "\n",
       "                                                cast        country  \\\n",
       "0                                                NaN  United States   \n",
       "1  Ama Qamata, Khosi Ngema, Gail Mabalane, Thaban...   South Africa   \n",
       "2  Sami Bouajila, Tracy Gotoas, Samuel Jouy, Nabi...            NaN   \n",
       "3                                                NaN            NaN   \n",
       "4  Mayur More, Jitendra Kumar, Ranjan Raj, Alam K...          India   \n",
       "\n",
       "           date_added  release_year rating   duration  \\\n",
       "0  September 25, 2021          2020  PG-13     90 min   \n",
       "1  September 24, 2021          2021  TV-MA  2 Seasons   \n",
       "2  September 24, 2021          2021  TV-MA   1 Season   \n",
       "3  September 24, 2021          2021  TV-MA   1 Season   \n",
       "4  September 24, 2021          2021  TV-MA  2 Seasons   \n",
       "\n",
       "                                           listed_in  \\\n",
       "0                                      Documentaries   \n",
       "1    International TV Shows, TV Dramas, TV Mysteries   \n",
       "2  Crime TV Shows, International TV Shows, TV Act...   \n",
       "3                             Docuseries, Reality TV   \n",
       "4  International TV Shows, Romantic TV Shows, TV ...   \n",
       "\n",
       "                                         description  \n",
       "0  As her father nears the end of his life, filmm...  \n",
       "1  After crossing paths at a party, a Cape Town t...  \n",
       "2  To protect his family from a powerful drug lor...  \n",
       "3  Feuds, flirtations and toilet talk go down amo...  \n",
       "4  In a city of coaching centers known to train I...  "
      ]
     },
     "execution_count": 4,
     "metadata": {},
     "output_type": "execute_result"
    }
   ],
   "source": [
    "netflix_data.head()"
   ]
  },
  {
   "cell_type": "code",
   "execution_count": 5,
   "metadata": {},
   "outputs": [
    {
     "data": {
      "text/plain": [
       "(8807, 12)"
      ]
     },
     "execution_count": 5,
     "metadata": {},
     "output_type": "execute_result"
    }
   ],
   "source": [
    "netflix_data.shape"
   ]
  },
  {
   "cell_type": "code",
   "execution_count": 6,
   "metadata": {},
   "outputs": [
    {
     "data": {
      "text/plain": [
       "show_id            0\n",
       "type               0\n",
       "title              0\n",
       "director        2634\n",
       "cast             825\n",
       "country          831\n",
       "date_added        10\n",
       "release_year       0\n",
       "rating             4\n",
       "duration           3\n",
       "listed_in          0\n",
       "description        0\n",
       "dtype: int64"
      ]
     },
     "execution_count": 6,
     "metadata": {},
     "output_type": "execute_result"
    }
   ],
   "source": [
    "netflix_data.isna().sum()"
   ]
  },
  {
   "cell_type": "code",
   "execution_count": 7,
   "metadata": {},
   "outputs": [
    {
     "data": {
      "text/plain": [
       "show_id         object\n",
       "type            object\n",
       "title           object\n",
       "director        object\n",
       "cast            object\n",
       "country         object\n",
       "date_added      object\n",
       "release_year     int64\n",
       "rating          object\n",
       "duration        object\n",
       "listed_in       object\n",
       "description     object\n",
       "dtype: object"
      ]
     },
     "execution_count": 7,
     "metadata": {},
     "output_type": "execute_result"
    }
   ],
   "source": [
    "netflix_data.dtypes"
   ]
  },
  {
   "cell_type": "markdown",
   "metadata": {},
   "source": [
    "## 1. What type of content is available in different countries?\n"
   ]
  },
  {
   "cell_type": "code",
   "execution_count": 8,
   "metadata": {},
   "outputs": [
    {
     "data": {
      "text/html": [
       "<div>\n",
       "<style scoped>\n",
       "    .dataframe tbody tr th:only-of-type {\n",
       "        vertical-align: middle;\n",
       "    }\n",
       "\n",
       "    .dataframe tbody tr th {\n",
       "        vertical-align: top;\n",
       "    }\n",
       "\n",
       "    .dataframe thead th {\n",
       "        text-align: right;\n",
       "    }\n",
       "</style>\n",
       "<table border=\"1\" class=\"dataframe\">\n",
       "  <thead>\n",
       "    <tr style=\"text-align: right;\">\n",
       "      <th></th>\n",
       "      <th>country</th>\n",
       "      <th>type</th>\n",
       "      <th>num_show_id</th>\n",
       "    </tr>\n",
       "  </thead>\n",
       "  <tbody>\n",
       "    <tr>\n",
       "      <th>683</th>\n",
       "      <td>United States</td>\n",
       "      <td>Movie</td>\n",
       "      <td>2058</td>\n",
       "    </tr>\n",
       "    <tr>\n",
       "      <th>282</th>\n",
       "      <td>India</td>\n",
       "      <td>Movie</td>\n",
       "      <td>893</td>\n",
       "    </tr>\n",
       "    <tr>\n",
       "      <th>684</th>\n",
       "      <td>United States</td>\n",
       "      <td>TV Show</td>\n",
       "      <td>760</td>\n",
       "    </tr>\n",
       "    <tr>\n",
       "      <th>579</th>\n",
       "      <td>United Kingdom</td>\n",
       "      <td>TV Show</td>\n",
       "      <td>213</td>\n",
       "    </tr>\n",
       "    <tr>\n",
       "      <th>578</th>\n",
       "      <td>United Kingdom</td>\n",
       "      <td>Movie</td>\n",
       "      <td>206</td>\n",
       "    </tr>\n",
       "    <tr>\n",
       "      <th>360</th>\n",
       "      <td>Japan</td>\n",
       "      <td>TV Show</td>\n",
       "      <td>169</td>\n",
       "    </tr>\n",
       "    <tr>\n",
       "      <th>497</th>\n",
       "      <td>South Korea</td>\n",
       "      <td>TV Show</td>\n",
       "      <td>159</td>\n",
       "    </tr>\n",
       "    <tr>\n",
       "      <th>65</th>\n",
       "      <td>Canada</td>\n",
       "      <td>Movie</td>\n",
       "      <td>122</td>\n",
       "    </tr>\n",
       "    <tr>\n",
       "      <th>507</th>\n",
       "      <td>Spain</td>\n",
       "      <td>Movie</td>\n",
       "      <td>97</td>\n",
       "    </tr>\n",
       "    <tr>\n",
       "      <th>169</th>\n",
       "      <td>Egypt</td>\n",
       "      <td>Movie</td>\n",
       "      <td>92</td>\n",
       "    </tr>\n",
       "    <tr>\n",
       "      <th>418</th>\n",
       "      <td>Nigeria</td>\n",
       "      <td>Movie</td>\n",
       "      <td>86</td>\n",
       "    </tr>\n",
       "    <tr>\n",
       "      <th>283</th>\n",
       "      <td>India</td>\n",
       "      <td>TV Show</td>\n",
       "      <td>79</td>\n",
       "    </tr>\n",
       "    <tr>\n",
       "      <th>305</th>\n",
       "      <td>Indonesia</td>\n",
       "      <td>Movie</td>\n",
       "      <td>77</td>\n",
       "    </tr>\n",
       "    <tr>\n",
       "      <th>359</th>\n",
       "      <td>Japan</td>\n",
       "      <td>Movie</td>\n",
       "      <td>76</td>\n",
       "    </tr>\n",
       "    <tr>\n",
       "      <th>562</th>\n",
       "      <td>Turkey</td>\n",
       "      <td>Movie</td>\n",
       "      <td>76</td>\n",
       "    </tr>\n",
       "    <tr>\n",
       "      <th>182</th>\n",
       "      <td>France</td>\n",
       "      <td>Movie</td>\n",
       "      <td>75</td>\n",
       "    </tr>\n",
       "    <tr>\n",
       "      <th>441</th>\n",
       "      <td>Philippines</td>\n",
       "      <td>Movie</td>\n",
       "      <td>73</td>\n",
       "    </tr>\n",
       "    <tr>\n",
       "      <th>387</th>\n",
       "      <td>Mexico</td>\n",
       "      <td>Movie</td>\n",
       "      <td>70</td>\n",
       "    </tr>\n",
       "    <tr>\n",
       "      <th>552</th>\n",
       "      <td>Taiwan</td>\n",
       "      <td>TV Show</td>\n",
       "      <td>68</td>\n",
       "    </tr>\n",
       "    <tr>\n",
       "      <th>667</th>\n",
       "      <td>United Kingdom, United States</td>\n",
       "      <td>Movie</td>\n",
       "      <td>63</td>\n",
       "    </tr>\n",
       "  </tbody>\n",
       "</table>\n",
       "</div>"
      ],
      "text/plain": [
       "                           country     type  num_show_id\n",
       "683                  United States    Movie         2058\n",
       "282                          India    Movie          893\n",
       "684                  United States  TV Show          760\n",
       "579                 United Kingdom  TV Show          213\n",
       "578                 United Kingdom    Movie          206\n",
       "360                          Japan  TV Show          169\n",
       "497                    South Korea  TV Show          159\n",
       "65                          Canada    Movie          122\n",
       "507                          Spain    Movie           97\n",
       "169                          Egypt    Movie           92\n",
       "418                        Nigeria    Movie           86\n",
       "283                          India  TV Show           79\n",
       "305                      Indonesia    Movie           77\n",
       "359                          Japan    Movie           76\n",
       "562                         Turkey    Movie           76\n",
       "182                         France    Movie           75\n",
       "441                    Philippines    Movie           73\n",
       "387                         Mexico    Movie           70\n",
       "552                         Taiwan  TV Show           68\n",
       "667  United Kingdom, United States    Movie           63"
      ]
     },
     "execution_count": 8,
     "metadata": {},
     "output_type": "execute_result"
    }
   ],
   "source": [
    "netflix_data['country'] = netflix_data['country'].str.lstrip(',').str.strip()\n",
    "pivot_table1 = netflix_data.groupby(['country','type']).show_id.count()\\\n",
    "    .reset_index(name = 'num_show_id')\\\n",
    "    .sort_values(by = 'num_show_id', ascending = False)\n",
    "pivot_table1.head(20)"
   ]
  },
  {
   "cell_type": "markdown",
   "metadata": {},
   "source": [
    "This table shows that the top 20 countries in terms of the number of content available. "
   ]
  },
  {
   "cell_type": "code",
   "execution_count": 207,
   "metadata": {},
   "outputs": [
    {
     "data": {
      "image/png": "[encoded data removed]",
      "text/plain": [
       "<Figure size 720x432 with 1 Axes>"
      ]
     },
     "metadata": {
      "needs_background": "light"
     },
     "output_type": "display_data"
    }
   ],
   "source": [
    "top_countries = netflix_data['country'].value_counts().head(10)\n",
    "plt.figure(figsize=(10,6))\n",
    "top_countries.plot(kind = 'bar', color = 'pink')\n",
    "plt.title('Top 10 Countries with Most Netflix Content')\n",
    "plt.ylabel('Number of Titles')\n",
    "plt.xticks(rotation = 45)\n",
    "plt.grid(axis = 'y', linestyle = '--', alpha = 0.7)\n",
    "plt.tight_layout()\n",
    "plt.show()"
   ]
  },
  {
   "cell_type": "markdown",
   "metadata": {},
   "source": [
    "## 2. How has the number of movies released per year changed over the last 20-30 years?"
   ]
  },
  {
   "cell_type": "code",
   "execution_count": 212,
   "metadata": {},
   "outputs": [],
   "source": [
    "pivot_table2 = netflix_data.groupby('release_year')\\\n",
    "    .show_id.count()\\\n",
    "    .reset_index(name = 'num_show_id')\\\n",
    "    .sort_values(by = 'release_year')\n",
    "pivot_table2 = pivot_table2[pivot_table2['release_year']> 1990]"
   ]
  },
  {
   "cell_type": "code",
   "execution_count": 213,
   "metadata": {},
   "outputs": [
    {
     "data": {
      "image/png": "[encoded data removed]",
      "text/plain": [
       "<Figure size 720x360 with 1 Axes>"
      ]
     },
     "metadata": {
      "needs_background": "light"
     },
     "output_type": "display_data"
    }
   ],
   "source": [
    "release_year = pivot_table2['release_year'].to_numpy()\n",
    "num_show_id = pivot_table2['num_show_id'].to_numpy()\n",
    "\n",
    "plt.figure(figsize=(10, 5))\n",
    "plt.plot(release_year, num_show_id, marker='o')\n",
    "plt.title('Number of Shows Released Over Time')\n",
    "plt.xlabel('Release Year')\n",
    "plt.ylabel('Number of Shows')\n",
    "plt.grid(True)\n",
    "plt.tight_layout()\n",
    "plt.show()\n"
   ]
  },
  {
   "cell_type": "code",
   "execution_count": 187,
   "metadata": {},
   "outputs": [
    {
     "name": "stdout",
     "output_type": "stream",
     "text": [
      "the number of shows released over the past 30 years has increased 2590.91 %\n",
      "the number of shows released over the past 20 years has increased 1500.0 %\n"
     ]
    }
   ],
   "source": [
    "# from 1990 ~ 2021, the percentage of change in the last 30 years\n",
    "pct_change_in_last_30yr = round((pivot_table2[pivot_table2['release_year']== 2021]['num_show_id'].values[0] -\n",
    "                            pivot_table2[pivot_table2['release_year']== 1990]['num_show_id'].values[0])/(pivot_table2[pivot_table2['release_year']== 1990]['num_show_id'].values[0]) * 100.0,2)\n",
    "print('the number of shows released over the past 30 years has increased',pct_change_in_last_30yr, '%')\n",
    "# from 2000 ~ 2021\n",
    "pct_change_in_last_20yr = round((pivot_table2[pivot_table2['release_year']== 2021]['num_show_id'].values[0] -\n",
    "                            pivot_table2[pivot_table2['release_year']== 2000]['num_show_id'].values[0])/(pivot_table2[pivot_table2['release_year']== 2000]['num_show_id'].values[0]) * 100.0,2)\n",
    "print('the number of shows released over the past 20 years has increased',pct_change_in_last_20yr, '%')"
   ]
  },
  {
   "cell_type": "markdown",
   "metadata": {},
   "source": [
    "## 3. Comparison of tv shows vs. movies."
   ]
  },
  {
   "cell_type": "code",
   "execution_count": 214,
   "metadata": {},
   "outputs": [],
   "source": [
    "pivot_table3 = netflix_data.groupby(['release_year','type'])\\\n",
    "    .show_id.count()\\\n",
    "    .reset_index(name = 'num_show_id')\\\n",
    "    .sort_values(by = 'release_year')\n",
    "pivot_table3 = pivot_table3[pivot_table3['release_year']> 1990]"
   ]
  },
  {
   "cell_type": "code",
   "execution_count": 215,
   "metadata": {},
   "outputs": [
    {
     "data": {
      "image/png": "[encoded data removed]",
      "text/plain": [
       "<Figure size 864x432 with 1 Axes>"
      ]
     },
     "metadata": {
      "needs_background": "light"
     },
     "output_type": "display_data"
    }
   ],
   "source": [
    "# Step 1: Pivot the data so 'type' becomes column headers\n",
    "pivot_df = pivot_table3.pivot(index='release_year', columns='type', values='num_show_id')\n",
    "pivot_df = pivot_df.sort_index()  # Sort years in ascending order\n",
    "\n",
    "# Step 2: Plot the time series\n",
    "pivot_df.plot(\n",
    "    kind='line',\n",
    "    figsize=(12, 6),\n",
    "    marker='o',\n",
    "    color={'Movie': 'darkorange', 'TV Show': 'steelblue'}\n",
    ")\n",
    "\n",
    "# Step 3: Format the plot\n",
    "plt.title('Number of Netflix Shows Released Over Time by Type')\n",
    "plt.xlabel('Release Year')\n",
    "plt.ylabel('Number of Shows')\n",
    "plt.grid(True)\n",
    "plt.legend(title='Show Type')\n",
    "plt.xticks(rotation=45)\n",
    "plt.tight_layout()\n",
    "plt.show()"
   ]
  },
  {
   "cell_type": "markdown",
   "metadata": {},
   "source": [
    "## 4. What is the best time to launch a TV show?\n"
   ]
  },
  {
   "cell_type": "code",
   "execution_count": 190,
   "metadata": {},
   "outputs": [],
   "source": [
    "\n",
    "netflix_data['date_added'] = netflix_data['date_added'].str.strip()\n",
    "netflix_data['date_added'] = pd.to_datetime(netflix_data['date_added'], format = '%B %d, %Y').dt.strftime('%Y-%m-%d')"
   ]
  },
  {
   "cell_type": "code",
   "execution_count": 191,
   "metadata": {},
   "outputs": [],
   "source": [
    "netflix_data['date_added'] = pd.to_datetime(netflix_data['date_added'])\n",
    "netflix_data['release_month'] = netflix_data['date_added'].dt.month"
   ]
  },
  {
   "cell_type": "code",
   "execution_count": 192,
   "metadata": {},
   "outputs": [],
   "source": [
    "tv_per_month = netflix_data[netflix_data['type'] == 'TV Show'].groupby('release_month').show_id.count().reset_index(name = 'num_show_id').sort_values(by = 'release_month')"
   ]
  },
  {
   "cell_type": "code",
   "execution_count": 220,
   "metadata": {},
   "outputs": [
    {
     "data": {
      "image/png": "[encoded data removed]",
      "text/plain": [
       "<Figure size 720x432 with 1 Axes>"
      ]
     },
     "metadata": {
      "needs_background": "light"
     },
     "output_type": "display_data"
    }
   ],
   "source": [
    "release_month = tv_per_month['release_month'].to_numpy()\n",
    "num_show_id = tv_per_month['num_show_id'].to_numpy()\n",
    "\n",
    "plt.figure(figsize=(10, 6))\n",
    "plt.bar(release_month, num_show_id, color = 'skyblue')\n",
    "plt.title('Number of TV Shows Released per Month')\n",
    "plt.xlabel('Release Month')\n",
    "plt.ylabel('Number of Shows')\n",
    "plt.grid(axis = 'y', linestyle = '--', alpha = 0.6)\n",
    "plt.xticks(ticks = np.arange(1,13))\n",
    "plt.tight_layout()\n",
    "plt.show()"
   ]
  },
  {
   "cell_type": "markdown",
   "metadata": {},
   "source": [
    "December turned out to be the best month to release TV shows and then July."
   ]
  },
  {
   "cell_type": "markdown",
   "metadata": {},
   "source": [
    "## 5. Analysis of actors/directors of different types of shows/movies."
   ]
  },
  {
   "cell_type": "code",
   "execution_count": 224,
   "metadata": {},
   "outputs": [],
   "source": [
    "# Data normalization\n",
    "netflix_data['cast'] = netflix_data['cast'].fillna('')\n",
    "netflix_data['cast'] = netflix_data['cast'].apply(lambda x: [name.strip() for name in x.split(',')] if x else [])\n",
    "df_exploded = netflix_data.explode('cast')"
   ]
  },
  {
   "cell_type": "code",
   "execution_count": 227,
   "metadata": {},
   "outputs": [],
   "source": [
    "df_exploded['listed_in'] = df_exploded['listed_in'].fillna('')\n",
    "df_exploded['listed_in'] = df_exploded['listed_in'].apply(lambda x: [name.strip() for name in x.split(',')] if x else [])\n",
    "df_exploded = df_exploded.explode('listed_in')"
   ]
  },
  {
   "cell_type": "code",
   "execution_count": 253,
   "metadata": {},
   "outputs": [],
   "source": [
    "df_exploded['country'] = df_exploded['country'].fillna('')\n",
    "df_exploded['country'] = df_exploded['country'].apply(lambda x: [name.strip() for name in x.split(',')] if x else [])\n",
    "df_exploded = df_exploded.explode('country')"
   ]
  },
  {
   "cell_type": "code",
   "execution_count": 254,
   "metadata": {},
   "outputs": [
    {
     "data": {
      "text/plain": [
       "(186367, 13)"
      ]
     },
     "execution_count": 254,
     "metadata": {},
     "output_type": "execute_result"
    }
   ],
   "source": [
    "df_exploded.shape"
   ]
  },
  {
   "cell_type": "markdown",
   "metadata": {},
   "source": [
    "### Top actors by genre"
   ]
  },
  {
   "cell_type": "code",
   "execution_count": 237,
   "metadata": {},
   "outputs": [
    {
     "data": {
      "text/html": [
       "<div>\n",
       "<style scoped>\n",
       "    .dataframe tbody tr th:only-of-type {\n",
       "        vertical-align: middle;\n",
       "    }\n",
       "\n",
       "    .dataframe tbody tr th {\n",
       "        vertical-align: top;\n",
       "    }\n",
       "\n",
       "    .dataframe thead th {\n",
       "        text-align: right;\n",
       "    }\n",
       "</style>\n",
       "<table border=\"1\" class=\"dataframe\">\n",
       "  <thead>\n",
       "    <tr style=\"text-align: right;\">\n",
       "      <th></th>\n",
       "      <th>listed_in</th>\n",
       "      <th>cast</th>\n",
       "      <th>count</th>\n",
       "    </tr>\n",
       "  </thead>\n",
       "  <tbody>\n",
       "    <tr>\n",
       "      <th>684</th>\n",
       "      <td>Action &amp; Adventure</td>\n",
       "      <td>Bruce Willis</td>\n",
       "      <td>13</td>\n",
       "    </tr>\n",
       "    <tr>\n",
       "      <th>239</th>\n",
       "      <td>Action &amp; Adventure</td>\n",
       "      <td>Amitabh Bachchan</td>\n",
       "      <td>12</td>\n",
       "    </tr>\n",
       "    <tr>\n",
       "      <th>402</th>\n",
       "      <td>Action &amp; Adventure</td>\n",
       "      <td>Anupam Kher</td>\n",
       "      <td>12</td>\n",
       "    </tr>\n",
       "    <tr>\n",
       "      <th>4736</th>\n",
       "      <td>Action &amp; Adventure</td>\n",
       "      <td>Shah Rukh Khan</td>\n",
       "      <td>11</td>\n",
       "    </tr>\n",
       "    <tr>\n",
       "      <th>1337</th>\n",
       "      <td>Action &amp; Adventure</td>\n",
       "      <td>Donnie Yen</td>\n",
       "      <td>10</td>\n",
       "    </tr>\n",
       "    <tr>\n",
       "      <th>2062</th>\n",
       "      <td>Action &amp; Adventure</td>\n",
       "      <td>Jackie Chan</td>\n",
       "      <td>10</td>\n",
       "    </tr>\n",
       "    <tr>\n",
       "      <th>2064</th>\n",
       "      <td>Action &amp; Adventure</td>\n",
       "      <td>Jackie Shroff</td>\n",
       "      <td>10</td>\n",
       "    </tr>\n",
       "    <tr>\n",
       "      <th>3811</th>\n",
       "      <td>Action &amp; Adventure</td>\n",
       "      <td>Nicolas Cage</td>\n",
       "      <td>10</td>\n",
       "    </tr>\n",
       "    <tr>\n",
       "      <th>4612</th>\n",
       "      <td>Action &amp; Adventure</td>\n",
       "      <td>Samuel L. Jackson</td>\n",
       "      <td>10</td>\n",
       "    </tr>\n",
       "    <tr>\n",
       "      <th>616</th>\n",
       "      <td>Action &amp; Adventure</td>\n",
       "      <td>Boman Irani</td>\n",
       "      <td>9</td>\n",
       "    </tr>\n",
       "  </tbody>\n",
       "</table>\n",
       "</div>"
      ],
      "text/plain": [
       "               listed_in               cast  count\n",
       "684   Action & Adventure       Bruce Willis     13\n",
       "239   Action & Adventure   Amitabh Bachchan     12\n",
       "402   Action & Adventure        Anupam Kher     12\n",
       "4736  Action & Adventure     Shah Rukh Khan     11\n",
       "1337  Action & Adventure         Donnie Yen     10\n",
       "2062  Action & Adventure        Jackie Chan     10\n",
       "2064  Action & Adventure      Jackie Shroff     10\n",
       "3811  Action & Adventure       Nicolas Cage     10\n",
       "4612  Action & Adventure  Samuel L. Jackson     10\n",
       "616   Action & Adventure        Boman Irani      9"
      ]
     },
     "execution_count": 237,
     "metadata": {},
     "output_type": "execute_result"
    }
   ],
   "source": [
    "top_actors = df_exploded.groupby(['listed_in','cast'])\\\n",
    ".size()\\\n",
    ".reset_index(name = 'count')\\\n",
    ".sort_values(['listed_in','count'], ascending = [True, False])\n",
    "top_actors.head(10)"
   ]
  },
  {
   "cell_type": "code",
   "execution_count": 248,
   "metadata": {},
   "outputs": [
    {
     "data": {
      "text/plain": [
       "listed_in\n",
       "Dramas                      20778\n",
       "International Movies        20669\n",
       "Comedies                    15197\n",
       "International TV Shows      11319\n",
       "Action & Adventure           8060\n",
       "TV Dramas                    7473\n",
       "Independent Movies           6300\n",
       "Children & Family Movies     5634\n",
       "Romantic Movies              5221\n",
       "Thrillers                    4821\n",
       "Name: count, dtype: int64"
      ]
     },
     "execution_count": 248,
     "metadata": {},
     "output_type": "execute_result"
    }
   ],
   "source": [
    "df_exploded.listed_in.value_counts().head(10)"
   ]
  },
  {
   "cell_type": "code",
   "execution_count": 250,
   "metadata": {},
   "outputs": [
    {
     "data": {
      "text/html": [
       "<div>\n",
       "<style scoped>\n",
       "    .dataframe tbody tr th:only-of-type {\n",
       "        vertical-align: middle;\n",
       "    }\n",
       "\n",
       "    .dataframe tbody tr th {\n",
       "        vertical-align: top;\n",
       "    }\n",
       "\n",
       "    .dataframe thead th {\n",
       "        text-align: right;\n",
       "    }\n",
       "</style>\n",
       "<table border=\"1\" class=\"dataframe\">\n",
       "  <thead>\n",
       "    <tr style=\"text-align: right;\">\n",
       "      <th></th>\n",
       "      <th>listed_in</th>\n",
       "      <th>cast</th>\n",
       "      <th>count</th>\n",
       "    </tr>\n",
       "  </thead>\n",
       "  <tbody>\n",
       "    <tr>\n",
       "      <th>30523</th>\n",
       "      <td>Dramas</td>\n",
       "      <td>Anupam Kher</td>\n",
       "      <td>28</td>\n",
       "    </tr>\n",
       "    <tr>\n",
       "      <th>38579</th>\n",
       "      <td>Dramas</td>\n",
       "      <td>Naseeruddin Shah</td>\n",
       "      <td>28</td>\n",
       "    </tr>\n",
       "    <tr>\n",
       "      <th>41154</th>\n",
       "      <td>Dramas</td>\n",
       "      <td>Shah Rukh Khan</td>\n",
       "      <td>28</td>\n",
       "    </tr>\n",
       "    <tr>\n",
       "      <th>30050</th>\n",
       "      <td>Dramas</td>\n",
       "      <td>Amitabh Bachchan</td>\n",
       "      <td>20</td>\n",
       "    </tr>\n",
       "    <tr>\n",
       "      <th>39079</th>\n",
       "      <td>Dramas</td>\n",
       "      <td>Om Puri</td>\n",
       "      <td>20</td>\n",
       "    </tr>\n",
       "    <tr>\n",
       "      <th>38666</th>\n",
       "      <td>Dramas</td>\n",
       "      <td>Nawazuddin Siddiqui</td>\n",
       "      <td>18</td>\n",
       "    </tr>\n",
       "    <tr>\n",
       "      <th>39237</th>\n",
       "      <td>Dramas</td>\n",
       "      <td>Paresh Rawal</td>\n",
       "      <td>18</td>\n",
       "    </tr>\n",
       "    <tr>\n",
       "      <th>36102</th>\n",
       "      <td>Dramas</td>\n",
       "      <td>Kay Kay Menon</td>\n",
       "      <td>17</td>\n",
       "    </tr>\n",
       "    <tr>\n",
       "      <th>29685</th>\n",
       "      <td>Dramas</td>\n",
       "      <td>Akshay Kumar</td>\n",
       "      <td>16</td>\n",
       "    </tr>\n",
       "    <tr>\n",
       "      <th>34001</th>\n",
       "      <td>Dramas</td>\n",
       "      <td>Gulshan Grover</td>\n",
       "      <td>15</td>\n",
       "    </tr>\n",
       "  </tbody>\n",
       "</table>\n",
       "</div>"
      ],
      "text/plain": [
       "      listed_in                 cast  count\n",
       "30523    Dramas          Anupam Kher     28\n",
       "38579    Dramas     Naseeruddin Shah     28\n",
       "41154    Dramas       Shah Rukh Khan     28\n",
       "30050    Dramas     Amitabh Bachchan     20\n",
       "39079    Dramas              Om Puri     20\n",
       "38666    Dramas  Nawazuddin Siddiqui     18\n",
       "39237    Dramas         Paresh Rawal     18\n",
       "36102    Dramas        Kay Kay Menon     17\n",
       "29685    Dramas         Akshay Kumar     16\n",
       "34001    Dramas       Gulshan Grover     15"
      ]
     },
     "execution_count": 250,
     "metadata": {},
     "output_type": "execute_result"
    }
   ],
   "source": [
    "top_actors[top_actors['listed_in']== 'Dramas'].head(10)"
   ]
  },
  {
   "cell_type": "markdown",
   "metadata": {},
   "source": [
    "### Top directors by genre"
   ]
  },
  {
   "cell_type": "code",
   "execution_count": 238,
   "metadata": {},
   "outputs": [
    {
     "data": {
      "text/html": [
       "<div>\n",
       "<style scoped>\n",
       "    .dataframe tbody tr th:only-of-type {\n",
       "        vertical-align: middle;\n",
       "    }\n",
       "\n",
       "    .dataframe tbody tr th {\n",
       "        vertical-align: top;\n",
       "    }\n",
       "\n",
       "    .dataframe thead th {\n",
       "        text-align: right;\n",
       "    }\n",
       "</style>\n",
       "<table border=\"1\" class=\"dataframe\">\n",
       "  <thead>\n",
       "    <tr style=\"text-align: right;\">\n",
       "      <th></th>\n",
       "      <th>listed_in</th>\n",
       "      <th>director</th>\n",
       "      <th>count</th>\n",
       "    </tr>\n",
       "  </thead>\n",
       "  <tbody>\n",
       "    <tr>\n",
       "      <th>136</th>\n",
       "      <td>Action &amp; Adventure</td>\n",
       "      <td>Don Michael Paul</td>\n",
       "      <td>79</td>\n",
       "    </tr>\n",
       "    <tr>\n",
       "      <th>364</th>\n",
       "      <td>Action &amp; Adventure</td>\n",
       "      <td>McG</td>\n",
       "      <td>68</td>\n",
       "    </tr>\n",
       "    <tr>\n",
       "      <th>606</th>\n",
       "      <td>Action &amp; Adventure</td>\n",
       "      <td>Toshiya Shinohara</td>\n",
       "      <td>68</td>\n",
       "    </tr>\n",
       "    <tr>\n",
       "      <th>456</th>\n",
       "      <td>Action &amp; Adventure</td>\n",
       "      <td>Quentin Tarantino</td>\n",
       "      <td>61</td>\n",
       "    </tr>\n",
       "    <tr>\n",
       "      <th>194</th>\n",
       "      <td>Action &amp; Adventure</td>\n",
       "      <td>Hidenori Inoue</td>\n",
       "      <td>59</td>\n",
       "    </tr>\n",
       "    <tr>\n",
       "      <th>507</th>\n",
       "      <td>Action &amp; Adventure</td>\n",
       "      <td>S.S. Rajamouli</td>\n",
       "      <td>56</td>\n",
       "    </tr>\n",
       "    <tr>\n",
       "      <th>354</th>\n",
       "      <td>Action &amp; Adventure</td>\n",
       "      <td>Martin Campbell</td>\n",
       "      <td>53</td>\n",
       "    </tr>\n",
       "    <tr>\n",
       "      <th>629</th>\n",
       "      <td>Action &amp; Adventure</td>\n",
       "      <td>Wilson Yip</td>\n",
       "      <td>50</td>\n",
       "    </tr>\n",
       "    <tr>\n",
       "      <th>562</th>\n",
       "      <td>Action &amp; Adventure</td>\n",
       "      <td>Steven Spielberg</td>\n",
       "      <td>48</td>\n",
       "    </tr>\n",
       "    <tr>\n",
       "      <th>355</th>\n",
       "      <td>Action &amp; Adventure</td>\n",
       "      <td>Masahiko Murata</td>\n",
       "      <td>47</td>\n",
       "    </tr>\n",
       "  </tbody>\n",
       "</table>\n",
       "</div>"
      ],
      "text/plain": [
       "              listed_in           director  count\n",
       "136  Action & Adventure   Don Michael Paul     79\n",
       "364  Action & Adventure                McG     68\n",
       "606  Action & Adventure  Toshiya Shinohara     68\n",
       "456  Action & Adventure  Quentin Tarantino     61\n",
       "194  Action & Adventure     Hidenori Inoue     59\n",
       "507  Action & Adventure     S.S. Rajamouli     56\n",
       "354  Action & Adventure    Martin Campbell     53\n",
       "629  Action & Adventure         Wilson Yip     50\n",
       "562  Action & Adventure   Steven Spielberg     48\n",
       "355  Action & Adventure    Masahiko Murata     47"
      ]
     },
     "execution_count": 238,
     "metadata": {},
     "output_type": "execute_result"
    }
   ],
   "source": [
    "top_directors = df_exploded.groupby(['listed_in','director'])\\\n",
    ".size()\\\n",
    ".reset_index(name = 'count')\\\n",
    ".sort_values(['listed_in','count'], ascending = [True, False])\n",
    "top_directors.head(10)"
   ]
  },
  {
   "cell_type": "code",
   "execution_count": 252,
   "metadata": {},
   "outputs": [
    {
     "data": {
      "text/html": [
       "<div>\n",
       "<style scoped>\n",
       "    .dataframe tbody tr th:only-of-type {\n",
       "        vertical-align: middle;\n",
       "    }\n",
       "\n",
       "    .dataframe tbody tr th {\n",
       "        vertical-align: top;\n",
       "    }\n",
       "\n",
       "    .dataframe thead th {\n",
       "        text-align: right;\n",
       "    }\n",
       "</style>\n",
       "<table border=\"1\" class=\"dataframe\">\n",
       "  <thead>\n",
       "    <tr style=\"text-align: right;\">\n",
       "      <th></th>\n",
       "      <th>listed_in</th>\n",
       "      <th>director</th>\n",
       "      <th>count</th>\n",
       "    </tr>\n",
       "  </thead>\n",
       "  <tbody>\n",
       "    <tr>\n",
       "      <th>6786</th>\n",
       "      <td>International Movies</td>\n",
       "      <td>Cathy Garcia-Molina</td>\n",
       "      <td>125</td>\n",
       "    </tr>\n",
       "    <tr>\n",
       "      <th>7439</th>\n",
       "      <td>International Movies</td>\n",
       "      <td>Kunle Afolayan</td>\n",
       "      <td>87</td>\n",
       "    </tr>\n",
       "    <tr>\n",
       "      <th>8474</th>\n",
       "      <td>International Movies</td>\n",
       "      <td>Youssef Chahine</td>\n",
       "      <td>86</td>\n",
       "    </tr>\n",
       "    <tr>\n",
       "      <th>8484</th>\n",
       "      <td>International Movies</td>\n",
       "      <td>Yılmaz Erdoğan</td>\n",
       "      <td>75</td>\n",
       "    </tr>\n",
       "    <tr>\n",
       "      <th>6894</th>\n",
       "      <td>International Movies</td>\n",
       "      <td>David Dhawan</td>\n",
       "      <td>72</td>\n",
       "    </tr>\n",
       "    <tr>\n",
       "      <th>8349</th>\n",
       "      <td>International Movies</td>\n",
       "      <td>Toshiya Shinohara</td>\n",
       "      <td>68</td>\n",
       "    </tr>\n",
       "    <tr>\n",
       "      <th>7022</th>\n",
       "      <td>International Movies</td>\n",
       "      <td>Fernando Ayllón</td>\n",
       "      <td>61</td>\n",
       "    </tr>\n",
       "    <tr>\n",
       "      <th>7128</th>\n",
       "      <td>International Movies</td>\n",
       "      <td>Hakan Algül</td>\n",
       "      <td>60</td>\n",
       "    </tr>\n",
       "    <tr>\n",
       "      <th>8207</th>\n",
       "      <td>International Movies</td>\n",
       "      <td>Sooraj R. Barjatya</td>\n",
       "      <td>60</td>\n",
       "    </tr>\n",
       "    <tr>\n",
       "      <th>7173</th>\n",
       "      <td>International Movies</td>\n",
       "      <td>Hidenori Inoue</td>\n",
       "      <td>59</td>\n",
       "    </tr>\n",
       "  </tbody>\n",
       "</table>\n",
       "</div>"
      ],
      "text/plain": [
       "                 listed_in             director  count\n",
       "6786  International Movies  Cathy Garcia-Molina    125\n",
       "7439  International Movies       Kunle Afolayan     87\n",
       "8474  International Movies      Youssef Chahine     86\n",
       "8484  International Movies       Yılmaz Erdoğan     75\n",
       "6894  International Movies         David Dhawan     72\n",
       "8349  International Movies    Toshiya Shinohara     68\n",
       "7022  International Movies      Fernando Ayllón     61\n",
       "7128  International Movies          Hakan Algül     60\n",
       "8207  International Movies   Sooraj R. Barjatya     60\n",
       "7173  International Movies       Hidenori Inoue     59"
      ]
     },
     "execution_count": 252,
     "metadata": {},
     "output_type": "execute_result"
    }
   ],
   "source": [
    "top_directors[top_directors['listed_in'] == 'International Movies'].head(10)"
   ]
  },
  {
   "cell_type": "markdown",
   "metadata": {},
   "source": [
    "### Top director & actor pairs by genre"
   ]
  },
  {
   "cell_type": "code",
   "execution_count": 246,
   "metadata": {},
   "outputs": [
    {
     "data": {
      "text/html": [
       "<div>\n",
       "<style scoped>\n",
       "    .dataframe tbody tr th:only-of-type {\n",
       "        vertical-align: middle;\n",
       "    }\n",
       "\n",
       "    .dataframe tbody tr th {\n",
       "        vertical-align: top;\n",
       "    }\n",
       "\n",
       "    .dataframe thead th {\n",
       "        text-align: right;\n",
       "    }\n",
       "</style>\n",
       "<table border=\"1\" class=\"dataframe\">\n",
       "  <thead>\n",
       "    <tr style=\"text-align: right;\">\n",
       "      <th></th>\n",
       "      <th>listed_in</th>\n",
       "      <th>director</th>\n",
       "      <th>cast</th>\n",
       "      <th>count</th>\n",
       "    </tr>\n",
       "  </thead>\n",
       "  <tbody>\n",
       "    <tr>\n",
       "      <th>11771</th>\n",
       "      <td>Children &amp; Family Movies</td>\n",
       "      <td>Rajiv Chilaka</td>\n",
       "      <td>Julie Tejwani</td>\n",
       "      <td>17</td>\n",
       "    </tr>\n",
       "    <tr>\n",
       "      <th>11770</th>\n",
       "      <td>Children &amp; Family Movies</td>\n",
       "      <td>Rajiv Chilaka</td>\n",
       "      <td>Jigna Bhardwaj</td>\n",
       "      <td>17</td>\n",
       "    </tr>\n",
       "    <tr>\n",
       "      <th>11777</th>\n",
       "      <td>Children &amp; Family Movies</td>\n",
       "      <td>Rajiv Chilaka</td>\n",
       "      <td>Rajesh Kava</td>\n",
       "      <td>17</td>\n",
       "    </tr>\n",
       "    <tr>\n",
       "      <th>11778</th>\n",
       "      <td>Children &amp; Family Movies</td>\n",
       "      <td>Rajiv Chilaka</td>\n",
       "      <td>Rupa Bhimani</td>\n",
       "      <td>16</td>\n",
       "    </tr>\n",
       "    <tr>\n",
       "      <th>11781</th>\n",
       "      <td>Children &amp; Family Movies</td>\n",
       "      <td>Rajiv Chilaka</td>\n",
       "      <td>Vatsal Dubey</td>\n",
       "      <td>15</td>\n",
       "    </tr>\n",
       "    <tr>\n",
       "      <th>11774</th>\n",
       "      <td>Children &amp; Family Movies</td>\n",
       "      <td>Rajiv Chilaka</td>\n",
       "      <td>Mousam</td>\n",
       "      <td>12</td>\n",
       "    </tr>\n",
       "    <tr>\n",
       "      <th>11780</th>\n",
       "      <td>Children &amp; Family Movies</td>\n",
       "      <td>Rajiv Chilaka</td>\n",
       "      <td>Swapnil</td>\n",
       "      <td>12</td>\n",
       "    </tr>\n",
       "    <tr>\n",
       "      <th>12832</th>\n",
       "      <td>Children &amp; Family Movies</td>\n",
       "      <td>Suhas Kadav</td>\n",
       "      <td>Saurav Chakraborty</td>\n",
       "      <td>8</td>\n",
       "    </tr>\n",
       "    <tr>\n",
       "      <th>5900</th>\n",
       "      <td>Action &amp; Adventure</td>\n",
       "      <td>S.S. Rajamouli</td>\n",
       "      <td>Tamannaah Bhatia</td>\n",
       "      <td>7</td>\n",
       "    </tr>\n",
       "    <tr>\n",
       "      <th>78192</th>\n",
       "      <td>International Movies</td>\n",
       "      <td>Toshiya Shinohara</td>\n",
       "      <td>Kumiko Watanabe</td>\n",
       "      <td>7</td>\n",
       "    </tr>\n",
       "  </tbody>\n",
       "</table>\n",
       "</div>"
      ],
      "text/plain": [
       "                      listed_in           director                cast  count\n",
       "11771  Children & Family Movies      Rajiv Chilaka       Julie Tejwani     17\n",
       "11770  Children & Family Movies      Rajiv Chilaka      Jigna Bhardwaj     17\n",
       "11777  Children & Family Movies      Rajiv Chilaka         Rajesh Kava     17\n",
       "11778  Children & Family Movies      Rajiv Chilaka        Rupa Bhimani     16\n",
       "11781  Children & Family Movies      Rajiv Chilaka        Vatsal Dubey     15\n",
       "11774  Children & Family Movies      Rajiv Chilaka              Mousam     12\n",
       "11780  Children & Family Movies      Rajiv Chilaka             Swapnil     12\n",
       "12832  Children & Family Movies        Suhas Kadav  Saurav Chakraborty      8\n",
       "5900         Action & Adventure     S.S. Rajamouli    Tamannaah Bhatia      7\n",
       "78192      International Movies  Toshiya Shinohara     Kumiko Watanabe      7"
      ]
     },
     "execution_count": 246,
     "metadata": {},
     "output_type": "execute_result"
    }
   ],
   "source": [
    "top_director_actor_pairs = df_exploded.groupby(['listed_in','director','cast'])\\\n",
    ".size()\\\n",
    ".reset_index(name = 'count')\\\n",
    ".sort_values(['count'], ascending = [False])\n",
    "top_director_actor_pairs.head(10)"
   ]
  },
  {
   "cell_type": "markdown",
   "metadata": {},
   "source": [
    "## 6. Does Netflix has more focus on TV Shows than movies in recent years?"
   ]
  },
  {
   "cell_type": "code",
   "execution_count": 197,
   "metadata": {},
   "outputs": [
    {
     "data": {
      "text/html": [
       "<div>\n",
       "<style scoped>\n",
       "    .dataframe tbody tr th:only-of-type {\n",
       "        vertical-align: middle;\n",
       "    }\n",
       "\n",
       "    .dataframe tbody tr th {\n",
       "        vertical-align: top;\n",
       "    }\n",
       "\n",
       "    .dataframe thead th {\n",
       "        text-align: right;\n",
       "    }\n",
       "</style>\n",
       "<table border=\"1\" class=\"dataframe\">\n",
       "  <thead>\n",
       "    <tr style=\"text-align: right;\">\n",
       "      <th>type</th>\n",
       "      <th>Movie</th>\n",
       "      <th>TV Show</th>\n",
       "      <th>difference</th>\n",
       "    </tr>\n",
       "  </thead>\n",
       "  <tbody>\n",
       "    <tr>\n",
       "      <th>count</th>\n",
       "      <td>73.000000</td>\n",
       "      <td>46.000000</td>\n",
       "      <td>45.000000</td>\n",
       "    </tr>\n",
       "    <tr>\n",
       "      <th>mean</th>\n",
       "      <td>83.986301</td>\n",
       "      <td>58.173913</td>\n",
       "      <td>73.755556</td>\n",
       "    </tr>\n",
       "    <tr>\n",
       "      <th>std</th>\n",
       "      <td>176.961664</td>\n",
       "      <td>116.746697</td>\n",
       "      <td>114.792333</td>\n",
       "    </tr>\n",
       "    <tr>\n",
       "      <th>min</th>\n",
       "      <td>1.000000</td>\n",
       "      <td>1.000000</td>\n",
       "      <td>-38.000000</td>\n",
       "    </tr>\n",
       "    <tr>\n",
       "      <th>25%</th>\n",
       "      <td>3.000000</td>\n",
       "      <td>1.000000</td>\n",
       "      <td>11.000000</td>\n",
       "    </tr>\n",
       "    <tr>\n",
       "      <th>50%</th>\n",
       "      <td>12.000000</td>\n",
       "      <td>4.000000</td>\n",
       "      <td>28.000000</td>\n",
       "    </tr>\n",
       "    <tr>\n",
       "      <th>75%</th>\n",
       "      <td>51.000000</td>\n",
       "      <td>38.500000</td>\n",
       "      <td>84.000000</td>\n",
       "    </tr>\n",
       "    <tr>\n",
       "      <th>max</th>\n",
       "      <td>767.000000</td>\n",
       "      <td>436.000000</td>\n",
       "      <td>502.000000</td>\n",
       "    </tr>\n",
       "  </tbody>\n",
       "</table>\n",
       "</div>"
      ],
      "text/plain": [
       "type        Movie     TV Show  difference\n",
       "count   73.000000   46.000000   45.000000\n",
       "mean    83.986301   58.173913   73.755556\n",
       "std    176.961664  116.746697  114.792333\n",
       "min      1.000000    1.000000  -38.000000\n",
       "25%      3.000000    1.000000   11.000000\n",
       "50%     12.000000    4.000000   28.000000\n",
       "75%     51.000000   38.500000   84.000000\n",
       "max    767.000000  436.000000  502.000000"
      ]
     },
     "execution_count": 197,
     "metadata": {},
     "output_type": "execute_result"
    }
   ],
   "source": [
    "pivot_table8 = netflix_data.groupby(['release_year','type']).show_id.count().reset_index(name = 'num_show_id')\n",
    "df = pivot_table8.pivot(index = 'release_year', columns='type', values = 'num_show_id')\n",
    "df.columns\n",
    "df['difference'] = df['Movie'] - df['TV Show']\n",
    "df.describe()"
   ]
  },
  {
   "cell_type": "code",
   "execution_count": 198,
   "metadata": {},
   "outputs": [
    {
     "data": {
      "image/png": "[encoded data removed]",
      "text/plain": [
       "<Figure size 864x432 with 1 Axes>"
      ]
     },
     "metadata": {
      "needs_background": "light"
     },
     "output_type": "display_data"
    }
   ],
   "source": [
    "# Step 1: Pivot the data so 'type' becomes column headers\n",
    "pivot_df = pivot_table3.pivot(index='release_year', columns='type', values='num_show_id')\n",
    "pivot_df = pivot_df.sort_index()  # Sort years in ascending order\n",
    "\n",
    "# Step 2: Plot the time series\n",
    "pivot_df.plot(\n",
    "    kind='line',\n",
    "    figsize=(12, 6),\n",
    "    marker='o',\n",
    "    color={'Movie': 'darkorange', 'TV Show': 'steelblue'}\n",
    ")\n",
    "\n",
    "# Step 3: Format the plot\n",
    "plt.title('Number of Netflix Shows Released Over Time by Type')\n",
    "plt.xlabel('Release Year')\n",
    "plt.ylabel('Number of Shows')\n",
    "plt.grid(True)\n",
    "plt.legend(title='Show Type')\n",
    "plt.xticks(rotation=45)\n",
    "plt.tight_layout()\n",
    "plt.show()"
   ]
  },
  {
   "cell_type": "markdown",
   "metadata": {},
   "source": [
    "based on the chart above, netflix has more focus on movies than TV shows since 1980."
   ]
  },
  {
   "cell_type": "markdown",
   "metadata": {},
   "source": [
    "## 7. Understanding what content is available in different countries."
   ]
  },
  {
   "cell_type": "code",
   "execution_count": 280,
   "metadata": {},
   "outputs": [],
   "source": [
    "pivot_table9 = df_exploded.groupby(['country','type'])\\\n",
    ".size().reset_index(name = 'count')\\\n",
    ".sort_values( ['country','count'], ascending=[True,False])\n",
    "pivot_df = pivot_table9[pivot_table9['country'].str.strip() != '']\n",
    "pivot_df = pivot_df.pivot(index = 'country', columns = 'type', values = 'count').fillna(0)\n",
    "pivot_df = pivot_df[(pivot_df['Movie']> 0) & (pivot_df['TV Show']> 0) ]\n",
    "pivot_df['Total'] = pivot_df['Movie'] + pivot_df['TV Show']"
   ]
  },
  {
   "cell_type": "code",
   "execution_count": 282,
   "metadata": {},
   "outputs": [],
   "source": [
    "pivot_df = pivot_df.sort_values(by = 'Total', ascending= False)"
   ]
  },
  {
   "cell_type": "code",
   "execution_count": 284,
   "metadata": {},
   "outputs": [],
   "source": [
    "pivot_df_top10 = pivot_df.head(10)"
   ]
  },
  {
   "cell_type": "code",
   "execution_count": 285,
   "metadata": {},
   "outputs": [
    {
     "data": {
      "text/html": [
       "<div>\n",
       "<style scoped>\n",
       "    .dataframe tbody tr th:only-of-type {\n",
       "        vertical-align: middle;\n",
       "    }\n",
       "\n",
       "    .dataframe tbody tr th {\n",
       "        vertical-align: top;\n",
       "    }\n",
       "\n",
       "    .dataframe thead th {\n",
       "        text-align: right;\n",
       "    }\n",
       "</style>\n",
       "<table border=\"1\" class=\"dataframe\">\n",
       "  <thead>\n",
       "    <tr style=\"text-align: right;\">\n",
       "      <th>type</th>\n",
       "      <th>Movie</th>\n",
       "      <th>TV Show</th>\n",
       "      <th>Total</th>\n",
       "    </tr>\n",
       "    <tr>\n",
       "      <th>country</th>\n",
       "      <th></th>\n",
       "      <th></th>\n",
       "      <th></th>\n",
       "    </tr>\n",
       "  </thead>\n",
       "  <tbody>\n",
       "    <tr>\n",
       "      <th>United States</th>\n",
       "      <td>40812.0</td>\n",
       "      <td>13408.0</td>\n",
       "      <td>54220.0</td>\n",
       "    </tr>\n",
       "    <tr>\n",
       "      <th>India</th>\n",
       "      <td>20109.0</td>\n",
       "      <td>1038.0</td>\n",
       "      <td>21147.0</td>\n",
       "    </tr>\n",
       "    <tr>\n",
       "      <th>United Kingdom</th>\n",
       "      <td>8138.0</td>\n",
       "      <td>4286.0</td>\n",
       "      <td>12424.0</td>\n",
       "    </tr>\n",
       "    <tr>\n",
       "      <th>Japan</th>\n",
       "      <td>2803.0</td>\n",
       "      <td>5137.0</td>\n",
       "      <td>7940.0</td>\n",
       "    </tr>\n",
       "    <tr>\n",
       "      <th>France</th>\n",
       "      <td>5872.0</td>\n",
       "      <td>1542.0</td>\n",
       "      <td>7414.0</td>\n",
       "    </tr>\n",
       "    <tr>\n",
       "      <th>Canada</th>\n",
       "      <td>5035.0</td>\n",
       "      <td>2133.0</td>\n",
       "      <td>7168.0</td>\n",
       "    </tr>\n",
       "    <tr>\n",
       "      <th>Spain</th>\n",
       "      <td>3250.0</td>\n",
       "      <td>1798.0</td>\n",
       "      <td>5048.0</td>\n",
       "    </tr>\n",
       "    <tr>\n",
       "      <th>South Korea</th>\n",
       "      <td>1205.0</td>\n",
       "      <td>3682.0</td>\n",
       "      <td>4887.0</td>\n",
       "    </tr>\n",
       "    <tr>\n",
       "      <th>Germany</th>\n",
       "      <td>3149.0</td>\n",
       "      <td>878.0</td>\n",
       "      <td>4027.0</td>\n",
       "    </tr>\n",
       "    <tr>\n",
       "      <th>Mexico</th>\n",
       "      <td>1826.0</td>\n",
       "      <td>2018.0</td>\n",
       "      <td>3844.0</td>\n",
       "    </tr>\n",
       "  </tbody>\n",
       "</table>\n",
       "</div>"
      ],
      "text/plain": [
       "type              Movie  TV Show    Total\n",
       "country                                  \n",
       "United States   40812.0  13408.0  54220.0\n",
       "India           20109.0   1038.0  21147.0\n",
       "United Kingdom   8138.0   4286.0  12424.0\n",
       "Japan            2803.0   5137.0   7940.0\n",
       "France           5872.0   1542.0   7414.0\n",
       "Canada           5035.0   2133.0   7168.0\n",
       "Spain            3250.0   1798.0   5048.0\n",
       "South Korea      1205.0   3682.0   4887.0\n",
       "Germany          3149.0    878.0   4027.0\n",
       "Mexico           1826.0   2018.0   3844.0"
      ]
     },
     "execution_count": 285,
     "metadata": {},
     "output_type": "execute_result"
    }
   ],
   "source": [
    "pivot_df_top10"
   ]
  },
  {
   "cell_type": "code",
   "execution_count": 287,
   "metadata": {},
   "outputs": [
    {
     "data": {
      "image/png": "[encoded data removed]",
      "text/plain": [
       "<Figure size 864x576 with 1 Axes>"
      ]
     },
     "metadata": {
      "needs_background": "light"
     },
     "output_type": "display_data"
    }
   ],
   "source": [
    "ax = pivot_df_top10[['Movie', 'TV Show']].plot(kind = 'bar', figsize = (12, 8), width = 0.8, color = ['skyblue', 'orange'])\n",
    "plt.title('Content Availability by Top 10 Country')\n",
    "plt.xlabel('Country')\n",
    "plt.ylabel('Number of Titles')\n",
    "plt.xticks(rotation = 45)\n",
    "plt.legend(title = 'Type')\n",
    "\n",
    "# add data labels on top of bars\n",
    "for container in ax.containers:\n",
    "    ax.bar_label(container, fmt = '%.0f')\n",
    "\n",
    "plt.tight_layout()\n",
    "plt.show()"
   ]
  },
  {
   "cell_type": "code",
   "execution_count": null,
   "metadata": {},
   "outputs": [],
   "source": []
  }
 ],
 "metadata": {
  "kernelspec": {
   "display_name": "base",
   "language": "python",
   "name": "python3"
  },
  "language_info": {
   "codemirror_mode": {
    "name": "ipython",
    "version": 3
   },
   "file_extension": ".py",
   "mimetype": "text/x-python",
   "name": "python",
   "nbconvert_exporter": "python",
   "pygments_lexer": "ipython3",
   "version": "3.9.12"
  }
 },
 "nbformat": 4,
 "nbformat_minor": 2
}
