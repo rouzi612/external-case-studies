{
 "cells": [
  {
   "cell_type": "markdown",
   "metadata": {},
   "source": [
    "# T-Mobile Customer Data Analysis"
   ]
  },
  {
   "cell_type": "markdown",
   "metadata": {},
   "source": [
    "ideas:\n",
    "- customer interaction data, customer survey data\n",
    "- join two data by account id, connect the interaction reason, time spent, customer comments and improvement opportunities, and customers current rate plan \n",
    "- text analysis on customer survey's two text columns \n",
    "- calculate customer NPS and company NPS"
   ]
  },
  {
   "cell_type": "code",
   "execution_count": 233,
   "metadata": {},
   "outputs": [
    {
     "name": "stderr",
     "output_type": "stream",
     "text": [
      "[nltk_data] Downloading package stopwords to\n",
      "[nltk_data]     C:\\Users\\rouzi.bai\\AppData\\Roaming\\nltk_data...\n",
      "[nltk_data]   Package stopwords is already up-to-date!\n",
      "[nltk_data] Downloading package wordnet to\n",
      "[nltk_data]     C:\\Users\\rouzi.bai\\AppData\\Roaming\\nltk_data...\n",
      "[nltk_data]   Package wordnet is already up-to-date!\n"
     ]
    }
   ],
   "source": [
    "import pandas as pd\n",
    "import matplotlib.pyplot as plt\n",
    "import numpy as np\n",
    "import os\n",
    "import re\n",
    "import nltk\n",
    "import string\n",
    "import seaborn as sns\n",
    "from wordcloud import WordCloud, STOPWORDS\n",
    "\n",
    "#Convert a collection of raw documents to a matrix of TF-IDF features.\n",
    "from sklearn.feature_extraction.text import TfidfVectorizer\n",
    "from sklearn.feature_extraction.text import CountVectorizer\n",
    "\n",
    "from sklearn.cluster import KMeans\n",
    "from sklearn.decomposition import TruncatedSVD\n",
    "from scipy.sparse import random as sparse_random\n",
    "\n",
    "nltk.download('stopwords')\n",
    "nltk.download('wordnet')\n",
    "from nltk.corpus import stopwords\n",
    "from nltk.stem import PorterStemmer\n",
    "from nltk.stem import WordNetLemmatizer\n",
    "\n",
    "from nltk.tokenize import TweetTokenizer\n",
    "from collections import Counter\n",
    "from nltk.tokenize import word_tokenize\n",
    "from sklearn.preprocessing import Normalizer\n",
    "from sklearn.pipeline import make_pipeline\n",
    "from sklearn.metrics import r2_score\n",
    "from sklearn.metrics import mean_squared_error\n",
    "from sklearn.model_selection import train_test_split\n",
    "from sklearn.linear_model import LinearRegression\n",
    "from sklearn import metrics\n",
    "\n",
    "from nltk.util import ngrams"
   ]
  },
  {
   "cell_type": "code",
   "execution_count": 236,
   "metadata": {},
   "outputs": [],
   "source": [
    "os.chdir(\"G:\\HRIS\\Bai\")"
   ]
  },
  {
   "cell_type": "markdown",
   "metadata": {},
   "source": []
  },
  {
   "cell_type": "code",
   "execution_count": 237,
   "metadata": {},
   "outputs": [],
   "source": [
    "interaction = pd.read_csv('customer_interactions.csv')\n",
    "survey = pd.read_csv('customer_surveys.csv')"
   ]
  },
  {
   "cell_type": "code",
   "execution_count": 238,
   "metadata": {},
   "outputs": [
    {
     "data": {
      "text/plain": [
       "(206829, 24)"
      ]
     },
     "execution_count": 238,
     "metadata": {},
     "output_type": "execute_result"
    }
   ],
   "source": [
    "interaction.shape"
   ]
  },
  {
   "cell_type": "code",
   "execution_count": 239,
   "metadata": {},
   "outputs": [
    {
     "data": {
      "text/plain": [
       "(7095, 17)"
      ]
     },
     "execution_count": 239,
     "metadata": {},
     "output_type": "execute_result"
    }
   ],
   "source": [
    "survey.shape"
   ]
  },
  {
   "cell_type": "code",
   "execution_count": 7,
   "metadata": {},
   "outputs": [
    {
     "data": {
      "text/plain": [
       "Index(['ACCOUNT_ID_', 'JourneyStartDate', 'Duration', 'JourneyReasonID',\n",
       "       'StepNumber', 'InteractionStart', 'Channel', 'Reason', 'TimeSpentInSec',\n",
       "       'InteractionCount', 'DaysUntilNextStep', 'HoursUntilNextStep',\n",
       "       'SwitchedToThisChannel_Ind', 'SameAsLastReason_Ind',\n",
       "       'SwitchedChannelSameReason_Ind', 'TransferCount', 'RetailCallsToCare',\n",
       "       'TransactionID', 'StepEffort', 'InteractionID', 'MsgTransferCount',\n",
       "       'Event_Ind', 'ChannelActivityID', 'ChannelName'],\n",
       "      dtype='object')"
      ]
     },
     "execution_count": 7,
     "metadata": {},
     "output_type": "execute_result"
    }
   ],
   "source": [
    "interaction.columns"
   ]
  },
  {
   "cell_type": "code",
   "execution_count": 240,
   "metadata": {},
   "outputs": [
    {
     "data": {
      "text/plain": [
       "Index(['ACCOUNT_ID_', 'ResponseId', 'RecordedDate_x', 'StartDate', 'EndDate',\n",
       "       'Progress', 'UserLanguage', 'CUSTOMER_EFF_JOUR_NPS_GROUP',\n",
       "       'CUSTOMER_EFF_JOUR', 'COMPANY_EFF_JOUR_NPS_GROUP', 'COMPANY_EFF_JOUR',\n",
       "       'ACCOUNT_ID', 'ACCOUNT_NO_OF_VOICE_LINES', 'JOURNEY_SAT_OPEN',\n",
       "       'CONTACT_METH_OPTION', 'IMPROVEMENT_OPP', 'CURRENT_RATE_PLAN_DESC'],\n",
       "      dtype='object')"
      ]
     },
     "execution_count": 240,
     "metadata": {},
     "output_type": "execute_result"
    }
   ],
   "source": [
    "survey.columns"
   ]
  },
  {
   "cell_type": "code",
   "execution_count": 241,
   "metadata": {},
   "outputs": [],
   "source": [
    "data = pd.merge(interaction, survey, on = 'ACCOUNT_ID_', how = 'left' )"
   ]
  },
  {
   "cell_type": "code",
   "execution_count": 242,
   "metadata": {},
   "outputs": [
    {
     "data": {
      "text/plain": [
       "(206925, 40)"
      ]
     },
     "execution_count": 242,
     "metadata": {},
     "output_type": "execute_result"
    }
   ],
   "source": [
    "data.shape"
   ]
  },
  {
   "cell_type": "code",
   "execution_count": 245,
   "metadata": {},
   "outputs": [
    {
     "data": {
      "text/plain": [
       "False    206649\n",
       "True        276\n",
       "dtype: int64"
      ]
     },
     "execution_count": 245,
     "metadata": {},
     "output_type": "execute_result"
    }
   ],
   "source": [
    "data.duplicated().value_counts()"
   ]
  },
  {
   "cell_type": "code",
   "execution_count": 11,
   "metadata": {},
   "outputs": [
    {
     "data": {
      "text/plain": [
       "108"
      ]
     },
     "execution_count": 11,
     "metadata": {},
     "output_type": "execute_result"
    }
   ],
   "source": [
    "len(data) - len(interaction)"
   ]
  },
  {
   "cell_type": "code",
   "execution_count": 246,
   "metadata": {},
   "outputs": [
    {
     "data": {
      "text/plain": [
       "180"
      ]
     },
     "execution_count": 246,
     "metadata": {},
     "output_type": "execute_result"
    }
   ],
   "source": [
    "206829 - 206649"
   ]
  },
  {
   "cell_type": "markdown",
   "metadata": {},
   "source": [
    "## Top interaction reasons"
   ]
  },
  {
   "cell_type": "code",
   "execution_count": 12,
   "metadata": {},
   "outputs": [
    {
     "name": "stdout",
     "output_type": "stream",
     "text": [
      "Reason\n",
      "Unknown                              72122\n",
      "Manage Acct / Phone Nbr              28256\n",
      "Payment                              15033\n",
      "Billing                              14682\n",
      "Usage                                13059\n",
      "Payment Arrangement                  10823\n",
      "Manage PWD/PIN                        9458\n",
      "Device - Shop / Prereg                7788\n",
      "Purchase Device / Equipment           6775\n",
      "Device / Equipment                    5247\n",
      "Services / Features                   4244\n",
      "Rate Plan Info/Support                2886\n",
      "Accessories                           2669\n",
      "Chg of Responsibility / Auth User     1609\n",
      "Add a person / device (line)          1252\n",
      "Support                               1251\n",
      "Connectivity/Coverage                 1063\n",
      "EIP/Lease                              960\n",
      "AutoPay                                943\n",
      "Rate Plan Change                       838\n",
      "Name: ACCOUNT_ID_, dtype: int64\n"
     ]
    }
   ],
   "source": [
    "result1 = data.groupby(['Reason'])['ACCOUNT_ID_'].count().nlargest(20)\n",
    "print(result1)"
   ]
  },
  {
   "cell_type": "markdown",
   "metadata": {},
   "source": [
    "# Average time spent (in minutes) per category (reason)"
   ]
  },
  {
   "cell_type": "code",
   "execution_count": 13,
   "metadata": {},
   "outputs": [
    {
     "name": "stdout",
     "output_type": "stream",
     "text": [
      "Reason\n",
      "Device / Equipment                  23.8\n",
      "Suspend / Restore - Voluntary       14.3\n",
      "Rate Plan Info/Support              12.0\n",
      "EIP/Lease                           11.9\n",
      "Device/Equipmt - Return/Exchg       11.3\n",
      "Apps or Website                     11.2\n",
      "Device Unlock                       10.6\n",
      "Fraud                               10.6\n",
      "Device / Equip/ Network Issues      10.4\n",
      "Device insurance                     9.9\n",
      "Suspend / Restore                    9.8\n",
      "Other Devices / IoT                  9.7\n",
      "Escalation or Complaint              9.5\n",
      "Device / Equip - Software Update     9.3\n",
      "Unknown                              8.9\n",
      "Activate / Migration                 8.7\n",
      "Connectivity/Coverage                8.6\n",
      "Usage                                7.3\n",
      "AutoPay                              6.9\n",
      "Purchase Device / Equipment          6.1\n",
      "Name: TimeSpentInSec, dtype: float64\n"
     ]
    }
   ],
   "source": [
    "result2 = round(data.groupby(['Reason'])['TimeSpentInSec'].agg('mean').nlargest(20)/60,1)\n",
    "print(result2)"
   ]
  },
  {
   "cell_type": "markdown",
   "metadata": {},
   "source": [
    "## Among the customers who have interacted with T-Mobile, what are their current plans?"
   ]
  },
  {
   "cell_type": "code",
   "execution_count": 14,
   "metadata": {},
   "outputs": [
    {
     "name": "stdout",
     "output_type": "stream",
     "text": [
      "CURRENT_RATE_PLAN_DESC\n",
      "T-Mobile ONE                     54489\n",
      "Magenta (2 line)                 14453\n",
      "T-Mobile ONE Unlimited 55 3L     11506\n",
      "T-Mobile ONE Military 2+          9581\n",
      "2 Lines TMO ONE All In Promo      9235\n",
      "Magenta Plus                      8706\n",
      "T-Mobile Essentials 2+            8558\n",
      "SC FAM UNL TT+D 4 lines incl.     6798\n",
      "T-Mobile ONE Unlimited 55         6413\n",
      "Magenta Military (2 line)         5239\n",
      "Magenta Unlimited 55 (2 line)     4724\n",
      "SimpleChoice Val FAM UnlTT+D      4699\n",
      "SC NA UTT+10GB each 4 Lines       4055\n",
      "T-Mobile ONE w/ONE+ Family        3695\n",
      "Magenta                           3257\n",
      "SC FAM UNL TT+D 2 lines incl.     2865\n",
      "T-Mobile Essentials               2398\n",
      "Magenta 1st Responder 2L          2268\n",
      "SC FM UTT+6GB for 4 lines         2255\n",
      "Magenta Unlimited 55              1965\n",
      "Name: ACCOUNT_ID_, dtype: int64\n"
     ]
    }
   ],
   "source": [
    "result3 = data.groupby(['CURRENT_RATE_PLAN_DESC'])['ACCOUNT_ID_'].count().nlargest(20)\n",
    "print(result3)"
   ]
  },
  {
   "cell_type": "markdown",
   "metadata": {},
   "source": [
    "## the most common contact method\n"
   ]
  },
  {
   "cell_type": "code",
   "execution_count": 219,
   "metadata": {},
   "outputs": [
    {
     "name": "stdout",
     "output_type": "stream",
     "text": [
      "CONTACT_METH_OPTION\n",
      "Called T-Mobile                                                                                                     82562\n",
      "Visited a store                                                                                                     33413\n",
      "Interacted with a T-Mobile App                                                                                      21576\n",
      "Went to T-Mobile.com                                                                                                11059\n",
      "Called T-Mobile,Visited a store                                                                                      8176\n",
      "Used chat feature on website                                                                                         8020\n",
      "Called T-Mobile,Interacted with a T-Mobile App                                                                       4384\n",
      "Called T-Mobile,Went to T-Mobile.com                                                                                 2950\n",
      "Called T-Mobile,Went to T-Mobile.com,Visited a store                                                                 2949\n",
      "Went to T-Mobile.com,Visited a store                                                                                 2623\n",
      "Called T-Mobile,Used chat feature on website                                                                         2435\n",
      "Sent text message                                                                                                    2092\n",
      "Visited a store,Interacted with a T-Mobile App                                                                       1607\n",
      "Called T-Mobile,Went to T-Mobile.com,Visited a store,Interacted with a T-Mobile App                                  1569\n",
      "Went to T-Mobile.com,Interacted with a T-Mobile App                                                                  1563\n",
      "Interacted with a T-Mobile App,Used chat feature on website                                                          1339\n",
      "Messaged on social media                                                                                             1301\n",
      "Called T-Mobile,Went to T-Mobile.com,Interacted with a T-Mobile App                                                  1288\n",
      "Called T-Mobile,Went to T-Mobile.com,Visited a store,Interacted with a T-Mobile App,Used chat feature on website     1236\n",
      "Went to T-Mobile.com,Visited a store,Interacted with a T-Mobile App                                                  1225\n",
      "Name: ACCOUNT_ID_, dtype: int64\n"
     ]
    }
   ],
   "source": [
    "result4 = data.groupby(['CONTACT_METH_OPTION'])['ACCOUNT_ID_'].count().nlargest(20)\n",
    "print(result4)"
   ]
  },
  {
   "cell_type": "code",
   "execution_count": 231,
   "metadata": {},
   "outputs": [
    {
     "data": {
      "text/plain": [
       "90"
      ]
     },
     "execution_count": 231,
     "metadata": {},
     "output_type": "execute_result"
    }
   ],
   "source": [
    "data['CONTACT_METH_OPTION'].nunique()"
   ]
  },
  {
   "cell_type": "code",
   "execution_count": 232,
   "metadata": {},
   "outputs": [
    {
     "name": "stdout",
     "output_type": "stream",
     "text": [
      "CONTACT_METH_OPTION\n",
      "Went to T-Mobile.com,Sent text message,Interacted with a T-Mobile App,Used chat feature on website                        10.000000\n",
      "Visited a store,Interacted with a T-Mobile App,Messaged on social media,Used chat feature on website                      10.000000\n",
      "Went to T-Mobile.com,Visited a store,Sent text message                                                                    10.000000\n",
      "Called T-Mobile,Visited a store,Sent text message,Messaged on social media,Used chat feature on website                   10.000000\n",
      "Interacted with a T-Mobile App,Messaged on social media,Used chat feature on website                                      10.000000\n",
      "Called T-Mobile,Went to T-Mobile.com,Messaged on social media                                                             10.000000\n",
      "Called T-Mobile,Went to T-Mobile.com,Visited a store,Sent text message,Messaged on social media                           10.000000\n",
      "Called T-Mobile,Sent text message,Interacted with a T-Mobile App,Messaged on social media,Used chat feature on website    10.000000\n",
      "Went to T-Mobile.com,Visited a store,Sent text message,Used chat feature on website                                       10.000000\n",
      "Called T-Mobile,Went to T-Mobile.com,Visited a store,Sent text message,Used chat feature on website                        9.920635\n",
      "Called T-Mobile,Visited a store,Messaged on social media                                                                   9.661538\n",
      "Called T-Mobile,Went to T-Mobile.com,Sent text message,Interacted with a T-Mobile App,Used chat feature on website         9.571429\n",
      "Called T-Mobile,Went to T-Mobile.com,Visited a store,Messaged on social media                                              9.457143\n",
      "Called T-Mobile,Interacted with a T-Mobile App,Messaged on social media,Used chat feature on website                       9.409836\n",
      "Called T-Mobile,Visited a store,Sent text message,Interacted with a T-Mobile App,Used chat feature on website              9.150327\n",
      "Called T-Mobile,Went to T-Mobile.com,Visited a store,Interacted with a T-Mobile App,Used chat feature on website           9.126214\n",
      "Called T-Mobile,Visited a store,Messaged on social media,Used chat feature on website                                      9.000000\n",
      "Sent text message,Interacted with a T-Mobile App,Used chat feature on website                                              9.000000\n",
      "Called T-Mobile,Visited a store,Sent text message                                                                          8.618644\n",
      "Called T-Mobile,Went to T-Mobile.com,Interacted with a T-Mobile App,Used chat feature on website                           8.457088\n",
      "Name: CUSTOMER_EFF_JOUR, dtype: float64\n"
     ]
    }
   ],
   "source": [
    "result5 = data.groupby(['CONTACT_METH_OPTION'])['CUSTOMER_EFF_JOUR'].agg('mean').sort_values(ascending=False).head(20)\n",
    "print(result5)\n"
   ]
  },
  {
   "cell_type": "markdown",
   "metadata": {},
   "source": [
    "## Calculate Customer NPS & Company NPS"
   ]
  },
  {
   "cell_type": "code",
   "execution_count": 15,
   "metadata": {},
   "outputs": [
    {
     "name": "stdout",
     "output_type": "stream",
     "text": [
      "CUSTOMER_EFF_JOUR_NPS_GROUP\n",
      "Detractor    0.538164\n",
      "Passive      0.121042\n",
      "Promoter     0.339867\n",
      "Name: ACCOUNT_ID_, dtype: float64\n"
     ]
    }
   ],
   "source": [
    "result4 = data.groupby(['CUSTOMER_EFF_JOUR_NPS_GROUP'])['ACCOUNT_ID_'].count() / len(data)\n",
    "print(result4)\n",
    "## customer NPS = -20%"
   ]
  },
  {
   "cell_type": "code",
   "execution_count": 16,
   "metadata": {},
   "outputs": [
    {
     "name": "stdout",
     "output_type": "stream",
     "text": [
      "COMPANY_EFF_JOUR_NPS_GROUP\n",
      "Detractor    0.350764\n",
      "Passive      0.132963\n",
      "Promoter     0.515345\n",
      "Name: ACCOUNT_ID_, dtype: float64\n"
     ]
    }
   ],
   "source": [
    "result5 = data.groupby(['COMPANY_EFF_JOUR_NPS_GROUP'])['ACCOUNT_ID_'].count() / len(data)\n",
    "print(result5)\n",
    "## company NPS = 17%"
   ]
  },
  {
   "cell_type": "code",
   "execution_count": 19,
   "metadata": {},
   "outputs": [
    {
     "name": "stdout",
     "output_type": "stream",
     "text": [
      "CUSTOMER_EFF_JOUR_NPS_GROUP  Detractor  Passive  Promoter   All\n",
      "COMPANY_EFF_JOUR_NPS_GROUP                                     \n",
      "Detractor                         0.20     0.04      0.11  0.35\n",
      "Passive                           0.07     0.04      0.02  0.13\n",
      "Promoter                          0.27     0.04      0.21  0.52\n",
      "All                               0.54     0.12      0.34  1.00\n"
     ]
    }
   ],
   "source": [
    "table1 = round(pd.crosstab(data['COMPANY_EFF_JOUR_NPS_GROUP'], data['CUSTOMER_EFF_JOUR_NPS_GROUP'], margins = True, normalize= True),2)\n",
    "print(table1)"
   ]
  },
  {
   "cell_type": "code",
   "execution_count": 48,
   "metadata": {},
   "outputs": [
    {
     "name": "stdout",
     "output_type": "stream",
     "text": [
      "CONTACT_METH_OPTION          Called T-Mobile  \\\n",
      "CUSTOMER_EFF_JOUR_NPS_GROUP                    \n",
      "Detractor                           0.219168   \n",
      "Passive                             0.048908   \n",
      "Promoter                            0.128541   \n",
      "All                                 0.396617   \n",
      "\n",
      "CONTACT_METH_OPTION          Called T-Mobile,Interacted with a T-Mobile App  \\\n",
      "CUSTOMER_EFF_JOUR_NPS_GROUP                                                   \n",
      "Detractor                                                          0.008034   \n",
      "Passive                                                            0.002678   \n",
      "Promoter                                                           0.006202   \n",
      "All                                                                0.016913   \n",
      "\n",
      "CONTACT_METH_OPTION          Called T-Mobile,Interacted with a T-Mobile App,Messaged on social media  \\\n",
      "CUSTOMER_EFF_JOUR_NPS_GROUP                                                                            \n",
      "Detractor                                                                                   0.000141   \n",
      "Passive                                                                                     0.000000   \n",
      "Promoter                                                                                    0.000282   \n",
      "All                                                                                         0.000423   \n",
      "\n",
      "CONTACT_METH_OPTION          Called T-Mobile,Interacted with a T-Mobile App,Messaged on social media,Used chat feature on website  \\\n",
      "CUSTOMER_EFF_JOUR_NPS_GROUP                                                                                                         \n",
      "Detractor                                                                                                                0.000000   \n",
      "Passive                                                                                                                  0.000141   \n",
      "Promoter                                                                                                                 0.000141   \n",
      "All                                                                                                                      0.000282   \n",
      "\n",
      "CONTACT_METH_OPTION          Called T-Mobile,Interacted with a T-Mobile App,Used chat feature on website  \\\n",
      "CUSTOMER_EFF_JOUR_NPS_GROUP                                                                                \n",
      "Detractor                                                                                       0.001268   \n",
      "Passive                                                                                         0.000705   \n",
      "Promoter                                                                                        0.001128   \n",
      "All                                                                                             0.003101   \n",
      "\n",
      "CONTACT_METH_OPTION          Called T-Mobile,Messaged on social media  \\\n",
      "CUSTOMER_EFF_JOUR_NPS_GROUP                                             \n",
      "Detractor                                                    0.000282   \n",
      "Passive                                                      0.000282   \n",
      "Promoter                                                     0.000423   \n",
      "All                                                          0.000987   \n",
      "\n",
      "CONTACT_METH_OPTION          Called T-Mobile,Messaged on social media,Used chat feature on website  \\\n",
      "CUSTOMER_EFF_JOUR_NPS_GROUP                                                                          \n",
      "Detractor                                                                                 0.000282   \n",
      "Passive                                                                                   0.000000   \n",
      "Promoter                                                                                  0.000000   \n",
      "All                                                                                       0.000282   \n",
      "\n",
      "CONTACT_METH_OPTION          Called T-Mobile,Sent text message  \\\n",
      "CUSTOMER_EFF_JOUR_NPS_GROUP                                      \n",
      "Detractor                                             0.001128   \n",
      "Passive                                               0.000000   \n",
      "Promoter                                              0.000705   \n",
      "All                                                   0.001832   \n",
      "\n",
      "CONTACT_METH_OPTION          Called T-Mobile,Sent text message,Interacted with a T-Mobile App  \\\n",
      "CUSTOMER_EFF_JOUR_NPS_GROUP                                                                     \n",
      "Detractor                                                                            0.000564   \n",
      "Passive                                                                              0.000141   \n",
      "Promoter                                                                             0.000846   \n",
      "All                                                                                  0.001550   \n",
      "\n",
      "CONTACT_METH_OPTION          Called T-Mobile,Sent text message,Interacted with a T-Mobile App,Messaged on social media,Used chat feature on website  \\\n",
      "CUSTOMER_EFF_JOUR_NPS_GROUP                                                                                                                           \n",
      "Detractor                                                                                                                                  0.000000   \n",
      "Passive                                                                                                                                    0.000000   \n",
      "Promoter                                                                                                                                   0.000282   \n",
      "All                                                                                                                                        0.000282   \n",
      "\n",
      "CONTACT_METH_OPTION          ...  \\\n",
      "CUSTOMER_EFF_JOUR_NPS_GROUP  ...   \n",
      "Detractor                    ...   \n",
      "Passive                      ...   \n",
      "Promoter                     ...   \n",
      "All                          ...   \n",
      "\n",
      "CONTACT_METH_OPTION          Went to T-Mobile.com,Used chat feature on website  \\\n",
      "CUSTOMER_EFF_JOUR_NPS_GROUP                                                      \n",
      "Detractor                                                             0.001409   \n",
      "Passive                                                               0.000000   \n",
      "Promoter                                                              0.000564   \n",
      "All                                                                   0.001973   \n",
      "\n",
      "CONTACT_METH_OPTION          Went to T-Mobile.com,Visited a store  \\\n",
      "CUSTOMER_EFF_JOUR_NPS_GROUP                                         \n",
      "Detractor                                                0.010007   \n",
      "Passive                                                  0.002678   \n",
      "Promoter                                                 0.003383   \n",
      "All                                                      0.016068   \n",
      "\n",
      "CONTACT_METH_OPTION          Went to T-Mobile.com,Visited a store,Interacted with a T-Mobile App  \\\n",
      "CUSTOMER_EFF_JOUR_NPS_GROUP                                                                        \n",
      "Detractor                                                                               0.003665   \n",
      "Passive                                                                                 0.000705   \n",
      "Promoter                                                                                0.001268   \n",
      "All                                                                                     0.005638   \n",
      "\n",
      "CONTACT_METH_OPTION          Went to T-Mobile.com,Visited a store,Interacted with a T-Mobile App,Messaged on social media,Used chat feature on website  \\\n",
      "CUSTOMER_EFF_JOUR_NPS_GROUP                                                                                                                              \n",
      "Detractor                                                                                                                                     0.000141   \n",
      "Passive                                                                                                                                       0.000000   \n",
      "Promoter                                                                                                                                      0.000000   \n",
      "All                                                                                                                                           0.000141   \n",
      "\n",
      "CONTACT_METH_OPTION          Went to T-Mobile.com,Visited a store,Interacted with a T-Mobile App,Used chat feature on website  \\\n",
      "CUSTOMER_EFF_JOUR_NPS_GROUP                                                                                                     \n",
      "Detractor                                                                                                            0.000564   \n",
      "Passive                                                                                                              0.000141   \n",
      "Promoter                                                                                                             0.000282   \n",
      "All                                                                                                                  0.000987   \n",
      "\n",
      "CONTACT_METH_OPTION          Went to T-Mobile.com,Visited a store,Messaged on social media  \\\n",
      "CUSTOMER_EFF_JOUR_NPS_GROUP                                                                  \n",
      "Detractor                                                                         0.000141   \n",
      "Passive                                                                           0.000000   \n",
      "Promoter                                                                          0.000000   \n",
      "All                                                                               0.000141   \n",
      "\n",
      "CONTACT_METH_OPTION          Went to T-Mobile.com,Visited a store,Sent text message  \\\n",
      "CUSTOMER_EFF_JOUR_NPS_GROUP                                                           \n",
      "Detractor                                                                  0.000000   \n",
      "Passive                                                                    0.000000   \n",
      "Promoter                                                                   0.000141   \n",
      "All                                                                        0.000141   \n",
      "\n",
      "CONTACT_METH_OPTION          Went to T-Mobile.com,Visited a store,Sent text message,Used chat feature on website  \\\n",
      "CUSTOMER_EFF_JOUR_NPS_GROUP                                                                                        \n",
      "Detractor                                                                                               0.000000   \n",
      "Passive                                                                                                 0.000000   \n",
      "Promoter                                                                                                0.000141   \n",
      "All                                                                                                     0.000141   \n",
      "\n",
      "CONTACT_METH_OPTION          Went to T-Mobile.com,Visited a store,Used chat feature on website  \\\n",
      "CUSTOMER_EFF_JOUR_NPS_GROUP                                                                      \n",
      "Detractor                                                                             0.000846   \n",
      "Passive                                                                               0.000282   \n",
      "Promoter                                                                              0.000423   \n",
      "All                                                                                   0.001550   \n",
      "\n",
      "CONTACT_METH_OPTION               All  \n",
      "CUSTOMER_EFF_JOUR_NPS_GROUP            \n",
      "Detractor                    0.564059  \n",
      "Passive                      0.126286  \n",
      "Promoter                     0.309655  \n",
      "All                          1.000000  \n",
      "\n",
      "[4 rows x 91 columns]\n"
     ]
    }
   ],
   "source": [
    "# which contact method had the better NPS \n",
    "#\n",
    "\n",
    "\n",
    "\n",
    "\n",
    "\n",
    "\n"
   ]
  },
  {
   "cell_type": "markdown",
   "metadata": {},
   "source": [
    "## Customer NPS Detractor Text Analysis"
   ]
  },
  {
   "cell_type": "markdown",
   "metadata": {},
   "source": [
    "- JOURNEY_SAT_OPEN\n",
    "- IMPROVEMENT_OPP\n"
   ]
  },
  {
   "cell_type": "code",
   "execution_count": 27,
   "metadata": {},
   "outputs": [],
   "source": [
    "pd.set_option('display.max_colwidth',None)"
   ]
  },
  {
   "cell_type": "code",
   "execution_count": 208,
   "metadata": {},
   "outputs": [
    {
     "name": "stdout",
     "output_type": "stream",
     "text": [
      "1459\n",
      "1258\n"
     ]
    }
   ],
   "source": [
    "detractor = survey[(survey['CUSTOMER_EFF_JOUR_NPS_GROUP'] == 'Detractor') & (survey['COMPANY_EFF_JOUR_NPS_GROUP'] == 'Detractor')].IMPROVEMENT_OPP.astype(str)\n",
    "print(len(detractor))\n",
    "\n",
    "promoter = survey[(survey['CUSTOMER_EFF_JOUR_NPS_GROUP'] == 'Promoter') & (survey['COMPANY_EFF_JOUR_NPS_GROUP'] == 'Promoter')].JOURNEY_SAT_OPEN.astype(str)\n",
    "print(len(promoter))"
   ]
  },
  {
   "cell_type": "code",
   "execution_count": 203,
   "metadata": {},
   "outputs": [
    {
     "name": "stdout",
     "output_type": "stream",
     "text": [
      "['i', 'me', 'my', 'myself', 'we', 'our', 'ours', 'ourselves', 'you', \"you're\", \"you've\", \"you'll\", \"you'd\", 'your', 'yours', 'yourself', 'yourselves', 'he', 'him', 'his', 'himself', 'she', \"she's\", 'her', 'hers', 'herself', 'it', \"it's\", 'its', 'itself', 'they', 'them', 'their', 'theirs', 'themselves', 'what', 'which', 'who', 'whom', 'this', 'that', \"that'll\", 'these', 'those', 'am', 'is', 'are', 'was', 'were', 'be', 'been', 'being', 'have', 'has', 'had', 'having', 'do', 'does', 'did', 'doing', 'a', 'an', 'the', 'and', 'but', 'if', 'or', 'because', 'as', 'until', 'while', 'of', 'at', 'by', 'for', 'with', 'about', 'against', 'between', 'into', 'through', 'during', 'before', 'after', 'above', 'below', 'to', 'from', 'up', 'down', 'in', 'out', 'on', 'off', 'over', 'under', 'again', 'further', 'then', 'once', 'here', 'there', 'when', 'where', 'why', 'how', 'all', 'any', 'both', 'each', 'few', 'more', 'most', 'other', 'some', 'such', 'no', 'nor', 'not', 'only', 'own', 'same', 'so', 'than', 'too', 'very', 's', 't', 'can', 'will', 'just', 'don', \"don't\", 'should', \"should've\", 'now', 'd', 'll', 'm', 'o', 're', 've', 'y', 'ain', 'aren', \"aren't\", 'couldn', \"couldn't\", 'didn', \"didn't\", 'doesn', \"doesn't\", 'hadn', \"hadn't\", 'hasn', \"hasn't\", 'haven', \"haven't\", 'isn', \"isn't\", 'ma', 'mightn', \"mightn't\", 'mustn', \"mustn't\", 'needn', \"needn't\", 'shan', \"shan't\", 'shouldn', \"shouldn't\", 'wasn', \"wasn't\", 'weren', \"weren't\", 'won', \"won't\", 'wouldn', \"wouldn't\"]\n",
      "Total numbers of stop words are \n",
      "179\n",
      "187\n"
     ]
    }
   ],
   "source": [
    "NLTK_stop_words_list=stopwords.words('english')\n",
    "print(NLTK_stop_words_list)\n",
    "print(\"Total numbers of stop words are \")\n",
    "print(len(NLTK_stop_words_list))\n",
    "\n",
    "custom_stop_word_list = ['nan', 'feel','like','customer','service','would','make','sure'\n",
    "                         ]\n",
    "final_stopword_list = custom_stop_word_list + NLTK_stop_words_list\n",
    "\n",
    "print(len(final_stopword_list))"
   ]
  },
  {
   "cell_type": "code",
   "execution_count": 209,
   "metadata": {},
   "outputs": [],
   "source": [
    "docs =[doc for doc in promoter ]\n",
    "docs = (' '.join(filter(None, docs))).lower()\n",
    "tokens = word_tokenize(docs)\n",
    "tokens = [t for t in tokens if t not in final_stopword_list]\n",
    "word_l = WordNetLemmatizer()\n",
    "tokens = [word_l.lemmatize(t) for t in tokens if t.isalpha()]"
   ]
  },
  {
   "cell_type": "code",
   "execution_count": 210,
   "metadata": {},
   "outputs": [
    {
     "data": {
      "text/plain": [
       "[(('issue', 'resolved'), 19),\n",
       " (('new', 'phone'), 14),\n",
       " (('resolve', 'issue'), 13),\n",
       " (('payment', 'arrangement'), 12),\n",
       " (('answered', 'question'), 10),\n",
       " (('every', 'time'), 10),\n",
       " (('extremely', 'helpful'), 8),\n",
       " (('right', 'away'), 8),\n",
       " (('resolved', 'issue'), 8),\n",
       " (('answer', 'question'), 8),\n",
       " (('new', 'device'), 7),\n",
       " (('solve', 'problem'), 7),\n",
       " (('took', 'time'), 7),\n",
       " (('pay', 'bill'), 7),\n",
       " (('taken', 'care'), 6),\n",
       " (('person', 'helped'), 6),\n",
       " (('billing', 'issue'), 6),\n",
       " (('phone', 'call'), 6),\n",
       " (('every', 'month'), 6),\n",
       " (('sale', 'person'), 6)]"
      ]
     },
     "execution_count": 210,
     "metadata": {},
     "output_type": "execute_result"
    }
   ],
   "source": [
    "n_grams = list(ngrams(tokens, 2)) \n",
    "counter = Counter(n_grams)\n",
    "common_ngrams = counter.most_common(20)\n",
    "common_ngrams"
   ]
  },
  {
   "cell_type": "code",
   "execution_count": 40,
   "metadata": {},
   "outputs": [],
   "source": [
    "vectorizer2= CountVectorizer(analyzer = 'word', ngram_range = (2,2), stop_words = final_stopword_list)\n",
    "X2 = vectorizer2.fit_transform(detractor)\n",
    "tri_grams = vectorizer2.get_feature_names()"
   ]
  },
  {
   "cell_type": "code",
   "execution_count": 41,
   "metadata": {},
   "outputs": [
    {
     "name": "stdout",
     "output_type": "stream",
     "text": [
      "['10 issue', 'advise issue', 'although issue', 'anyways issue', 'apple issue', 'area issue', 'arrangement issue', 'back issue', 'billing issue', 'bothered issue', 'call issue', 'callback issue', 'called issue', 'calls issue', 'card issue', 'care issue', 'causing issue', 'charged issue', 'clear issue', 'cleared issue', 'complicated issue', 'computer issue', 'connection issue', 'continue issue', 'corrected issue', 'coverage issue', 'credit issue', 'days issue', 'deal issue', 'dns issue', 'employees issue', 'every issue', 'exactly issue', 'excellent issue', 'expedited issue', 'explained issue', 'figure issue', 'financial issue', 'first issue', 'fix issue', 'fixed issue', 'fixing issue', 'get issue', 'got issue', 'handled issue', 'help issue', 'helped issue', 'helpful issue', 'horrible issue', 'however issue', 'instead issue', 'knew issue', 'know issue', 'level issue', 'log issue', 'looked issue', 'lot issue', 'minor issue', 'mobile issue', 'never issue', 'part issue', 'particular issue', 'people issue', 'pertain issue', 'pertaining issue', 'policy issue', 'previously issue', 'problem issue', 'process issue', 'professional issue', 'ran issue', 'rated issue', 'regarding issue', 'research issue', 'researched issue', 'resolution issue', 'resolve issue', 'resolved issue', 'resolving issue', 'safety issue', 'satisfied issue', 'see issue', 'service issue', 'significant issue', 'sim issue', 'small issue', 'smile issue', 'solve issue', 'solved issue', 'still issue', 'stop issue', 'support issue', 'sure issue', 'telling issue', 'thought issue', 'till issue', 'time issue', 'tmobile issue', 'turned issue', 'understand issue', 'understanding issue', 'understood issue', 'warranty issue', 'wearable issue', 'without issue', 'wrong issue']\n"
     ]
    }
   ],
   "source": [
    "# Checking strings end with the word\n",
    "newlist = []\n",
    "for t in tri_grams:\n",
    "    if t.endswith('issue'):\n",
    "        newlist.append(t)\n",
    "print(newlist)"
   ]
  },
  {
   "cell_type": "code",
   "execution_count": 160,
   "metadata": {},
   "outputs": [
    {
     "name": "stdout",
     "output_type": "stream",
     "text": [
      "['monthly bill', 'monthly credit', 'monthly expenditures', 'monthly family', 'monthly fee', 'monthly first', 'monthly line', 'monthly pay', 'monthly payment', 'monthly payments', 'monthly plan', 'monthly rate', 'monthly statement', 'monthly thanks']\n"
     ]
    }
   ],
   "source": [
    "# Checking strings start with the word\n",
    "r = re.compile('monthly')\n",
    "newlist = list(filter(r.match, tri_grams))\n",
    "print(newlist)"
   ]
  },
  {
   "cell_type": "code",
   "execution_count": 305,
   "metadata": {},
   "outputs": [
    {
     "name": "stdout",
     "output_type": "stream",
     "text": [
      "1689    I have not been able to log in to my account since Sept. Every month I have to call to pay my bill. They try and resolve the issue, but next month same problem. At this point I refuse to change my password again. I will not pay a fee to pay my bill and I can not change my plan because I can not log in. I have to consider changing carriers, my account is nothing to T-Mobile, but being able to log in with the log in information of my choosing means everything to me.\n",
      "4018                                                                                                                           Every time I try to log on the website to make a payment I go through all security questions regardless if my password is correct or not. I would understand going through the questions if my password is incorrect, but it happens every time. Plus I have to get the verification code through text as well. How to avoid 10 steps just to make a payment?\n",
      "Name: JOURNEY_SAT_OPEN, dtype: object\n"
     ]
    }
   ],
   "source": [
    "# Checking documents contain certain string\n",
    "pattern = 'password'\n",
    "filter_values = promoter[promoter.str.contains(pattern, case = False, na = False)]\n",
    "print(filter_values)"
   ]
  },
  {
   "cell_type": "markdown",
   "metadata": {},
   "source": [
    "## document classification"
   ]
  },
  {
   "cell_type": "code",
   "execution_count": 259,
   "metadata": {},
   "outputs": [],
   "source": [
    "from sklearn.datasets import fetch_20newsgroups\n",
    "from sklearn.decomposition import TruncatedSVD\n",
    "from sklearn.feature_extraction.text import TfidfVectorizer\n",
    "from sklearn.feature_extraction.text import HashingVectorizer\n",
    "from sklearn.feature_extraction.text import TfidfTransformer\n",
    "from sklearn.pipeline import make_pipeline\n",
    "from sklearn.preprocessing import Normalizer\n",
    "from sklearn import metrics\n",
    "\n",
    "from sklearn.cluster import KMeans, MiniBatchKMeans\n",
    "\n",
    "import logging\n",
    "from optparse import OptionParser\n",
    "import sys\n",
    "from time import time\n",
    "\n",
    "import numpy as np"
   ]
  },
  {
   "cell_type": "code",
   "execution_count": 260,
   "metadata": {},
   "outputs": [
    {
     "name": "stdout",
     "output_type": "stream",
     "text": [
      "Automatically created module for IPython interactive environment\n",
      "Usage: ipykernel_launcher.py [options]\n",
      "\n",
      "Options:\n",
      "  -h, --help            show this help message and exit\n",
      "  --lsa=N_COMPONENTS    Preprocess documents with latent semantic analysis.\n",
      "  --no-minibatch        Use ordinary k-means algorithm (in batch mode).\n",
      "  --no-idf              Disable Inverse Document Frequency feature weighting.\n",
      "  --use-hashing         Use a hashing feature vectorizer\n",
      "  --n-features=N_FEATURES\n",
      "                        Maximum number of features (dimensions) to extract\n",
      "                        from text.\n",
      "  --verbose             Print progress reports inside k-means algorithm.\n"
     ]
    }
   ],
   "source": [
    "# Display progress logs on stdout\n",
    "logging.basicConfig(level=logging.INFO,\n",
    "                    format='%(asctime)s %(levelname)s %(message)s')\n",
    "\n",
    "# parse commandline arguments\n",
    "op = OptionParser()\n",
    "op.add_option(\"--lsa\",\n",
    "              dest=\"n_components\", type=\"int\",\n",
    "              help=\"Preprocess documents with latent semantic analysis.\")\n",
    "op.add_option(\"--no-minibatch\",\n",
    "              action=\"store_false\", dest=\"minibatch\", default=True,\n",
    "              help=\"Use ordinary k-means algorithm (in batch mode).\")\n",
    "op.add_option(\"--no-idf\",\n",
    "              action=\"store_false\", dest=\"use_idf\", default=True,\n",
    "              help=\"Disable Inverse Document Frequency feature weighting.\")\n",
    "op.add_option(\"--use-hashing\",\n",
    "              action=\"store_true\", default=False,\n",
    "              help=\"Use a hashing feature vectorizer\")\n",
    "op.add_option(\"--n-features\", type=int, default=10000,\n",
    "              help=\"Maximum number of features (dimensions)\"\n",
    "                   \" to extract from text.\")\n",
    "op.add_option(\"--verbose\",\n",
    "              action=\"store_true\", dest=\"verbose\", default=False,\n",
    "              help=\"Print progress reports inside k-means algorithm.\")\n",
    "\n",
    "print(__doc__)\n",
    "op.print_help()\n",
    "\n",
    "def is_interactive():\n",
    "    return not hasattr(sys.modules['__main__'], '__file__')\n",
    "\n",
    "\n",
    "# work-around for Jupyter notebook and IPython console\n",
    "argv = [] if is_interactive() else sys.argv[1:]\n",
    "(opts, args) = op.parse_args(argv)\n",
    "if len(args) > 0:\n",
    "    op.error(\"this script takes no arguments.\")\n",
    "    sys.exit(1)\n"
   ]
  },
  {
   "cell_type": "code",
   "execution_count": 291,
   "metadata": {},
   "outputs": [
    {
     "name": "stdout",
     "output_type": "stream",
     "text": [
      "done in 0.038908s\n",
      "n_samples: 1258, n_features: 632\n",
      "\n"
     ]
    }
   ],
   "source": [
    "t0 = time()\n",
    "if opts.use_hashing:\n",
    "    if opts.use_idf:\n",
    "        # Perform an IDF normalization on the output of HashingVectorizer\n",
    "        hasher = HashingVectorizer(n_features=opts.n_features,\n",
    "                                   stop_words=final_stopword_list, alternate_sign=False,\n",
    "                                   norm=None)\n",
    "        vectorizer = make_pipeline(hasher, TfidfTransformer())\n",
    "    else:\n",
    "        vectorizer = HashingVectorizer(n_features=opts.n_features,\n",
    "                                       stop_words=final_stopword_list,\n",
    "                                       alternate_sign=False, norm='l2')\n",
    "else:\n",
    "    vectorizer = TfidfVectorizer(max_df=0.5, max_features=opts.n_features,\n",
    "                                 min_df=2, stop_words=final_stopword_list,\n",
    "                                 use_idf=opts.use_idf)\n",
    "X = vectorizer.fit_transform(promoter)\n",
    "\n",
    "print(\"done in %fs\" % (time() - t0))\n",
    "print(\"n_samples: %d, n_features: %d\" % X.shape)\n",
    "print()\n",
    "\n",
    "if opts.n_components:\n",
    "    print(\"Performing dimensionality reduction using LSA\")\n",
    "    t0 = time()\n",
    "    # Vectorizer results are normalized, which makes KMeans behave as\n",
    "    # spherical k-means for better results. Since LSA/SVD results are\n",
    "    # not normalized, we have to redo the normalization.\n",
    "    svd = TruncatedSVD(opts.n_components)\n",
    "    normalizer = Normalizer(copy=False)\n",
    "    lsa = make_pipeline(svd, normalizer)\n",
    "\n",
    "    X = lsa.fit_transform(X)\n",
    "\n",
    "    print(\"done in %fs\" % (time() - t0))\n",
    "\n",
    "    explained_variance = svd.explained_variance_ratio_.sum()\n",
    "    print(\"Explained variance of the SVD step: {}%\".format(\n",
    "        int(explained_variance * 100)))\n",
    "\n",
    "    print()\n",
    "\n"
   ]
  },
  {
   "cell_type": "code",
   "execution_count": 292,
   "metadata": {},
   "outputs": [
    {
     "name": "stdout",
     "output_type": "stream",
     "text": [
      "(1258, 632)\n"
     ]
    }
   ],
   "source": [
    "print(X.shape)"
   ]
  },
  {
   "cell_type": "code",
   "execution_count": 297,
   "metadata": {},
   "outputs": [],
   "source": [
    "true_k = 5"
   ]
  },
  {
   "cell_type": "code",
   "execution_count": 298,
   "metadata": {},
   "outputs": [
    {
     "name": "stdout",
     "output_type": "stream",
     "text": [
      "Clustering sparse data with MiniBatchKMeans(batch_size=1000, init_size=1000, n_clusters=5, n_init=1,\n",
      "                random_state=1234, verbose=False)\n",
      "done in 0.076s\n",
      "\n",
      "Silhouette Coefficient: 0.166\n",
      "\n"
     ]
    }
   ],
   "source": [
    "if opts.minibatch:\n",
    "    km = MiniBatchKMeans(n_clusters=true_k, init='k-means++', n_init=1,\n",
    "                         init_size=1000, batch_size=1000, verbose=opts.verbose, random_state = 1234)\n",
    "else:\n",
    "    km = KMeans(n_clusters=true_k, init='k-means++', max_iter=100, n_init=1,\n",
    "                verbose=opts.verbose, random_state = 1234)\n",
    "\n",
    "print(\"Clustering sparse data with %s\" % km)\n",
    "t0 = time()\n",
    "km.fit(X)\n",
    "print(\"done in %0.3fs\" % (time() - t0))\n",
    "print()\n",
    "# This measure has range [-1,1], if it's near 1 indicate that the sample is far away from the neighboring clusters. \n",
    "# Close to 0 indicate that the sample is on or very close to the decision boundary.\n",
    "# Negative values indicate that the samples might have been assigned to the wrong cluster.\n",
    "\n",
    "print(\"Silhouette Coefficient: %0.3f\"\n",
    "      % metrics.silhouette_score(X, km.labels_, sample_size=1000))\n",
    "\n",
    "print()"
   ]
  },
  {
   "cell_type": "code",
   "execution_count": 299,
   "metadata": {},
   "outputs": [
    {
     "name": "stdout",
     "output_type": "stream",
     "text": [
      "Top terms per cluster:\n",
      "Cluster 0: 10 excellent yet failed fees fee fault fast far fantastic\n",
      "Cluster 1: nice helpful helped person professional rep good support understanding representative\n",
      "Cluster 2: password every questions payment time incorrect log plus happens website\n",
      "Cluster 3: helpful rep knowledgeable professional person staff polite sales courteous friendly\n",
      "Cluster 4: great good phone easy mobile problem excellent resolved help always\n"
     ]
    }
   ],
   "source": [
    "if not opts.use_hashing:\n",
    "    print(\"Top terms per cluster:\")\n",
    "\n",
    "    if opts.n_components:\n",
    "        original_space_centroids = svd.inverse_transform(km.cluster_centers_)\n",
    "        order_centroids = original_space_centroids.argsort()[:, ::-1]\n",
    "    else:\n",
    "        order_centroids = km.cluster_centers_.argsort()[:, ::-1]\n",
    "\n",
    "    terms = vectorizer.get_feature_names()\n",
    "    for i in range(true_k):\n",
    "        print(\"Cluster %d:\" % i, end='')\n",
    "        for ind in order_centroids[i, :10]:\n",
    "            print(' %s' % terms[ind], end='')\n",
    "        print()"
   ]
  },
  {
   "cell_type": "code",
   "execution_count": 300,
   "metadata": {},
   "outputs": [
    {
     "data": {
      "text/plain": [
       "[(4, 1140), (3, 51), (0, 42), (1, 24), (2, 1)]"
      ]
     },
     "execution_count": 300,
     "metadata": {},
     "output_type": "execute_result"
    }
   ],
   "source": [
    "labels = km.predict(X)\n",
    "freq =Counter(labels)\n",
    "freq.most_common()"
   ]
  },
  {
   "cell_type": "code",
   "execution_count": 301,
   "metadata": {},
   "outputs": [
    {
     "data": {
      "text/plain": [
       "Text(0, 0.5, 'Number of Text')"
      ]
     },
     "execution_count": 301,
     "metadata": {},
     "output_type": "execute_result"
    },
    {
     "data": {
      "image/png": "[encoded data removed]",
      "text/plain": [
       "<Figure size 432x288 with 1 Axes>"
      ]
     },
     "metadata": {
      "needs_background": "light"
     },
     "output_type": "display_data"
    }
   ],
   "source": [
    "plt.bar(freq.keys(), freq.values())\n",
    "plt.xlabel(\"Cluster Label\")\n",
    "plt.ylabel(\"Number of Text\")"
   ]
  },
  {
   "cell_type": "code",
   "execution_count": 187,
   "metadata": {},
   "outputs": [],
   "source": [
    "inertias = []\n",
    "mapping = {}\n",
    "K = range(1, 25)\n",
    "\n",
    "for k in K:\n",
    "\tkm.fit(X)\n",
    "\tinertias.append(km.inertia_) #the sum of squared distances of samples to their closest cluster center.\n",
    "\tmapping[k] = km.inertia_"
   ]
  },
  {
   "cell_type": "code",
   "execution_count": 188,
   "metadata": {},
   "outputs": [
    {
     "data": {
      "image/png": "[encoded data removed]",
      "text/plain": [
       "<Figure size 432x288 with 1 Axes>"
      ]
     },
     "metadata": {
      "needs_background": "light"
     },
     "output_type": "display_data"
    }
   ],
   "source": [
    "plt.plot(K, inertias, 'bx-')\n",
    "plt.xlabel('Values of K')\n",
    "plt.ylabel('inertias')\n",
    "plt.title('The Elbow Method using inertias')\n",
    "plt.show()"
   ]
  },
  {
   "cell_type": "markdown",
   "metadata": {},
   "source": [
    "## What made a customer detractor"
   ]
  },
  {
   "cell_type": "markdown",
   "metadata": {},
   "source": [
    "## What made a customer promoter"
   ]
  },
  {
   "cell_type": "code",
   "execution_count": null,
   "metadata": {},
   "outputs": [],
   "source": []
  },
  {
   "cell_type": "code",
   "execution_count": null,
   "metadata": {},
   "outputs": [],
   "source": []
  },
  {
   "cell_type": "markdown",
   "metadata": {},
   "source": []
  }
 ],
 "metadata": {
  "interpreter": {
   "hash": "1574dca48e308cc3651c67f51f75a30afa86eab0bc083143ae8f6c47936081de"
  },
  "kernelspec": {
   "display_name": "Python 3.6.4 32-bit",
   "language": "python",
   "name": "python3"
  },
  "language_info": {
   "codemirror_mode": {
    "name": "ipython",
    "version": 3
   },
   "file_extension": ".py",
   "mimetype": "text/x-python",
   "name": "python",
   "nbconvert_exporter": "python",
   "pygments_lexer": "ipython3",
   "version": "3.6.4"
  },
  "orig_nbformat": 4
 },
 "nbformat": 4,
 "nbformat_minor": 2
}
